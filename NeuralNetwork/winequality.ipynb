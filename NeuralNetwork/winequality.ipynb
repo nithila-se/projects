{
  "cells": [
    {
      "cell_type": "markdown",
      "id": "66681ee8",
      "metadata": {
        "papermill": {
          "duration": 0.053512,
          "end_time": "2022-03-22T02:40:23.128357",
          "exception": false,
          "start_time": "2022-03-22T02:40:23.074845",
          "status": "completed"
        },
        "tags": [],
        "id": "66681ee8"
      },
      "source": [
        "## Import Libraries"
      ]
    },
    {
      "cell_type": "code",
      "execution_count": 1,
      "id": "73de8f70",
      "metadata": {
        "execution": {
          "iopub.execute_input": "2022-03-22T02:40:23.247799Z",
          "iopub.status.busy": "2022-03-22T02:40:23.243823Z",
          "iopub.status.idle": "2022-03-22T02:40:23.257677Z",
          "shell.execute_reply": "2022-03-22T02:40:23.258243Z",
          "shell.execute_reply.started": "2022-03-22T02:29:10.094652Z"
        },
        "papermill": {
          "duration": 0.078529,
          "end_time": "2022-03-22T02:40:23.258585",
          "exception": false,
          "start_time": "2022-03-22T02:40:23.180056",
          "status": "completed"
        },
        "tags": [],
        "id": "73de8f70"
      },
      "outputs": [],
      "source": [
        "# This Python 3 environment comes with many helpful analytics libraries installed\n",
        "# It is defined by the kaggle/python Docker image: https://github.com/kaggle/docker-python\n",
        "# For example, here's several helpful packages to load\n",
        "\n",
        "import numpy as np # linear algebra\n",
        "import pandas as pd # data processing, CSV file I/O (e.g. pd.read_csv)\n",
        "\n",
        "# Input data files are available in the read-only \"../input/\" directory\n",
        "# For example, running this (by clicking run or pressing Shift+Enter) will list all files under the input directory\n",
        "\n",
        "# import os\n",
        "# for dirname, _, filenames in os.walk('/kaggle/input'):\n",
        "#     for filename in filenames:\n",
        "#         print(os.path.join(dirname, filename))\n",
        "\n",
        "# You can write up to 20GB to the current directory (/kaggle/working/) that gets preserved as output when you create a version using \"Save & Run All\" \n",
        "# You can also write temporary files to /kaggle/temp/, but they won't be saved outside of the current session"
      ]
    },
    {
      "cell_type": "code",
      "execution_count": 2,
      "id": "b83095cb",
      "metadata": {
        "execution": {
          "iopub.execute_input": "2022-03-22T02:40:23.369174Z",
          "iopub.status.busy": "2022-03-22T02:40:23.368107Z",
          "iopub.status.idle": "2022-03-22T02:40:29.483262Z",
          "shell.execute_reply": "2022-03-22T02:40:29.483836Z",
          "shell.execute_reply.started": "2022-03-22T02:29:10.177070Z"
        },
        "papermill": {
          "duration": 6.172096,
          "end_time": "2022-03-22T02:40:29.484031",
          "exception": false,
          "start_time": "2022-03-22T02:40:23.311935",
          "status": "completed"
        },
        "tags": [],
        "id": "b83095cb"
      },
      "outputs": [],
      "source": [
        "import numpy as np # conda install numpy\n",
        "import tensorflow as tf \n",
        "import matplotlib.pyplot as plt # conda install matplotlib\n",
        "import pandas as pd # conda install pandas\n",
        "import seaborn as sns # conda install seaborn\n",
        "\n",
        "from sklearn.preprocessing import StandardScaler\n",
        "%matplotlib inline\n",
        "\n",
        "from sklearn.metrics import confusion_matrix\n",
        "from sklearn.model_selection import train_test_split\n",
        "from sklearn.model_selection import cross_val_score\n",
        "\n",
        "import warnings\n",
        "warnings.filterwarnings(\"ignore\", category=FutureWarning)\n"
      ]
    },
    {
      "cell_type": "markdown",
      "id": "3480a421",
      "metadata": {
        "papermill": {
          "duration": 0.051603,
          "end_time": "2022-03-22T02:40:29.587856",
          "exception": false,
          "start_time": "2022-03-22T02:40:29.536253",
          "status": "completed"
        },
        "tags": [],
        "id": "3480a421"
      },
      "source": [
        "## Data Loading"
      ]
    },
    {
      "cell_type": "code",
      "execution_count": 4,
      "id": "94bc23d1",
      "metadata": {
        "execution": {
          "iopub.execute_input": "2022-03-22T02:40:29.695351Z",
          "iopub.status.busy": "2022-03-22T02:40:29.694624Z",
          "iopub.status.idle": "2022-03-22T02:40:29.753588Z",
          "shell.execute_reply": "2022-03-22T02:40:29.754087Z",
          "shell.execute_reply.started": "2022-03-22T02:29:16.164563Z"
        },
        "papermill": {
          "duration": 0.115029,
          "end_time": "2022-03-22T02:40:29.754255",
          "exception": false,
          "start_time": "2022-03-22T02:40:29.639226",
          "status": "completed"
        },
        "tags": [],
        "id": "94bc23d1",
        "outputId": "9fa3c6ad-089d-444a-9508-3fe62ffffde8",
        "colab": {
          "base_uri": "https://localhost:8080/",
          "height": 488
        }
      },
      "outputs": [
        {
          "output_type": "execute_result",
          "data": {
            "text/plain": [
              "      fixed_acidity  volatile_acidity  citric_acid  residual_sugar  chlorides  \\\n",
              "0               7.4             0.700         0.00             1.9      0.076   \n",
              "1               7.8             0.880         0.00             2.6      0.098   \n",
              "2               7.8             0.760         0.04             2.3      0.092   \n",
              "3              11.2             0.280         0.56             1.9      0.075   \n",
              "4               7.4             0.700         0.00             1.9      0.076   \n",
              "...             ...               ...          ...             ...        ...   \n",
              "1594            6.2             0.600         0.08             2.0      0.090   \n",
              "1595            5.9             0.550         0.10             2.2      0.062   \n",
              "1596            6.3             0.510         0.13             2.3      0.076   \n",
              "1597            5.9             0.645         0.12             2.0      0.075   \n",
              "1598            6.0             0.310         0.47             3.6      0.067   \n",
              "\n",
              "      free_sulfur_dioxide  total_sulfur_dioxide  density    pH  sulphates  \\\n",
              "0                    11.0                  34.0  0.99780  3.51       0.56   \n",
              "1                    25.0                  67.0  0.99680  3.20       0.68   \n",
              "2                    15.0                  54.0  0.99700  3.26       0.65   \n",
              "3                    17.0                  60.0  0.99800  3.16       0.58   \n",
              "4                    11.0                  34.0  0.99780  3.51       0.56   \n",
              "...                   ...                   ...      ...   ...        ...   \n",
              "1594                 32.0                  44.0  0.99490  3.45       0.58   \n",
              "1595                 39.0                  51.0  0.99512  3.52       0.76   \n",
              "1596                 29.0                  40.0  0.99574  3.42       0.75   \n",
              "1597                 32.0                  44.0  0.99547  3.57       0.71   \n",
              "1598                 18.0                  42.0  0.99549  3.39       0.66   \n",
              "\n",
              "      alcohol  quality  \n",
              "0         9.4        5  \n",
              "1         9.8        5  \n",
              "2         9.8        5  \n",
              "3         9.8        6  \n",
              "4         9.4        5  \n",
              "...       ...      ...  \n",
              "1594     10.5        5  \n",
              "1595     11.2        6  \n",
              "1596     11.0        6  \n",
              "1597     10.2        5  \n",
              "1598     11.0        6  \n",
              "\n",
              "[1599 rows x 12 columns]"
            ],
            "text/html": [
              "\n",
              "  <div id=\"df-e353fb57-4fb3-4a70-9b5f-4d2da33a0124\">\n",
              "    <div class=\"colab-df-container\">\n",
              "      <div>\n",
              "<style scoped>\n",
              "    .dataframe tbody tr th:only-of-type {\n",
              "        vertical-align: middle;\n",
              "    }\n",
              "\n",
              "    .dataframe tbody tr th {\n",
              "        vertical-align: top;\n",
              "    }\n",
              "\n",
              "    .dataframe thead th {\n",
              "        text-align: right;\n",
              "    }\n",
              "</style>\n",
              "<table border=\"1\" class=\"dataframe\">\n",
              "  <thead>\n",
              "    <tr style=\"text-align: right;\">\n",
              "      <th></th>\n",
              "      <th>fixed_acidity</th>\n",
              "      <th>volatile_acidity</th>\n",
              "      <th>citric_acid</th>\n",
              "      <th>residual_sugar</th>\n",
              "      <th>chlorides</th>\n",
              "      <th>free_sulfur_dioxide</th>\n",
              "      <th>total_sulfur_dioxide</th>\n",
              "      <th>density</th>\n",
              "      <th>pH</th>\n",
              "      <th>sulphates</th>\n",
              "      <th>alcohol</th>\n",
              "      <th>quality</th>\n",
              "    </tr>\n",
              "  </thead>\n",
              "  <tbody>\n",
              "    <tr>\n",
              "      <th>0</th>\n",
              "      <td>7.4</td>\n",
              "      <td>0.700</td>\n",
              "      <td>0.00</td>\n",
              "      <td>1.9</td>\n",
              "      <td>0.076</td>\n",
              "      <td>11.0</td>\n",
              "      <td>34.0</td>\n",
              "      <td>0.99780</td>\n",
              "      <td>3.51</td>\n",
              "      <td>0.56</td>\n",
              "      <td>9.4</td>\n",
              "      <td>5</td>\n",
              "    </tr>\n",
              "    <tr>\n",
              "      <th>1</th>\n",
              "      <td>7.8</td>\n",
              "      <td>0.880</td>\n",
              "      <td>0.00</td>\n",
              "      <td>2.6</td>\n",
              "      <td>0.098</td>\n",
              "      <td>25.0</td>\n",
              "      <td>67.0</td>\n",
              "      <td>0.99680</td>\n",
              "      <td>3.20</td>\n",
              "      <td>0.68</td>\n",
              "      <td>9.8</td>\n",
              "      <td>5</td>\n",
              "    </tr>\n",
              "    <tr>\n",
              "      <th>2</th>\n",
              "      <td>7.8</td>\n",
              "      <td>0.760</td>\n",
              "      <td>0.04</td>\n",
              "      <td>2.3</td>\n",
              "      <td>0.092</td>\n",
              "      <td>15.0</td>\n",
              "      <td>54.0</td>\n",
              "      <td>0.99700</td>\n",
              "      <td>3.26</td>\n",
              "      <td>0.65</td>\n",
              "      <td>9.8</td>\n",
              "      <td>5</td>\n",
              "    </tr>\n",
              "    <tr>\n",
              "      <th>3</th>\n",
              "      <td>11.2</td>\n",
              "      <td>0.280</td>\n",
              "      <td>0.56</td>\n",
              "      <td>1.9</td>\n",
              "      <td>0.075</td>\n",
              "      <td>17.0</td>\n",
              "      <td>60.0</td>\n",
              "      <td>0.99800</td>\n",
              "      <td>3.16</td>\n",
              "      <td>0.58</td>\n",
              "      <td>9.8</td>\n",
              "      <td>6</td>\n",
              "    </tr>\n",
              "    <tr>\n",
              "      <th>4</th>\n",
              "      <td>7.4</td>\n",
              "      <td>0.700</td>\n",
              "      <td>0.00</td>\n",
              "      <td>1.9</td>\n",
              "      <td>0.076</td>\n",
              "      <td>11.0</td>\n",
              "      <td>34.0</td>\n",
              "      <td>0.99780</td>\n",
              "      <td>3.51</td>\n",
              "      <td>0.56</td>\n",
              "      <td>9.4</td>\n",
              "      <td>5</td>\n",
              "    </tr>\n",
              "    <tr>\n",
              "      <th>...</th>\n",
              "      <td>...</td>\n",
              "      <td>...</td>\n",
              "      <td>...</td>\n",
              "      <td>...</td>\n",
              "      <td>...</td>\n",
              "      <td>...</td>\n",
              "      <td>...</td>\n",
              "      <td>...</td>\n",
              "      <td>...</td>\n",
              "      <td>...</td>\n",
              "      <td>...</td>\n",
              "      <td>...</td>\n",
              "    </tr>\n",
              "    <tr>\n",
              "      <th>1594</th>\n",
              "      <td>6.2</td>\n",
              "      <td>0.600</td>\n",
              "      <td>0.08</td>\n",
              "      <td>2.0</td>\n",
              "      <td>0.090</td>\n",
              "      <td>32.0</td>\n",
              "      <td>44.0</td>\n",
              "      <td>0.99490</td>\n",
              "      <td>3.45</td>\n",
              "      <td>0.58</td>\n",
              "      <td>10.5</td>\n",
              "      <td>5</td>\n",
              "    </tr>\n",
              "    <tr>\n",
              "      <th>1595</th>\n",
              "      <td>5.9</td>\n",
              "      <td>0.550</td>\n",
              "      <td>0.10</td>\n",
              "      <td>2.2</td>\n",
              "      <td>0.062</td>\n",
              "      <td>39.0</td>\n",
              "      <td>51.0</td>\n",
              "      <td>0.99512</td>\n",
              "      <td>3.52</td>\n",
              "      <td>0.76</td>\n",
              "      <td>11.2</td>\n",
              "      <td>6</td>\n",
              "    </tr>\n",
              "    <tr>\n",
              "      <th>1596</th>\n",
              "      <td>6.3</td>\n",
              "      <td>0.510</td>\n",
              "      <td>0.13</td>\n",
              "      <td>2.3</td>\n",
              "      <td>0.076</td>\n",
              "      <td>29.0</td>\n",
              "      <td>40.0</td>\n",
              "      <td>0.99574</td>\n",
              "      <td>3.42</td>\n",
              "      <td>0.75</td>\n",
              "      <td>11.0</td>\n",
              "      <td>6</td>\n",
              "    </tr>\n",
              "    <tr>\n",
              "      <th>1597</th>\n",
              "      <td>5.9</td>\n",
              "      <td>0.645</td>\n",
              "      <td>0.12</td>\n",
              "      <td>2.0</td>\n",
              "      <td>0.075</td>\n",
              "      <td>32.0</td>\n",
              "      <td>44.0</td>\n",
              "      <td>0.99547</td>\n",
              "      <td>3.57</td>\n",
              "      <td>0.71</td>\n",
              "      <td>10.2</td>\n",
              "      <td>5</td>\n",
              "    </tr>\n",
              "    <tr>\n",
              "      <th>1598</th>\n",
              "      <td>6.0</td>\n",
              "      <td>0.310</td>\n",
              "      <td>0.47</td>\n",
              "      <td>3.6</td>\n",
              "      <td>0.067</td>\n",
              "      <td>18.0</td>\n",
              "      <td>42.0</td>\n",
              "      <td>0.99549</td>\n",
              "      <td>3.39</td>\n",
              "      <td>0.66</td>\n",
              "      <td>11.0</td>\n",
              "      <td>6</td>\n",
              "    </tr>\n",
              "  </tbody>\n",
              "</table>\n",
              "<p>1599 rows × 12 columns</p>\n",
              "</div>\n",
              "      <button class=\"colab-df-convert\" onclick=\"convertToInteractive('df-e353fb57-4fb3-4a70-9b5f-4d2da33a0124')\"\n",
              "              title=\"Convert this dataframe to an interactive table.\"\n",
              "              style=\"display:none;\">\n",
              "        \n",
              "  <svg xmlns=\"http://www.w3.org/2000/svg\" height=\"24px\"viewBox=\"0 0 24 24\"\n",
              "       width=\"24px\">\n",
              "    <path d=\"M0 0h24v24H0V0z\" fill=\"none\"/>\n",
              "    <path d=\"M18.56 5.44l.94 2.06.94-2.06 2.06-.94-2.06-.94-.94-2.06-.94 2.06-2.06.94zm-11 1L8.5 8.5l.94-2.06 2.06-.94-2.06-.94L8.5 2.5l-.94 2.06-2.06.94zm10 10l.94 2.06.94-2.06 2.06-.94-2.06-.94-.94-2.06-.94 2.06-2.06.94z\"/><path d=\"M17.41 7.96l-1.37-1.37c-.4-.4-.92-.59-1.43-.59-.52 0-1.04.2-1.43.59L10.3 9.45l-7.72 7.72c-.78.78-.78 2.05 0 2.83L4 21.41c.39.39.9.59 1.41.59.51 0 1.02-.2 1.41-.59l7.78-7.78 2.81-2.81c.8-.78.8-2.07 0-2.86zM5.41 20L4 18.59l7.72-7.72 1.47 1.35L5.41 20z\"/>\n",
              "  </svg>\n",
              "      </button>\n",
              "      \n",
              "  <style>\n",
              "    .colab-df-container {\n",
              "      display:flex;\n",
              "      flex-wrap:wrap;\n",
              "      gap: 12px;\n",
              "    }\n",
              "\n",
              "    .colab-df-convert {\n",
              "      background-color: #E8F0FE;\n",
              "      border: none;\n",
              "      border-radius: 50%;\n",
              "      cursor: pointer;\n",
              "      display: none;\n",
              "      fill: #1967D2;\n",
              "      height: 32px;\n",
              "      padding: 0 0 0 0;\n",
              "      width: 32px;\n",
              "    }\n",
              "\n",
              "    .colab-df-convert:hover {\n",
              "      background-color: #E2EBFA;\n",
              "      box-shadow: 0px 1px 2px rgba(60, 64, 67, 0.3), 0px 1px 3px 1px rgba(60, 64, 67, 0.15);\n",
              "      fill: #174EA6;\n",
              "    }\n",
              "\n",
              "    [theme=dark] .colab-df-convert {\n",
              "      background-color: #3B4455;\n",
              "      fill: #D2E3FC;\n",
              "    }\n",
              "\n",
              "    [theme=dark] .colab-df-convert:hover {\n",
              "      background-color: #434B5C;\n",
              "      box-shadow: 0px 1px 3px 1px rgba(0, 0, 0, 0.15);\n",
              "      filter: drop-shadow(0px 1px 2px rgba(0, 0, 0, 0.3));\n",
              "      fill: #FFFFFF;\n",
              "    }\n",
              "  </style>\n",
              "\n",
              "      <script>\n",
              "        const buttonEl =\n",
              "          document.querySelector('#df-e353fb57-4fb3-4a70-9b5f-4d2da33a0124 button.colab-df-convert');\n",
              "        buttonEl.style.display =\n",
              "          google.colab.kernel.accessAllowed ? 'block' : 'none';\n",
              "\n",
              "        async function convertToInteractive(key) {\n",
              "          const element = document.querySelector('#df-e353fb57-4fb3-4a70-9b5f-4d2da33a0124');\n",
              "          const dataTable =\n",
              "            await google.colab.kernel.invokeFunction('convertToInteractive',\n",
              "                                                     [key], {});\n",
              "          if (!dataTable) return;\n",
              "\n",
              "          const docLinkHtml = 'Like what you see? Visit the ' +\n",
              "            '<a target=\"_blank\" href=https://colab.research.google.com/notebooks/data_table.ipynb>data table notebook</a>'\n",
              "            + ' to learn more about interactive tables.';\n",
              "          element.innerHTML = '';\n",
              "          dataTable['output_type'] = 'display_data';\n",
              "          await google.colab.output.renderOutput(dataTable, element);\n",
              "          const docLink = document.createElement('div');\n",
              "          docLink.innerHTML = docLinkHtml;\n",
              "          element.appendChild(docLink);\n",
              "        }\n",
              "      </script>\n",
              "    </div>\n",
              "  </div>\n",
              "  "
            ]
          },
          "metadata": {},
          "execution_count": 4
        }
      ],
      "source": [
        "data = pd.read_csv('/content/winequality-red.csv')\n",
        "data.columns = ['fixed_acidity', 'volatile_acidity', 'citric_acid', 'residual_sugar', 'chlorides'\n",
        "                , 'free_sulfur_dioxide', 'total_sulfur_dioxide', 'density', 'pH', 'sulphates', 'alcohol', 'quality']\n",
        "data"
      ]
    },
    {
      "cell_type": "markdown",
      "id": "b935c8b3",
      "metadata": {
        "papermill": {
          "duration": 0.051969,
          "end_time": "2022-03-22T02:40:29.859465",
          "exception": false,
          "start_time": "2022-03-22T02:40:29.807496",
          "status": "completed"
        },
        "tags": [],
        "id": "b935c8b3"
      },
      "source": [
        "## EDA and Exploring features"
      ]
    },
    {
      "cell_type": "code",
      "execution_count": 5,
      "id": "a8425c38",
      "metadata": {
        "execution": {
          "iopub.execute_input": "2022-03-22T02:40:29.970096Z",
          "iopub.status.busy": "2022-03-22T02:40:29.969419Z",
          "iopub.status.idle": "2022-03-22T02:40:29.971868Z",
          "shell.execute_reply": "2022-03-22T02:40:29.972466Z",
          "shell.execute_reply.started": "2022-03-22T02:29:16.218020Z"
        },
        "papermill": {
          "duration": 0.061016,
          "end_time": "2022-03-22T02:40:29.972635",
          "exception": false,
          "start_time": "2022-03-22T02:40:29.911619",
          "status": "completed"
        },
        "tags": [],
        "id": "a8425c38",
        "outputId": "702c391a-7903-4d74-f422-ec7e10b6552f",
        "colab": {
          "base_uri": "https://localhost:8080/"
        }
      },
      "outputs": [
        {
          "output_type": "execute_result",
          "data": {
            "text/plain": [
              "(1599, 12)"
            ]
          },
          "metadata": {},
          "execution_count": 5
        }
      ],
      "source": [
        "data.shape"
      ]
    },
    {
      "cell_type": "code",
      "execution_count": 6,
      "id": "d7e265fe",
      "metadata": {
        "execution": {
          "iopub.execute_input": "2022-03-22T02:40:30.086398Z",
          "iopub.status.busy": "2022-03-22T02:40:30.085674Z",
          "iopub.status.idle": "2022-03-22T02:40:30.088386Z",
          "shell.execute_reply": "2022-03-22T02:40:30.088883Z",
          "shell.execute_reply.started": "2022-03-22T02:29:16.226199Z"
        },
        "papermill": {
          "duration": 0.063919,
          "end_time": "2022-03-22T02:40:30.089059",
          "exception": false,
          "start_time": "2022-03-22T02:40:30.025140",
          "status": "completed"
        },
        "tags": [],
        "id": "d7e265fe",
        "outputId": "1bfbdb70-8232-4fe2-bc6d-bed42e0f0a9d",
        "colab": {
          "base_uri": "https://localhost:8080/"
        }
      },
      "outputs": [
        {
          "output_type": "execute_result",
          "data": {
            "text/plain": [
              "fixed_acidity           float64\n",
              "volatile_acidity        float64\n",
              "citric_acid             float64\n",
              "residual_sugar          float64\n",
              "chlorides               float64\n",
              "free_sulfur_dioxide     float64\n",
              "total_sulfur_dioxide    float64\n",
              "density                 float64\n",
              "pH                      float64\n",
              "sulphates               float64\n",
              "alcohol                 float64\n",
              "quality                   int64\n",
              "dtype: object"
            ]
          },
          "metadata": {},
          "execution_count": 6
        }
      ],
      "source": [
        "#Check datatypes of each columns\n",
        "data.dtypes"
      ]
    },
    {
      "cell_type": "code",
      "execution_count": 7,
      "id": "fba6f598",
      "metadata": {
        "execution": {
          "iopub.execute_input": "2022-03-22T02:40:30.209528Z",
          "iopub.status.busy": "2022-03-22T02:40:30.208802Z",
          "iopub.status.idle": "2022-03-22T02:40:30.268668Z",
          "shell.execute_reply": "2022-03-22T02:40:30.268090Z",
          "shell.execute_reply.started": "2022-03-22T02:29:16.239653Z"
        },
        "papermill": {
          "duration": 0.126735,
          "end_time": "2022-03-22T02:40:30.268822",
          "exception": false,
          "start_time": "2022-03-22T02:40:30.142087",
          "status": "completed"
        },
        "tags": [],
        "id": "fba6f598",
        "outputId": "15aa8554-03a5-44e8-8cc9-54efe727ac0b",
        "colab": {
          "base_uri": "https://localhost:8080/",
          "height": 364
        }
      },
      "outputs": [
        {
          "output_type": "execute_result",
          "data": {
            "text/plain": [
              "       fixed_acidity  volatile_acidity  citric_acid  residual_sugar  \\\n",
              "count    1599.000000       1599.000000  1599.000000     1599.000000   \n",
              "mean        8.319637          0.527821     0.270976        2.538806   \n",
              "std         1.741096          0.179060     0.194801        1.409928   \n",
              "min         4.600000          0.120000     0.000000        0.900000   \n",
              "25%         7.100000          0.390000     0.090000        1.900000   \n",
              "50%         7.900000          0.520000     0.260000        2.200000   \n",
              "75%         9.200000          0.640000     0.420000        2.600000   \n",
              "max        15.900000          1.580000     1.000000       15.500000   \n",
              "\n",
              "         chlorides  free_sulfur_dioxide  total_sulfur_dioxide      density  \\\n",
              "count  1599.000000          1599.000000           1599.000000  1599.000000   \n",
              "mean      0.087467            15.874922             46.467792     0.996747   \n",
              "std       0.047065            10.460157             32.895324     0.001887   \n",
              "min       0.012000             1.000000              6.000000     0.990070   \n",
              "25%       0.070000             7.000000             22.000000     0.995600   \n",
              "50%       0.079000            14.000000             38.000000     0.996750   \n",
              "75%       0.090000            21.000000             62.000000     0.997835   \n",
              "max       0.611000            72.000000            289.000000     1.003690   \n",
              "\n",
              "                pH    sulphates      alcohol      quality  \n",
              "count  1599.000000  1599.000000  1599.000000  1599.000000  \n",
              "mean      3.311113     0.658149    10.422983     5.636023  \n",
              "std       0.154386     0.169507     1.065668     0.807569  \n",
              "min       2.740000     0.330000     8.400000     3.000000  \n",
              "25%       3.210000     0.550000     9.500000     5.000000  \n",
              "50%       3.310000     0.620000    10.200000     6.000000  \n",
              "75%       3.400000     0.730000    11.100000     6.000000  \n",
              "max       4.010000     2.000000    14.900000     8.000000  "
            ],
            "text/html": [
              "\n",
              "  <div id=\"df-93667f25-ea54-4296-9fe1-6818bd5c8745\">\n",
              "    <div class=\"colab-df-container\">\n",
              "      <div>\n",
              "<style scoped>\n",
              "    .dataframe tbody tr th:only-of-type {\n",
              "        vertical-align: middle;\n",
              "    }\n",
              "\n",
              "    .dataframe tbody tr th {\n",
              "        vertical-align: top;\n",
              "    }\n",
              "\n",
              "    .dataframe thead th {\n",
              "        text-align: right;\n",
              "    }\n",
              "</style>\n",
              "<table border=\"1\" class=\"dataframe\">\n",
              "  <thead>\n",
              "    <tr style=\"text-align: right;\">\n",
              "      <th></th>\n",
              "      <th>fixed_acidity</th>\n",
              "      <th>volatile_acidity</th>\n",
              "      <th>citric_acid</th>\n",
              "      <th>residual_sugar</th>\n",
              "      <th>chlorides</th>\n",
              "      <th>free_sulfur_dioxide</th>\n",
              "      <th>total_sulfur_dioxide</th>\n",
              "      <th>density</th>\n",
              "      <th>pH</th>\n",
              "      <th>sulphates</th>\n",
              "      <th>alcohol</th>\n",
              "      <th>quality</th>\n",
              "    </tr>\n",
              "  </thead>\n",
              "  <tbody>\n",
              "    <tr>\n",
              "      <th>count</th>\n",
              "      <td>1599.000000</td>\n",
              "      <td>1599.000000</td>\n",
              "      <td>1599.000000</td>\n",
              "      <td>1599.000000</td>\n",
              "      <td>1599.000000</td>\n",
              "      <td>1599.000000</td>\n",
              "      <td>1599.000000</td>\n",
              "      <td>1599.000000</td>\n",
              "      <td>1599.000000</td>\n",
              "      <td>1599.000000</td>\n",
              "      <td>1599.000000</td>\n",
              "      <td>1599.000000</td>\n",
              "    </tr>\n",
              "    <tr>\n",
              "      <th>mean</th>\n",
              "      <td>8.319637</td>\n",
              "      <td>0.527821</td>\n",
              "      <td>0.270976</td>\n",
              "      <td>2.538806</td>\n",
              "      <td>0.087467</td>\n",
              "      <td>15.874922</td>\n",
              "      <td>46.467792</td>\n",
              "      <td>0.996747</td>\n",
              "      <td>3.311113</td>\n",
              "      <td>0.658149</td>\n",
              "      <td>10.422983</td>\n",
              "      <td>5.636023</td>\n",
              "    </tr>\n",
              "    <tr>\n",
              "      <th>std</th>\n",
              "      <td>1.741096</td>\n",
              "      <td>0.179060</td>\n",
              "      <td>0.194801</td>\n",
              "      <td>1.409928</td>\n",
              "      <td>0.047065</td>\n",
              "      <td>10.460157</td>\n",
              "      <td>32.895324</td>\n",
              "      <td>0.001887</td>\n",
              "      <td>0.154386</td>\n",
              "      <td>0.169507</td>\n",
              "      <td>1.065668</td>\n",
              "      <td>0.807569</td>\n",
              "    </tr>\n",
              "    <tr>\n",
              "      <th>min</th>\n",
              "      <td>4.600000</td>\n",
              "      <td>0.120000</td>\n",
              "      <td>0.000000</td>\n",
              "      <td>0.900000</td>\n",
              "      <td>0.012000</td>\n",
              "      <td>1.000000</td>\n",
              "      <td>6.000000</td>\n",
              "      <td>0.990070</td>\n",
              "      <td>2.740000</td>\n",
              "      <td>0.330000</td>\n",
              "      <td>8.400000</td>\n",
              "      <td>3.000000</td>\n",
              "    </tr>\n",
              "    <tr>\n",
              "      <th>25%</th>\n",
              "      <td>7.100000</td>\n",
              "      <td>0.390000</td>\n",
              "      <td>0.090000</td>\n",
              "      <td>1.900000</td>\n",
              "      <td>0.070000</td>\n",
              "      <td>7.000000</td>\n",
              "      <td>22.000000</td>\n",
              "      <td>0.995600</td>\n",
              "      <td>3.210000</td>\n",
              "      <td>0.550000</td>\n",
              "      <td>9.500000</td>\n",
              "      <td>5.000000</td>\n",
              "    </tr>\n",
              "    <tr>\n",
              "      <th>50%</th>\n",
              "      <td>7.900000</td>\n",
              "      <td>0.520000</td>\n",
              "      <td>0.260000</td>\n",
              "      <td>2.200000</td>\n",
              "      <td>0.079000</td>\n",
              "      <td>14.000000</td>\n",
              "      <td>38.000000</td>\n",
              "      <td>0.996750</td>\n",
              "      <td>3.310000</td>\n",
              "      <td>0.620000</td>\n",
              "      <td>10.200000</td>\n",
              "      <td>6.000000</td>\n",
              "    </tr>\n",
              "    <tr>\n",
              "      <th>75%</th>\n",
              "      <td>9.200000</td>\n",
              "      <td>0.640000</td>\n",
              "      <td>0.420000</td>\n",
              "      <td>2.600000</td>\n",
              "      <td>0.090000</td>\n",
              "      <td>21.000000</td>\n",
              "      <td>62.000000</td>\n",
              "      <td>0.997835</td>\n",
              "      <td>3.400000</td>\n",
              "      <td>0.730000</td>\n",
              "      <td>11.100000</td>\n",
              "      <td>6.000000</td>\n",
              "    </tr>\n",
              "    <tr>\n",
              "      <th>max</th>\n",
              "      <td>15.900000</td>\n",
              "      <td>1.580000</td>\n",
              "      <td>1.000000</td>\n",
              "      <td>15.500000</td>\n",
              "      <td>0.611000</td>\n",
              "      <td>72.000000</td>\n",
              "      <td>289.000000</td>\n",
              "      <td>1.003690</td>\n",
              "      <td>4.010000</td>\n",
              "      <td>2.000000</td>\n",
              "      <td>14.900000</td>\n",
              "      <td>8.000000</td>\n",
              "    </tr>\n",
              "  </tbody>\n",
              "</table>\n",
              "</div>\n",
              "      <button class=\"colab-df-convert\" onclick=\"convertToInteractive('df-93667f25-ea54-4296-9fe1-6818bd5c8745')\"\n",
              "              title=\"Convert this dataframe to an interactive table.\"\n",
              "              style=\"display:none;\">\n",
              "        \n",
              "  <svg xmlns=\"http://www.w3.org/2000/svg\" height=\"24px\"viewBox=\"0 0 24 24\"\n",
              "       width=\"24px\">\n",
              "    <path d=\"M0 0h24v24H0V0z\" fill=\"none\"/>\n",
              "    <path d=\"M18.56 5.44l.94 2.06.94-2.06 2.06-.94-2.06-.94-.94-2.06-.94 2.06-2.06.94zm-11 1L8.5 8.5l.94-2.06 2.06-.94-2.06-.94L8.5 2.5l-.94 2.06-2.06.94zm10 10l.94 2.06.94-2.06 2.06-.94-2.06-.94-.94-2.06-.94 2.06-2.06.94z\"/><path d=\"M17.41 7.96l-1.37-1.37c-.4-.4-.92-.59-1.43-.59-.52 0-1.04.2-1.43.59L10.3 9.45l-7.72 7.72c-.78.78-.78 2.05 0 2.83L4 21.41c.39.39.9.59 1.41.59.51 0 1.02-.2 1.41-.59l7.78-7.78 2.81-2.81c.8-.78.8-2.07 0-2.86zM5.41 20L4 18.59l7.72-7.72 1.47 1.35L5.41 20z\"/>\n",
              "  </svg>\n",
              "      </button>\n",
              "      \n",
              "  <style>\n",
              "    .colab-df-container {\n",
              "      display:flex;\n",
              "      flex-wrap:wrap;\n",
              "      gap: 12px;\n",
              "    }\n",
              "\n",
              "    .colab-df-convert {\n",
              "      background-color: #E8F0FE;\n",
              "      border: none;\n",
              "      border-radius: 50%;\n",
              "      cursor: pointer;\n",
              "      display: none;\n",
              "      fill: #1967D2;\n",
              "      height: 32px;\n",
              "      padding: 0 0 0 0;\n",
              "      width: 32px;\n",
              "    }\n",
              "\n",
              "    .colab-df-convert:hover {\n",
              "      background-color: #E2EBFA;\n",
              "      box-shadow: 0px 1px 2px rgba(60, 64, 67, 0.3), 0px 1px 3px 1px rgba(60, 64, 67, 0.15);\n",
              "      fill: #174EA6;\n",
              "    }\n",
              "\n",
              "    [theme=dark] .colab-df-convert {\n",
              "      background-color: #3B4455;\n",
              "      fill: #D2E3FC;\n",
              "    }\n",
              "\n",
              "    [theme=dark] .colab-df-convert:hover {\n",
              "      background-color: #434B5C;\n",
              "      box-shadow: 0px 1px 3px 1px rgba(0, 0, 0, 0.15);\n",
              "      filter: drop-shadow(0px 1px 2px rgba(0, 0, 0, 0.3));\n",
              "      fill: #FFFFFF;\n",
              "    }\n",
              "  </style>\n",
              "\n",
              "      <script>\n",
              "        const buttonEl =\n",
              "          document.querySelector('#df-93667f25-ea54-4296-9fe1-6818bd5c8745 button.colab-df-convert');\n",
              "        buttonEl.style.display =\n",
              "          google.colab.kernel.accessAllowed ? 'block' : 'none';\n",
              "\n",
              "        async function convertToInteractive(key) {\n",
              "          const element = document.querySelector('#df-93667f25-ea54-4296-9fe1-6818bd5c8745');\n",
              "          const dataTable =\n",
              "            await google.colab.kernel.invokeFunction('convertToInteractive',\n",
              "                                                     [key], {});\n",
              "          if (!dataTable) return;\n",
              "\n",
              "          const docLinkHtml = 'Like what you see? Visit the ' +\n",
              "            '<a target=\"_blank\" href=https://colab.research.google.com/notebooks/data_table.ipynb>data table notebook</a>'\n",
              "            + ' to learn more about interactive tables.';\n",
              "          element.innerHTML = '';\n",
              "          dataTable['output_type'] = 'display_data';\n",
              "          await google.colab.output.renderOutput(dataTable, element);\n",
              "          const docLink = document.createElement('div');\n",
              "          docLink.innerHTML = docLinkHtml;\n",
              "          element.appendChild(docLink);\n",
              "        }\n",
              "      </script>\n",
              "    </div>\n",
              "  </div>\n",
              "  "
            ]
          },
          "metadata": {},
          "execution_count": 7
        }
      ],
      "source": [
        "data.describe()"
      ]
    },
    {
      "cell_type": "code",
      "execution_count": 8,
      "id": "659f2fb7",
      "metadata": {
        "execution": {
          "iopub.execute_input": "2022-03-22T02:40:30.383743Z",
          "iopub.status.busy": "2022-03-22T02:40:30.383021Z",
          "iopub.status.idle": "2022-03-22T02:40:30.396339Z",
          "shell.execute_reply": "2022-03-22T02:40:30.397070Z",
          "shell.execute_reply.started": "2022-03-22T02:29:16.304847Z"
        },
        "papermill": {
          "duration": 0.073512,
          "end_time": "2022-03-22T02:40:30.397345",
          "exception": false,
          "start_time": "2022-03-22T02:40:30.323833",
          "status": "completed"
        },
        "tags": [],
        "id": "659f2fb7",
        "outputId": "c282c43a-bebb-4314-9094-d68870b21f59",
        "colab": {
          "base_uri": "https://localhost:8080/"
        }
      },
      "outputs": [
        {
          "output_type": "stream",
          "name": "stdout",
          "text": [
            "<class 'pandas.core.frame.DataFrame'>\n",
            "RangeIndex: 1599 entries, 0 to 1598\n",
            "Data columns (total 12 columns):\n",
            " #   Column                Non-Null Count  Dtype  \n",
            "---  ------                --------------  -----  \n",
            " 0   fixed_acidity         1599 non-null   float64\n",
            " 1   volatile_acidity      1599 non-null   float64\n",
            " 2   citric_acid           1599 non-null   float64\n",
            " 3   residual_sugar        1599 non-null   float64\n",
            " 4   chlorides             1599 non-null   float64\n",
            " 5   free_sulfur_dioxide   1599 non-null   float64\n",
            " 6   total_sulfur_dioxide  1599 non-null   float64\n",
            " 7   density               1599 non-null   float64\n",
            " 8   pH                    1599 non-null   float64\n",
            " 9   sulphates             1599 non-null   float64\n",
            " 10  alcohol               1599 non-null   float64\n",
            " 11  quality               1599 non-null   int64  \n",
            "dtypes: float64(11), int64(1)\n",
            "memory usage: 150.0 KB\n"
          ]
        }
      ],
      "source": [
        "data.info()"
      ]
    },
    {
      "cell_type": "code",
      "execution_count": 10,
      "id": "00de6bae",
      "metadata": {
        "execution": {
          "iopub.execute_input": "2022-03-22T02:40:30.510016Z",
          "iopub.status.busy": "2022-03-22T02:40:30.509417Z",
          "iopub.status.idle": "2022-03-22T02:40:30.516545Z",
          "shell.execute_reply": "2022-03-22T02:40:30.517151Z",
          "shell.execute_reply.started": "2022-03-22T02:29:16.324236Z"
        },
        "papermill": {
          "duration": 0.064484,
          "end_time": "2022-03-22T02:40:30.517334",
          "exception": false,
          "start_time": "2022-03-22T02:40:30.452850",
          "status": "completed"
        },
        "tags": [],
        "id": "00de6bae",
        "outputId": "060a85ac-2988-46a7-8bf6-2ca4b91df976",
        "colab": {
          "base_uri": "https://localhost:8080/"
        }
      },
      "outputs": [
        {
          "output_type": "execute_result",
          "data": {
            "text/plain": [
              "fixed_acidity           0\n",
              "volatile_acidity        0\n",
              "citric_acid             0\n",
              "residual_sugar          0\n",
              "chlorides               0\n",
              "free_sulfur_dioxide     0\n",
              "total_sulfur_dioxide    0\n",
              "density                 0\n",
              "pH                      0\n",
              "sulphates               0\n",
              "alcohol                 0\n",
              "quality                 0\n",
              "dtype: int64"
            ]
          },
          "metadata": {},
          "execution_count": 10
        }
      ],
      "source": [
        "#Check for null values\n",
        "data.isnull().sum()"
      ]
    },
    {
      "cell_type": "markdown",
      "id": "6d97a755",
      "metadata": {
        "papermill": {
          "duration": 0.054551,
          "end_time": "2022-03-22T02:40:30.626357",
          "exception": false,
          "start_time": "2022-03-22T02:40:30.571806",
          "status": "completed"
        },
        "tags": [],
        "id": "6d97a755"
      },
      "source": [
        "We can see that there are no null values in any column."
      ]
    },
    {
      "cell_type": "code",
      "execution_count": 9,
      "id": "b9c77e1b",
      "metadata": {
        "execution": {
          "iopub.execute_input": "2022-03-22T02:40:30.739201Z",
          "iopub.status.busy": "2022-03-22T02:40:30.738579Z",
          "iopub.status.idle": "2022-03-22T02:40:30.743501Z",
          "shell.execute_reply": "2022-03-22T02:40:30.744039Z",
          "shell.execute_reply.started": "2022-03-22T02:29:16.335792Z"
        },
        "papermill": {
          "duration": 0.063272,
          "end_time": "2022-03-22T02:40:30.744209",
          "exception": false,
          "start_time": "2022-03-22T02:40:30.680937",
          "status": "completed"
        },
        "tags": [],
        "id": "b9c77e1b",
        "outputId": "4782ea35-230c-4f83-be32-cda83d6d0361",
        "colab": {
          "base_uri": "https://localhost:8080/"
        }
      },
      "outputs": [
        {
          "output_type": "execute_result",
          "data": {
            "text/plain": [
              "array([5, 6, 7, 4, 8, 3])"
            ]
          },
          "metadata": {},
          "execution_count": 9
        }
      ],
      "source": [
        "#Check distinct values in quality column\n",
        "data.quality.unique()"
      ]
    },
    {
      "cell_type": "code",
      "execution_count": 11,
      "id": "78d3d304",
      "metadata": {
        "execution": {
          "iopub.execute_input": "2022-03-22T02:40:30.858652Z",
          "iopub.status.busy": "2022-03-22T02:40:30.858020Z",
          "iopub.status.idle": "2022-03-22T02:40:30.863821Z",
          "shell.execute_reply": "2022-03-22T02:40:30.864298Z",
          "shell.execute_reply.started": "2022-03-22T02:29:16.342530Z"
        },
        "papermill": {
          "duration": 0.064413,
          "end_time": "2022-03-22T02:40:30.864484",
          "exception": false,
          "start_time": "2022-03-22T02:40:30.800071",
          "status": "completed"
        },
        "tags": [],
        "id": "78d3d304",
        "outputId": "c82ff02e-04e5-41ac-ed3d-56e81df5a244",
        "colab": {
          "base_uri": "https://localhost:8080/"
        }
      },
      "outputs": [
        {
          "output_type": "execute_result",
          "data": {
            "text/plain": [
              "5    681\n",
              "6    638\n",
              "7    199\n",
              "4     53\n",
              "8     18\n",
              "3     10\n",
              "Name: quality, dtype: int64"
            ]
          },
          "metadata": {},
          "execution_count": 11
        }
      ],
      "source": [
        "#Check for total number of values for each quality rating\n",
        "data.quality.value_counts()"
      ]
    },
    {
      "cell_type": "code",
      "execution_count": 12,
      "id": "323888b6",
      "metadata": {
        "execution": {
          "iopub.execute_input": "2022-03-22T02:40:30.980213Z",
          "iopub.status.busy": "2022-03-22T02:40:30.979575Z",
          "iopub.status.idle": "2022-03-22T02:40:30.989026Z",
          "shell.execute_reply": "2022-03-22T02:40:30.989551Z",
          "shell.execute_reply.started": "2022-03-22T02:29:16.358008Z"
        },
        "papermill": {
          "duration": 0.06837,
          "end_time": "2022-03-22T02:40:30.989743",
          "exception": false,
          "start_time": "2022-03-22T02:40:30.921373",
          "status": "completed"
        },
        "tags": [],
        "id": "323888b6",
        "outputId": "8b740e20-d918-4d26-dd94-3f9def40e846",
        "colab": {
          "base_uri": "https://localhost:8080/"
        }
      },
      "outputs": [
        {
          "output_type": "execute_result",
          "data": {
            "text/plain": [
              "fixed_acidity           0.124052\n",
              "volatile_acidity       -0.390558\n",
              "citric_acid             0.226373\n",
              "residual_sugar          0.013732\n",
              "chlorides              -0.128907\n",
              "free_sulfur_dioxide    -0.050656\n",
              "total_sulfur_dioxide   -0.185100\n",
              "density                -0.174919\n",
              "pH                     -0.057731\n",
              "sulphates               0.251397\n",
              "alcohol                 0.476166\n",
              "quality                 1.000000\n",
              "Name: quality, dtype: float64"
            ]
          },
          "metadata": {},
          "execution_count": 12
        }
      ],
      "source": [
        "#Check correlation of every feature w.r.t the quality of the wine.\n",
        "\n",
        "data.corr()['quality']"
      ]
    },
    {
      "cell_type": "markdown",
      "id": "8297ef01",
      "metadata": {
        "papermill": {
          "duration": 0.055772,
          "end_time": "2022-03-22T02:40:31.101819",
          "exception": false,
          "start_time": "2022-03-22T02:40:31.046047",
          "status": "completed"
        },
        "tags": [],
        "id": "8297ef01"
      },
      "source": [
        "<h3>Heat Map of Correlation Matrix</h3>"
      ]
    },
    {
      "cell_type": "code",
      "execution_count": 13,
      "id": "7068f344",
      "metadata": {
        "execution": {
          "iopub.execute_input": "2022-03-22T02:40:31.219208Z",
          "iopub.status.busy": "2022-03-22T02:40:31.218552Z",
          "iopub.status.idle": "2022-03-22T02:40:32.175760Z",
          "shell.execute_reply": "2022-03-22T02:40:32.176276Z",
          "shell.execute_reply.started": "2022-03-22T02:29:16.371504Z"
        },
        "papermill": {
          "duration": 1.018254,
          "end_time": "2022-03-22T02:40:32.176468",
          "exception": false,
          "start_time": "2022-03-22T02:40:31.158214",
          "status": "completed"
        },
        "tags": [],
        "id": "7068f344",
        "outputId": "4f2c524f-2bd9-434b-ce78-b26f8d7a4041",
        "colab": {
          "base_uri": "https://localhost:8080/",
          "height": 683
        }
      },
      "outputs": [
        {
          "output_type": "display_data",
          "data": {
            "text/plain": [
              "<Figure size 720x720 with 2 Axes>"
            ],
            "image/png": "[encoded data removed]"
          },
          "metadata": {
            "needs_background": "light"
          }
        }
      ],
      "source": [
        "plt.figure(figsize=(10,10))\n",
        "sns.heatmap(data.corr(),annot=True,linewidth=0.5,center=0,cmap='coolwarm')\n",
        "plt.show()"
      ]
    },
    {
      "cell_type": "code",
      "execution_count": 14,
      "id": "b171b817",
      "metadata": {
        "execution": {
          "iopub.execute_input": "2022-03-22T02:40:32.316646Z",
          "iopub.status.busy": "2022-03-22T02:40:32.315953Z",
          "iopub.status.idle": "2022-03-22T02:40:32.506586Z",
          "shell.execute_reply": "2022-03-22T02:40:32.506047Z",
          "shell.execute_reply.started": "2022-03-22T02:29:17.265492Z"
        },
        "papermill": {
          "duration": 0.266559,
          "end_time": "2022-03-22T02:40:32.506744",
          "exception": false,
          "start_time": "2022-03-22T02:40:32.240185",
          "status": "completed"
        },
        "tags": [],
        "id": "b171b817",
        "outputId": "15a7aeb9-0d5b-4c15-cac5-b074d55b6278",
        "colab": {
          "base_uri": "https://localhost:8080/",
          "height": 295
        }
      },
      "outputs": [
        {
          "output_type": "display_data",
          "data": {
            "text/plain": [
              "<Figure size 432x288 with 1 Axes>"
            ],
            "image/png": "[encoded data removed]"
          },
          "metadata": {
            "needs_background": "light"
          }
        }
      ],
      "source": [
        "plt.hist(data.quality,bins=6,alpha=0.5,histtype='bar',ec='black')\n",
        "plt.title('Distribution of the Quality')\n",
        "plt.xlabel('Quality')\n",
        "plt.ylabel('Count')\n",
        "plt.show()"
      ]
    },
    {
      "cell_type": "markdown",
      "id": "faa61cac",
      "metadata": {
        "papermill": {
          "duration": 0.060565,
          "end_time": "2022-03-22T02:40:32.628228",
          "exception": false,
          "start_time": "2022-03-22T02:40:32.567663",
          "status": "completed"
        },
        "tags": [],
        "id": "faa61cac"
      },
      "source": [
        "The above plot shows the distribution of the quality of the wine in the dataset, and represents that most of the wine is of average quality i.e. quality ranging from 5 to 7 ."
      ]
    },
    {
      "cell_type": "code",
      "source": [
        "for idx,i in enumerate(data.columns):\n",
        "  sns.boxplot(data=data[i])\n",
        "  plt.title(\"Boxplot of Quality and\"+ data.columns[idx]) \n",
        "  plt.show()"
      ],
      "metadata": {
        "colab": {
          "base_uri": "https://localhost:8080/",
          "height": 1000
        },
        "id": "yY5NwKSdrLsP",
        "outputId": "78ab823e-611d-4cc2-9f76-326aa0f7de46"
      },
      "id": "yY5NwKSdrLsP",
      "execution_count": 46,
      "outputs": [
        {
          "output_type": "display_data",
          "data": {
            "text/plain": [
              "<Figure size 432x288 with 1 Axes>"
            ],
            "image/png": "[encoded data removed]"
          },
          "metadata": {
            "needs_background": "light"
          }
        },
        {
          "output_type": "display_data",
          "data": {
            "text/plain": [
              "<Figure size 432x288 with 1 Axes>"
            ],
            "image/png": "[encoded data removed]"
          },
          "metadata": {
            "needs_background": "light"
          }
        },
        {
          "output_type": "display_data",
          "data": {
            "text/plain": [
              "<Figure size 432x288 with 1 Axes>"
            ],
            "image/png": "[encoded data removed]"
          },
          "metadata": {
            "needs_background": "light"
          }
        },
        {
          "output_type": "display_data",
          "data": {
            "text/plain": [
              "<Figure size 432x288 with 1 Axes>"
            ],
            "image/png": "[encoded data removed]"
          },
          "metadata": {
            "needs_background": "light"
          }
        },
        {
          "output_type": "display_data",
          "data": {
            "text/plain": [
              "<Figure size 432x288 with 1 Axes>"
            ],
            "image/png": "[encoded data removed]"
          },
          "metadata": {
            "needs_background": "light"
          }
        },
        {
          "output_type": "display_data",
          "data": {
            "text/plain": [
              "<Figure size 432x288 with 1 Axes>"
            ],
            "image/png": "[encoded data removed]"
          },
          "metadata": {
            "needs_background": "light"
          }
        },
        {
          "output_type": "display_data",
          "data": {
            "text/plain": [
              "<Figure size 432x288 with 1 Axes>"
            ],
            "image/png": "[encoded data removed]"
          },
          "metadata": {
            "needs_background": "light"
          }
        },
        {
          "output_type": "display_data",
          "data": {
            "text/plain": [
              "<Figure size 432x288 with 1 Axes>"
            ],
            "image/png": "[encoded data removed]"
          },
          "metadata": {
            "needs_background": "light"
          }
        },
        {
          "output_type": "display_data",
          "data": {
            "text/plain": [
              "<Figure size 432x288 with 1 Axes>"
            ],
            "image/png": "[encoded data removed]"
          },
          "metadata": {
            "needs_background": "light"
          }
        },
        {
          "output_type": "display_data",
          "data": {
            "text/plain": [
              "<Figure size 432x288 with 1 Axes>"
            ],
            "image/png": "[encoded data removed]"
          },
          "metadata": {
            "needs_background": "light"
          }
        },
        {
          "output_type": "display_data",
          "data": {
            "text/plain": [
              "<Figure size 432x288 with 1 Axes>"
            ],
            "image/png": "[encoded data removed]"
          },
          "metadata": {
            "needs_background": "light"
          }
        },
        {
          "output_type": "display_data",
          "data": {
            "text/plain": [
              "<Figure size 432x288 with 1 Axes>"
            ],
            "image/png": "[encoded data removed]"
          },
          "metadata": {
            "needs_background": "light"
          }
        }
      ]
    },
    {
      "cell_type": "markdown",
      "source": [
        "Removing Outliers"
      ],
      "metadata": {
        "id": "f7ZqxNOPssrP"
      },
      "id": "f7ZqxNOPssrP"
    },
    {
      "cell_type": "code",
      "source": [
        "for idx,i in enumerate(data.columns):\n",
        "  data[data.columns[idx]] = data[data.columns[idx]].map(lambda i: np.log(i) if i > 0 else 0)\n"
      ],
      "metadata": {
        "id": "XkDZr8o8sv_r"
      },
      "id": "XkDZr8o8sv_r",
      "execution_count": 47,
      "outputs": []
    },
    {
      "cell_type": "code",
      "source": [
        "for idx,i in enumerate(data.columns):\n",
        "  sns.boxplot(data=data[i])\n",
        "  plt.title(\"Boxplot of Quality and\"+ data.columns[idx]) \n",
        "  plt.show()"
      ],
      "metadata": {
        "colab": {
          "base_uri": "https://localhost:8080/",
          "height": 1000
        },
        "id": "3pPJmYwxujx_",
        "outputId": "177b1fb0-de3d-451a-b34b-7464b07c2b7f"
      },
      "id": "3pPJmYwxujx_",
      "execution_count": 49,
      "outputs": [
        {
          "output_type": "display_data",
          "data": {
            "text/plain": [
              "<Figure size 432x288 with 1 Axes>"
            ],
            "image/png": "[encoded data removed]"
          },
          "metadata": {
            "needs_background": "light"
          }
        },
        {
          "output_type": "display_data",
          "data": {
            "text/plain": [
              "<Figure size 432x288 with 1 Axes>"
            ],
            "image/png": "[encoded data removed]"
          },
          "metadata": {
            "needs_background": "light"
          }
        },
        {
          "output_type": "display_data",
          "data": {
            "text/plain": [
              "<Figure size 432x288 with 1 Axes>"
            ],
            "image/png": "[encoded data removed]"
          },
          "metadata": {
            "needs_background": "light"
          }
        },
        {
          "output_type": "display_data",
          "data": {
            "text/plain": [
              "<Figure size 432x288 with 1 Axes>"
            ],
            "image/png": "[encoded data removed]"
          },
          "metadata": {
            "needs_background": "light"
          }
        },
        {
          "output_type": "display_data",
          "data": {
            "text/plain": [
              "<Figure size 432x288 with 1 Axes>"
            ],
            "image/png": "[encoded data removed]"
          },
          "metadata": {
            "needs_background": "light"
          }
        },
        {
          "output_type": "display_data",
          "data": {
            "text/plain": [
              "<Figure size 432x288 with 1 Axes>"
            ],
            "image/png": "[encoded data removed]"
          },
          "metadata": {
            "needs_background": "light"
          }
        },
        {
          "output_type": "display_data",
          "data": {
            "text/plain": [
              "<Figure size 432x288 with 1 Axes>"
            ],
            "image/png": "[encoded data removed]"
          },
          "metadata": {
            "needs_background": "light"
          }
        },
        {
          "output_type": "display_data",
          "data": {
            "text/plain": [
              "<Figure size 432x288 with 1 Axes>"
            ],
            "image/png": "[encoded data removed]"
          },
          "metadata": {
            "needs_background": "light"
          }
        },
        {
          "output_type": "display_data",
          "data": {
            "text/plain": [
              "<Figure size 432x288 with 1 Axes>"
            ],
            "image/png": "[encoded data removed]"
          },
          "metadata": {
            "needs_background": "light"
          }
        },
        {
          "output_type": "display_data",
          "data": {
            "text/plain": [
              "<Figure size 432x288 with 1 Axes>"
            ],
            "image/png": "[encoded data removed]"
          },
          "metadata": {
            "needs_background": "light"
          }
        },
        {
          "output_type": "display_data",
          "data": {
            "text/plain": [
              "<Figure size 432x288 with 1 Axes>"
            ],
            "image/png": "[encoded data removed]"
          },
          "metadata": {
            "needs_background": "light"
          }
        },
        {
          "output_type": "display_data",
          "data": {
            "text/plain": [
              "<Figure size 432x288 with 1 Axes>"
            ],
            "image/png": "[encoded data removed]"
          },
          "metadata": {
            "needs_background": "light"
          }
        }
      ]
    },
    {
      "cell_type": "code",
      "execution_count": 50,
      "id": "a52ec929",
      "metadata": {
        "execution": {
          "iopub.execute_input": "2022-03-22T02:40:32.754807Z",
          "iopub.status.busy": "2022-03-22T02:40:32.754085Z",
          "iopub.status.idle": "2022-03-22T02:40:33.005699Z",
          "shell.execute_reply": "2022-03-22T02:40:33.006210Z",
          "shell.execute_reply.started": "2022-03-22T02:29:17.407551Z"
        },
        "papermill": {
          "duration": 0.317604,
          "end_time": "2022-03-22T02:40:33.006407",
          "exception": false,
          "start_time": "2022-03-22T02:40:32.688803",
          "status": "completed"
        },
        "tags": [],
        "id": "a52ec929",
        "outputId": "1559027c-8b4e-4042-d939-ad3af9ef48c8",
        "colab": {
          "base_uri": "https://localhost:8080/",
          "height": 295
        }
      },
      "outputs": [
        {
          "output_type": "display_data",
          "data": {
            "text/plain": [
              "<Figure size 432x288 with 1 Axes>"
            ],
            "image/png": "[encoded data removed]"
          },
          "metadata": {
            "needs_background": "light"
          }
        }
      ],
      "source": [
        "sns.boxplot(x='quality',y='pH',data=data,palette='GnBu_d')\n",
        "plt.title(\"Boxplot of Quality and pH\")\n",
        "plt.show()"
      ]
    },
    {
      "cell_type": "code",
      "execution_count": 51,
      "id": "a4e16a5f",
      "metadata": {
        "execution": {
          "iopub.execute_input": "2022-03-22T02:40:33.137048Z",
          "iopub.status.busy": "2022-03-22T02:40:33.136398Z",
          "iopub.status.idle": "2022-03-22T02:40:33.391719Z",
          "shell.execute_reply": "2022-03-22T02:40:33.391073Z",
          "shell.execute_reply.started": "2022-03-22T02:29:17.637419Z"
        },
        "papermill": {
          "duration": 0.323037,
          "end_time": "2022-03-22T02:40:33.391859",
          "exception": false,
          "start_time": "2022-03-22T02:40:33.068822",
          "status": "completed"
        },
        "tags": [],
        "id": "a4e16a5f",
        "outputId": "aa6a10c7-2685-435b-b17d-930a927835a3",
        "colab": {
          "base_uri": "https://localhost:8080/",
          "height": 295
        }
      },
      "outputs": [
        {
          "output_type": "display_data",
          "data": {
            "text/plain": [
              "<Figure size 432x288 with 1 Axes>"
            ],
            "image/png": "[encoded data removed]"
          },
          "metadata": {
            "needs_background": "light"
          }
        }
      ],
      "source": [
        "ax = sns.boxplot(x='quality',y='alcohol',data=data,palette='GnBu_d')\n",
        "plt.title(\"Boxplot of Quality and Alcohol\")\n",
        "plt.show()"
      ]
    },
    {
      "cell_type": "markdown",
      "id": "bf984dec",
      "metadata": {
        "papermill": {
          "duration": 0.063029,
          "end_time": "2022-03-22T02:40:33.518293",
          "exception": false,
          "start_time": "2022-03-22T02:40:33.455264",
          "status": "completed"
        },
        "tags": [],
        "id": "bf984dec"
      },
      "source": [
        "The above plot shows the increase in the quality of wine with the increase in alcohol. The quality of the wine is directly related to the amount of alcohol in the wine. More the alcohol in the wine better will be the quality. Whereas it shows slight decrease in pH scale with good quality."
      ]
    },
    {
      "cell_type": "code",
      "execution_count": 52,
      "id": "d7c48540",
      "metadata": {
        "execution": {
          "iopub.execute_input": "2022-03-22T02:40:33.651519Z",
          "iopub.status.busy": "2022-03-22T02:40:33.650446Z",
          "iopub.status.idle": "2022-03-22T02:40:33.903399Z",
          "shell.execute_reply": "2022-03-22T02:40:33.903925Z",
          "shell.execute_reply.started": "2022-03-22T02:29:17.877535Z"
        },
        "papermill": {
          "duration": 0.323131,
          "end_time": "2022-03-22T02:40:33.904097",
          "exception": false,
          "start_time": "2022-03-22T02:40:33.580966",
          "status": "completed"
        },
        "tags": [],
        "id": "d7c48540",
        "outputId": "e618060d-b468-454c-c4e5-3084091959fd",
        "colab": {
          "base_uri": "https://localhost:8080/",
          "height": 295
        }
      },
      "outputs": [
        {
          "output_type": "display_data",
          "data": {
            "text/plain": [
              "<Figure size 432x288 with 1 Axes>"
            ],
            "image/png": "[encoded data removed]"
          },
          "metadata": {
            "needs_background": "light"
          }
        }
      ],
      "source": [
        "sns.boxplot(x=\"quality\",y=\"residual_sugar\",data=data,palette=\"GnBu_d\")\n",
        "plt.title(\"Boxplot of Quality and residual sugar\")\n",
        "plt.show()"
      ]
    },
    {
      "cell_type": "markdown",
      "id": "2eb19ea1",
      "metadata": {
        "papermill": {
          "duration": 0.064195,
          "end_time": "2022-03-22T02:40:34.032334",
          "exception": false,
          "start_time": "2022-03-22T02:40:33.968139",
          "status": "completed"
        },
        "tags": [],
        "id": "2eb19ea1"
      },
      "source": [
        "Not much effect of sugar residual on quality."
      ]
    },
    {
      "cell_type": "code",
      "execution_count": 53,
      "id": "1640fdd0",
      "metadata": {
        "execution": {
          "iopub.execute_input": "2022-03-22T02:40:34.162216Z",
          "iopub.status.busy": "2022-03-22T02:40:34.161539Z",
          "iopub.status.idle": "2022-03-22T02:40:34.418189Z",
          "shell.execute_reply": "2022-03-22T02:40:34.418800Z",
          "shell.execute_reply.started": "2022-03-22T02:29:18.111690Z"
        },
        "papermill": {
          "duration": 0.323159,
          "end_time": "2022-03-22T02:40:34.418992",
          "exception": false,
          "start_time": "2022-03-22T02:40:34.095833",
          "status": "completed"
        },
        "tags": [],
        "id": "1640fdd0",
        "outputId": "bbfc6469-c5bd-41c7-c07a-b7dc1bfdde1b",
        "colab": {
          "base_uri": "https://localhost:8080/",
          "height": 295
        }
      },
      "outputs": [
        {
          "output_type": "display_data",
          "data": {
            "text/plain": [
              "<Figure size 432x288 with 1 Axes>"
            ],
            "image/png": "[encoded data removed]"
          },
          "metadata": {
            "needs_background": "light"
          }
        }
      ],
      "source": [
        "sns.boxplot(x=\"quality\",y=\"density\",data=data,palette=\"GnBu_d\")\n",
        "plt.title(\"Boxplot of Quality and Density\")\n",
        "plt.show()"
      ]
    },
    {
      "cell_type": "markdown",
      "id": "7cce2501",
      "metadata": {
        "papermill": {
          "duration": 0.064395,
          "end_time": "2022-03-22T02:40:34.547596",
          "exception": false,
          "start_time": "2022-03-22T02:40:34.483201",
          "status": "completed"
        },
        "tags": [],
        "id": "7cce2501"
      },
      "source": [
        "Lower the density of wine better will be the quality of the wine. From the above boxplot we acn visualize that the quality of wine increases with decrease in density."
      ]
    },
    {
      "cell_type": "code",
      "execution_count": 54,
      "id": "df51b6fa",
      "metadata": {
        "execution": {
          "iopub.execute_input": "2022-03-22T02:40:34.681922Z",
          "iopub.status.busy": "2022-03-22T02:40:34.681144Z",
          "iopub.status.idle": "2022-03-22T02:40:34.939568Z",
          "shell.execute_reply": "2022-03-22T02:40:34.940128Z",
          "shell.execute_reply.started": "2022-03-22T02:29:18.347606Z"
        },
        "papermill": {
          "duration": 0.326048,
          "end_time": "2022-03-22T02:40:34.940320",
          "exception": false,
          "start_time": "2022-03-22T02:40:34.614272",
          "status": "completed"
        },
        "tags": [],
        "id": "df51b6fa",
        "outputId": "7f239a74-3d44-493e-f72d-fe0035b370c3",
        "colab": {
          "base_uri": "https://localhost:8080/",
          "height": 295
        }
      },
      "outputs": [
        {
          "output_type": "display_data",
          "data": {
            "text/plain": [
              "<Figure size 432x288 with 1 Axes>"
            ],
            "image/png": "[encoded data removed]"
          },
          "metadata": {
            "needs_background": "light"
          }
        }
      ],
      "source": [
        "sns.boxplot(x=\"quality\",y=\"sulphates\",data=data,palette=\"GnBu_d\")\n",
        "plt.title(\"Boxplot of Quality and Sulphates\")\n",
        "plt.show()"
      ]
    },
    {
      "cell_type": "markdown",
      "id": "581fecd8",
      "metadata": {
        "papermill": {
          "duration": 0.067494,
          "end_time": "2022-03-22T02:40:35.073010",
          "exception": false,
          "start_time": "2022-03-22T02:40:35.005516",
          "status": "completed"
        },
        "tags": [],
        "id": "581fecd8"
      },
      "source": [
        "The above plot represents that the quality of alcohol increases with the increase in the amount of sulphates in the wine."
      ]
    },
    {
      "cell_type": "code",
      "execution_count": 55,
      "id": "365e93eb",
      "metadata": {
        "execution": {
          "iopub.execute_input": "2022-03-22T02:40:35.209459Z",
          "iopub.status.busy": "2022-03-22T02:40:35.208722Z",
          "iopub.status.idle": "2022-03-22T02:40:35.456701Z",
          "shell.execute_reply": "2022-03-22T02:40:35.457232Z",
          "shell.execute_reply.started": "2022-03-22T02:29:18.585405Z"
        },
        "papermill": {
          "duration": 0.317963,
          "end_time": "2022-03-22T02:40:35.457421",
          "exception": false,
          "start_time": "2022-03-22T02:40:35.139458",
          "status": "completed"
        },
        "tags": [],
        "id": "365e93eb",
        "outputId": "b6c546e7-037d-494a-cdf3-ae6426d1693f",
        "colab": {
          "base_uri": "https://localhost:8080/",
          "height": 295
        }
      },
      "outputs": [
        {
          "output_type": "display_data",
          "data": {
            "text/plain": [
              "<Figure size 432x288 with 1 Axes>"
            ],
            "image/png": "[encoded data removed]"
          },
          "metadata": {
            "needs_background": "light"
          }
        }
      ],
      "source": [
        "sns.boxplot(x=\"quality\",y=\"chlorides\",data=data,palette=\"GnBu_d\")\n",
        "plt.title(\"Boxplot of Quality and Chlorides\")\n",
        "plt.show()"
      ]
    },
    {
      "cell_type": "markdown",
      "id": "32d71c8f",
      "metadata": {
        "papermill": {
          "duration": 0.066788,
          "end_time": "2022-03-22T02:40:35.591047",
          "exception": false,
          "start_time": "2022-03-22T02:40:35.524259",
          "status": "completed"
        },
        "tags": [],
        "id": "32d71c8f"
      },
      "source": [
        "Not much effect in the quality of wine for a particular amount of chlorides mixed in them."
      ]
    },
    {
      "cell_type": "code",
      "execution_count": 56,
      "id": "09d51316",
      "metadata": {
        "execution": {
          "iopub.execute_input": "2022-03-22T02:40:35.727333Z",
          "iopub.status.busy": "2022-03-22T02:40:35.726662Z",
          "iopub.status.idle": "2022-03-22T02:40:35.973236Z",
          "shell.execute_reply": "2022-03-22T02:40:35.972590Z",
          "shell.execute_reply.started": "2022-03-22T02:29:18.815584Z"
        },
        "papermill": {
          "duration": 0.315506,
          "end_time": "2022-03-22T02:40:35.973396",
          "exception": false,
          "start_time": "2022-03-22T02:40:35.657890",
          "status": "completed"
        },
        "tags": [],
        "id": "09d51316",
        "outputId": "24ace632-0698-4922-cc72-cac6333d9788",
        "colab": {
          "base_uri": "https://localhost:8080/",
          "height": 295
        }
      },
      "outputs": [
        {
          "output_type": "display_data",
          "data": {
            "text/plain": [
              "<Figure size 432x288 with 1 Axes>"
            ],
            "image/png": "[encoded data removed]"
          },
          "metadata": {
            "needs_background": "light"
          }
        }
      ],
      "source": [
        "sns.boxplot(x=\"quality\",y=\"citric_acid\",data=data,palette=\"coolwarm\")\n",
        "plt.title(\"Boxplot of Quality and Citric Acid\")\n",
        "plt.show()"
      ]
    },
    {
      "cell_type": "markdown",
      "id": "011436d0",
      "metadata": {
        "papermill": {
          "duration": 0.066689,
          "end_time": "2022-03-22T02:40:36.107286",
          "exception": false,
          "start_time": "2022-03-22T02:40:36.040597",
          "status": "completed"
        },
        "tags": [],
        "id": "011436d0"
      },
      "source": [
        "The quality of the wine increses with increase in the amount of citric acid in the wine."
      ]
    },
    {
      "cell_type": "code",
      "execution_count": 57,
      "id": "aa96a1f6",
      "metadata": {
        "execution": {
          "iopub.execute_input": "2022-03-22T02:40:36.249380Z",
          "iopub.status.busy": "2022-03-22T02:40:36.248702Z",
          "iopub.status.idle": "2022-03-22T02:40:36.717240Z",
          "shell.execute_reply": "2022-03-22T02:40:36.717840Z",
          "shell.execute_reply.started": "2022-03-22T02:29:19.041205Z"
        },
        "papermill": {
          "duration": 0.542092,
          "end_time": "2022-03-22T02:40:36.718014",
          "exception": false,
          "start_time": "2022-03-22T02:40:36.175922",
          "status": "completed"
        },
        "tags": [],
        "id": "aa96a1f6",
        "outputId": "dd300ab2-f350-4d18-d0d0-9879eaab2c37",
        "colab": {
          "base_uri": "https://localhost:8080/",
          "height": 295
        }
      },
      "outputs": [
        {
          "output_type": "display_data",
          "data": {
            "text/plain": [
              "<Figure size 432x288 with 1 Axes>"
            ],
            "image/png": "[encoded data removed]"
          },
          "metadata": {
            "needs_background": "light"
          }
        }
      ],
      "source": [
        "sns.boxplot(x=\"quality\",y=\"volatile_acidity\",data=data,palette=\"coolwarm\")\n",
        "plt.title(\"Boxplot of Quality and Volatile Acidity\")\n",
        "plt.show()"
      ]
    },
    {
      "cell_type": "markdown",
      "id": "bd7f825f",
      "metadata": {
        "papermill": {
          "duration": 0.068258,
          "end_time": "2022-03-22T02:40:36.855622",
          "exception": false,
          "start_time": "2022-03-22T02:40:36.787364",
          "status": "completed"
        },
        "tags": [],
        "id": "bd7f825f"
      },
      "source": [
        "The quality of wine increases with the decrease in the amount of volatile acids."
      ]
    },
    {
      "cell_type": "code",
      "execution_count": 58,
      "id": "d78713df",
      "metadata": {
        "execution": {
          "iopub.execute_input": "2022-03-22T02:40:36.994602Z",
          "iopub.status.busy": "2022-03-22T02:40:36.993839Z",
          "iopub.status.idle": "2022-03-22T02:40:37.237206Z",
          "shell.execute_reply": "2022-03-22T02:40:37.237786Z",
          "shell.execute_reply.started": "2022-03-22T02:29:19.275830Z"
        },
        "papermill": {
          "duration": 0.314696,
          "end_time": "2022-03-22T02:40:37.237966",
          "exception": false,
          "start_time": "2022-03-22T02:40:36.923270",
          "status": "completed"
        },
        "tags": [],
        "id": "d78713df",
        "outputId": "40fc0b5a-535e-4f42-8c98-ae268aa6b3b5",
        "colab": {
          "base_uri": "https://localhost:8080/",
          "height": 295
        }
      },
      "outputs": [
        {
          "output_type": "display_data",
          "data": {
            "text/plain": [
              "<Figure size 432x288 with 1 Axes>"
            ],
            "image/png": "[encoded data removed]"
          },
          "metadata": {
            "needs_background": "light"
          }
        }
      ],
      "source": [
        "sns.boxplot(x=\"quality\",y=\"fixed_acidity\",data=data,palette=\"coolwarm\")\n",
        "plt.title(\"Boxplot of Quality and Fixed Acidity\")\n",
        "plt.show()"
      ]
    },
    {
      "cell_type": "markdown",
      "id": "06ea4583",
      "metadata": {
        "papermill": {
          "duration": 0.06935,
          "end_time": "2022-03-22T02:40:37.376889",
          "exception": false,
          "start_time": "2022-03-22T02:40:37.307539",
          "status": "completed"
        },
        "tags": [],
        "id": "06ea4583"
      },
      "source": [
        "There is not much effect of fixed acidity on the quality of the wine just a slight increase."
      ]
    },
    {
      "cell_type": "markdown",
      "id": "c18fd82c",
      "metadata": {
        "papermill": {
          "duration": 0.069092,
          "end_time": "2022-03-22T02:40:37.516082",
          "exception": false,
          "start_time": "2022-03-22T02:40:37.446990",
          "status": "completed"
        },
        "tags": [],
        "id": "c18fd82c"
      },
      "source": [
        "## Data preprocessing"
      ]
    },
    {
      "cell_type": "code",
      "execution_count": 59,
      "id": "a654e158",
      "metadata": {
        "execution": {
          "iopub.execute_input": "2022-03-22T02:40:37.658091Z",
          "iopub.status.busy": "2022-03-22T02:40:37.657442Z",
          "iopub.status.idle": "2022-03-22T02:40:37.662265Z",
          "shell.execute_reply": "2022-03-22T02:40:37.662872Z",
          "shell.execute_reply.started": "2022-03-22T02:29:19.514814Z"
        },
        "papermill": {
          "duration": 0.077949,
          "end_time": "2022-03-22T02:40:37.663045",
          "exception": false,
          "start_time": "2022-03-22T02:40:37.585096",
          "status": "completed"
        },
        "tags": [],
        "id": "a654e158"
      },
      "outputs": [],
      "source": [
        "features = data.drop(['quality'] , axis = 1)\n",
        "target = data['quality']"
      ]
    },
    {
      "cell_type": "markdown",
      "id": "c23e7c97",
      "metadata": {
        "papermill": {
          "duration": 0.069915,
          "end_time": "2022-03-22T02:40:37.803177",
          "exception": false,
          "start_time": "2022-03-22T02:40:37.733262",
          "status": "completed"
        },
        "tags": [],
        "id": "c23e7c97"
      },
      "source": [
        "we will try the random forrest to analyse the feature importance"
      ]
    },
    {
      "cell_type": "code",
      "execution_count": 60,
      "id": "768bea84",
      "metadata": {
        "execution": {
          "iopub.execute_input": "2022-03-22T02:40:37.948018Z",
          "iopub.status.busy": "2022-03-22T02:40:37.947175Z",
          "iopub.status.idle": "2022-03-22T02:40:39.030014Z",
          "shell.execute_reply": "2022-03-22T02:40:39.029462Z",
          "shell.execute_reply.started": "2022-03-22T02:29:19.521279Z"
        },
        "papermill": {
          "duration": 1.157807,
          "end_time": "2022-03-22T02:40:39.030162",
          "exception": false,
          "start_time": "2022-03-22T02:40:37.872355",
          "status": "completed"
        },
        "tags": [],
        "id": "768bea84",
        "outputId": "3947872f-c92c-413d-8572-a37636819dd2",
        "colab": {
          "base_uri": "https://localhost:8080/",
          "height": 69
        }
      },
      "outputs": [
        {
          "output_type": "display_data",
          "data": {
            "text/plain": [
              "array([0.05043296, 0.14637423, 0.04330804, 0.05718016, 0.06609348,\n",
              "       0.04281109, 0.08150353, 0.05215828, 0.05651911, 0.13296219,\n",
              "       0.27065693])"
            ]
          },
          "metadata": {}
        }
      ],
      "source": [
        "from sklearn.ensemble import RandomForestRegressor\n",
        "\n",
        "model = RandomForestRegressor(random_state=1, max_depth=12)\n",
        "\n",
        "data = pd.get_dummies(data)\n",
        "model.fit(features, data.quality)\n",
        "display(model.feature_importances_)\n",
        "feat = data.columns\n",
        "\n",
        "imp = model.feature_importances_\n",
        "indices = np.argsort(imp)[:]"
      ]
    },
    {
      "cell_type": "code",
      "execution_count": 61,
      "id": "9a1ec7d8",
      "metadata": {
        "execution": {
          "iopub.execute_input": "2022-03-22T02:40:39.174625Z",
          "iopub.status.busy": "2022-03-22T02:40:39.173895Z",
          "iopub.status.idle": "2022-03-22T02:40:39.391895Z",
          "shell.execute_reply": "2022-03-22T02:40:39.391353Z",
          "shell.execute_reply.started": "2022-03-22T02:29:20.550861Z"
        },
        "papermill": {
          "duration": 0.291583,
          "end_time": "2022-03-22T02:40:39.392044",
          "exception": false,
          "start_time": "2022-03-22T02:40:39.100461",
          "status": "completed"
        },
        "tags": [],
        "id": "9a1ec7d8",
        "outputId": "7d820448-6260-4359-fe93-1e1c030fcb03",
        "colab": {
          "base_uri": "https://localhost:8080/",
          "height": 295
        }
      },
      "outputs": [
        {
          "output_type": "display_data",
          "data": {
            "text/plain": [
              "<Figure size 432x288 with 1 Axes>"
            ],
            "image/png": "[encoded data removed]"
          },
          "metadata": {
            "needs_background": "light"
          }
        }
      ],
      "source": [
        "plt.title('Feature imp')\n",
        "plt.barh(range(len(indices)), imp[indices], color='b', align='center')\n",
        "plt.yticks(range(len(indices)), [feat[i] for i in indices])\n",
        "plt.xlabel('Relative Importance')\n",
        "plt.show()"
      ]
    },
    {
      "cell_type": "markdown",
      "id": "ce04a279",
      "metadata": {
        "papermill": {
          "duration": 0.070138,
          "end_time": "2022-03-22T02:40:39.535108",
          "exception": false,
          "start_time": "2022-03-22T02:40:39.464970",
          "status": "completed"
        },
        "tags": [],
        "id": "ce04a279"
      },
      "source": [
        "The top features to affect the quality of the wine are Alcohol,Sulphates, and volatile acidity and the least important features such as fixed acidity,fee sulpher dioxide and citric acid, so the least important can be removed."
      ]
    },
    {
      "cell_type": "code",
      "execution_count": 62,
      "id": "1a931621",
      "metadata": {
        "execution": {
          "iopub.execute_input": "2022-03-22T02:40:39.693843Z",
          "iopub.status.busy": "2022-03-22T02:40:39.686735Z",
          "iopub.status.idle": "2022-03-22T02:40:39.707152Z",
          "shell.execute_reply": "2022-03-22T02:40:39.706502Z",
          "shell.execute_reply.started": "2022-03-22T02:29:20.767173Z"
        },
        "papermill": {
          "duration": 0.101523,
          "end_time": "2022-03-22T02:40:39.707346",
          "exception": false,
          "start_time": "2022-03-22T02:40:39.605823",
          "status": "completed"
        },
        "tags": [],
        "id": "1a931621",
        "outputId": "51fdaaa0-9ee5-4d9b-cc9d-0c8c1ca1ec78",
        "colab": {
          "base_uri": "https://localhost:8080/",
          "height": 488
        }
      },
      "outputs": [
        {
          "output_type": "execute_result",
          "data": {
            "text/plain": [
              "      volatile_acidity  residual_sugar  chlorides  total_sulfur_dioxide  \\\n",
              "0            -0.356675        0.641854  -2.577022              3.526361   \n",
              "1            -0.127833        0.955511  -2.322788              4.204693   \n",
              "2            -0.274437        0.832909  -2.385967              3.988984   \n",
              "3            -1.272966        0.641854  -2.590267              4.094345   \n",
              "4            -0.356675        0.641854  -2.577022              3.526361   \n",
              "...                ...             ...        ...                   ...   \n",
              "1594         -0.510826        0.693147  -2.407946              3.784190   \n",
              "1595         -0.597837        0.788457  -2.780621              3.931826   \n",
              "1596         -0.673345        0.832909  -2.577022              3.688879   \n",
              "1597         -0.438505        0.693147  -2.590267              3.784190   \n",
              "1598         -1.171183        1.280934  -2.703063              3.737670   \n",
              "\n",
              "       density        pH  sulphates   alcohol  \n",
              "0    -0.002202  1.255616  -0.579818  2.240710  \n",
              "1    -0.003205  1.163151  -0.385662  2.282382  \n",
              "2    -0.003005  1.181727  -0.430783  2.282382  \n",
              "3    -0.002002  1.150572  -0.544727  2.282382  \n",
              "4    -0.002202  1.255616  -0.579818  2.240710  \n",
              "...        ...       ...        ...       ...  \n",
              "1594 -0.005113  1.238374  -0.544727  2.351375  \n",
              "1595 -0.004892  1.258461  -0.274437  2.415914  \n",
              "1596 -0.004269  1.229641  -0.287682  2.397895  \n",
              "1597 -0.004540  1.272566  -0.342490  2.322388  \n",
              "1598 -0.004520  1.220830  -0.415515  2.397895  \n",
              "\n",
              "[1599 rows x 8 columns]"
            ],
            "text/html": [
              "\n",
              "  <div id=\"df-617b8055-d284-4ca8-afea-838b434d3053\">\n",
              "    <div class=\"colab-df-container\">\n",
              "      <div>\n",
              "<style scoped>\n",
              "    .dataframe tbody tr th:only-of-type {\n",
              "        vertical-align: middle;\n",
              "    }\n",
              "\n",
              "    .dataframe tbody tr th {\n",
              "        vertical-align: top;\n",
              "    }\n",
              "\n",
              "    .dataframe thead th {\n",
              "        text-align: right;\n",
              "    }\n",
              "</style>\n",
              "<table border=\"1\" class=\"dataframe\">\n",
              "  <thead>\n",
              "    <tr style=\"text-align: right;\">\n",
              "      <th></th>\n",
              "      <th>volatile_acidity</th>\n",
              "      <th>residual_sugar</th>\n",
              "      <th>chlorides</th>\n",
              "      <th>total_sulfur_dioxide</th>\n",
              "      <th>density</th>\n",
              "      <th>pH</th>\n",
              "      <th>sulphates</th>\n",
              "      <th>alcohol</th>\n",
              "    </tr>\n",
              "  </thead>\n",
              "  <tbody>\n",
              "    <tr>\n",
              "      <th>0</th>\n",
              "      <td>-0.356675</td>\n",
              "      <td>0.641854</td>\n",
              "      <td>-2.577022</td>\n",
              "      <td>3.526361</td>\n",
              "      <td>-0.002202</td>\n",
              "      <td>1.255616</td>\n",
              "      <td>-0.579818</td>\n",
              "      <td>2.240710</td>\n",
              "    </tr>\n",
              "    <tr>\n",
              "      <th>1</th>\n",
              "      <td>-0.127833</td>\n",
              "      <td>0.955511</td>\n",
              "      <td>-2.322788</td>\n",
              "      <td>4.204693</td>\n",
              "      <td>-0.003205</td>\n",
              "      <td>1.163151</td>\n",
              "      <td>-0.385662</td>\n",
              "      <td>2.282382</td>\n",
              "    </tr>\n",
              "    <tr>\n",
              "      <th>2</th>\n",
              "      <td>-0.274437</td>\n",
              "      <td>0.832909</td>\n",
              "      <td>-2.385967</td>\n",
              "      <td>3.988984</td>\n",
              "      <td>-0.003005</td>\n",
              "      <td>1.181727</td>\n",
              "      <td>-0.430783</td>\n",
              "      <td>2.282382</td>\n",
              "    </tr>\n",
              "    <tr>\n",
              "      <th>3</th>\n",
              "      <td>-1.272966</td>\n",
              "      <td>0.641854</td>\n",
              "      <td>-2.590267</td>\n",
              "      <td>4.094345</td>\n",
              "      <td>-0.002002</td>\n",
              "      <td>1.150572</td>\n",
              "      <td>-0.544727</td>\n",
              "      <td>2.282382</td>\n",
              "    </tr>\n",
              "    <tr>\n",
              "      <th>4</th>\n",
              "      <td>-0.356675</td>\n",
              "      <td>0.641854</td>\n",
              "      <td>-2.577022</td>\n",
              "      <td>3.526361</td>\n",
              "      <td>-0.002202</td>\n",
              "      <td>1.255616</td>\n",
              "      <td>-0.579818</td>\n",
              "      <td>2.240710</td>\n",
              "    </tr>\n",
              "    <tr>\n",
              "      <th>...</th>\n",
              "      <td>...</td>\n",
              "      <td>...</td>\n",
              "      <td>...</td>\n",
              "      <td>...</td>\n",
              "      <td>...</td>\n",
              "      <td>...</td>\n",
              "      <td>...</td>\n",
              "      <td>...</td>\n",
              "    </tr>\n",
              "    <tr>\n",
              "      <th>1594</th>\n",
              "      <td>-0.510826</td>\n",
              "      <td>0.693147</td>\n",
              "      <td>-2.407946</td>\n",
              "      <td>3.784190</td>\n",
              "      <td>-0.005113</td>\n",
              "      <td>1.238374</td>\n",
              "      <td>-0.544727</td>\n",
              "      <td>2.351375</td>\n",
              "    </tr>\n",
              "    <tr>\n",
              "      <th>1595</th>\n",
              "      <td>-0.597837</td>\n",
              "      <td>0.788457</td>\n",
              "      <td>-2.780621</td>\n",
              "      <td>3.931826</td>\n",
              "      <td>-0.004892</td>\n",
              "      <td>1.258461</td>\n",
              "      <td>-0.274437</td>\n",
              "      <td>2.415914</td>\n",
              "    </tr>\n",
              "    <tr>\n",
              "      <th>1596</th>\n",
              "      <td>-0.673345</td>\n",
              "      <td>0.832909</td>\n",
              "      <td>-2.577022</td>\n",
              "      <td>3.688879</td>\n",
              "      <td>-0.004269</td>\n",
              "      <td>1.229641</td>\n",
              "      <td>-0.287682</td>\n",
              "      <td>2.397895</td>\n",
              "    </tr>\n",
              "    <tr>\n",
              "      <th>1597</th>\n",
              "      <td>-0.438505</td>\n",
              "      <td>0.693147</td>\n",
              "      <td>-2.590267</td>\n",
              "      <td>3.784190</td>\n",
              "      <td>-0.004540</td>\n",
              "      <td>1.272566</td>\n",
              "      <td>-0.342490</td>\n",
              "      <td>2.322388</td>\n",
              "    </tr>\n",
              "    <tr>\n",
              "      <th>1598</th>\n",
              "      <td>-1.171183</td>\n",
              "      <td>1.280934</td>\n",
              "      <td>-2.703063</td>\n",
              "      <td>3.737670</td>\n",
              "      <td>-0.004520</td>\n",
              "      <td>1.220830</td>\n",
              "      <td>-0.415515</td>\n",
              "      <td>2.397895</td>\n",
              "    </tr>\n",
              "  </tbody>\n",
              "</table>\n",
              "<p>1599 rows × 8 columns</p>\n",
              "</div>\n",
              "      <button class=\"colab-df-convert\" onclick=\"convertToInteractive('df-617b8055-d284-4ca8-afea-838b434d3053')\"\n",
              "              title=\"Convert this dataframe to an interactive table.\"\n",
              "              style=\"display:none;\">\n",
              "        \n",
              "  <svg xmlns=\"http://www.w3.org/2000/svg\" height=\"24px\"viewBox=\"0 0 24 24\"\n",
              "       width=\"24px\">\n",
              "    <path d=\"M0 0h24v24H0V0z\" fill=\"none\"/>\n",
              "    <path d=\"M18.56 5.44l.94 2.06.94-2.06 2.06-.94-2.06-.94-.94-2.06-.94 2.06-2.06.94zm-11 1L8.5 8.5l.94-2.06 2.06-.94-2.06-.94L8.5 2.5l-.94 2.06-2.06.94zm10 10l.94 2.06.94-2.06 2.06-.94-2.06-.94-.94-2.06-.94 2.06-2.06.94z\"/><path d=\"M17.41 7.96l-1.37-1.37c-.4-.4-.92-.59-1.43-.59-.52 0-1.04.2-1.43.59L10.3 9.45l-7.72 7.72c-.78.78-.78 2.05 0 2.83L4 21.41c.39.39.9.59 1.41.59.51 0 1.02-.2 1.41-.59l7.78-7.78 2.81-2.81c.8-.78.8-2.07 0-2.86zM5.41 20L4 18.59l7.72-7.72 1.47 1.35L5.41 20z\"/>\n",
              "  </svg>\n",
              "      </button>\n",
              "      \n",
              "  <style>\n",
              "    .colab-df-container {\n",
              "      display:flex;\n",
              "      flex-wrap:wrap;\n",
              "      gap: 12px;\n",
              "    }\n",
              "\n",
              "    .colab-df-convert {\n",
              "      background-color: #E8F0FE;\n",
              "      border: none;\n",
              "      border-radius: 50%;\n",
              "      cursor: pointer;\n",
              "      display: none;\n",
              "      fill: #1967D2;\n",
              "      height: 32px;\n",
              "      padding: 0 0 0 0;\n",
              "      width: 32px;\n",
              "    }\n",
              "\n",
              "    .colab-df-convert:hover {\n",
              "      background-color: #E2EBFA;\n",
              "      box-shadow: 0px 1px 2px rgba(60, 64, 67, 0.3), 0px 1px 3px 1px rgba(60, 64, 67, 0.15);\n",
              "      fill: #174EA6;\n",
              "    }\n",
              "\n",
              "    [theme=dark] .colab-df-convert {\n",
              "      background-color: #3B4455;\n",
              "      fill: #D2E3FC;\n",
              "    }\n",
              "\n",
              "    [theme=dark] .colab-df-convert:hover {\n",
              "      background-color: #434B5C;\n",
              "      box-shadow: 0px 1px 3px 1px rgba(0, 0, 0, 0.15);\n",
              "      filter: drop-shadow(0px 1px 2px rgba(0, 0, 0, 0.3));\n",
              "      fill: #FFFFFF;\n",
              "    }\n",
              "  </style>\n",
              "\n",
              "      <script>\n",
              "        const buttonEl =\n",
              "          document.querySelector('#df-617b8055-d284-4ca8-afea-838b434d3053 button.colab-df-convert');\n",
              "        buttonEl.style.display =\n",
              "          google.colab.kernel.accessAllowed ? 'block' : 'none';\n",
              "\n",
              "        async function convertToInteractive(key) {\n",
              "          const element = document.querySelector('#df-617b8055-d284-4ca8-afea-838b434d3053');\n",
              "          const dataTable =\n",
              "            await google.colab.kernel.invokeFunction('convertToInteractive',\n",
              "                                                     [key], {});\n",
              "          if (!dataTable) return;\n",
              "\n",
              "          const docLinkHtml = 'Like what you see? Visit the ' +\n",
              "            '<a target=\"_blank\" href=https://colab.research.google.com/notebooks/data_table.ipynb>data table notebook</a>'\n",
              "            + ' to learn more about interactive tables.';\n",
              "          element.innerHTML = '';\n",
              "          dataTable['output_type'] = 'display_data';\n",
              "          await google.colab.output.renderOutput(dataTable, element);\n",
              "          const docLink = document.createElement('div');\n",
              "          docLink.innerHTML = docLinkHtml;\n",
              "          element.appendChild(docLink);\n",
              "        }\n",
              "      </script>\n",
              "    </div>\n",
              "  </div>\n",
              "  "
            ]
          },
          "metadata": {},
          "execution_count": 62
        }
      ],
      "source": [
        "del features['fixed_acidity']\n",
        "del features['free_sulfur_dioxide']\n",
        "del features['citric_acid']\n",
        "features"
      ]
    },
    {
      "cell_type": "code",
      "execution_count": 63,
      "id": "93fb3440",
      "metadata": {
        "execution": {
          "iopub.execute_input": "2022-03-22T02:40:39.856480Z",
          "iopub.status.busy": "2022-03-22T02:40:39.855764Z",
          "iopub.status.idle": "2022-03-22T02:40:39.860707Z",
          "shell.execute_reply": "2022-03-22T02:40:39.861236Z",
          "shell.execute_reply.started": "2022-03-22T02:29:20.792958Z"
        },
        "papermill": {
          "duration": 0.08116,
          "end_time": "2022-03-22T02:40:39.861455",
          "exception": false,
          "start_time": "2022-03-22T02:40:39.780295",
          "status": "completed"
        },
        "tags": [],
        "id": "93fb3440"
      },
      "outputs": [],
      "source": [
        "from sklearn.preprocessing import StandardScaler, LabelEncoder\n",
        "\n",
        "le = LabelEncoder()\n",
        "y = le.fit_transform(data.iloc[: , -1])\n",
        "y = pd.DataFrame(y.reshape(len(y),1))"
      ]
    },
    {
      "cell_type": "code",
      "execution_count": 64,
      "id": "ce12115d",
      "metadata": {
        "execution": {
          "iopub.execute_input": "2022-03-22T02:40:40.009188Z",
          "iopub.status.busy": "2022-03-22T02:40:40.008525Z",
          "iopub.status.idle": "2022-03-22T02:40:40.014501Z",
          "shell.execute_reply": "2022-03-22T02:40:40.015108Z",
          "shell.execute_reply.started": "2022-03-22T02:29:20.801397Z"
        },
        "papermill": {
          "duration": 0.082151,
          "end_time": "2022-03-22T02:40:40.015297",
          "exception": false,
          "start_time": "2022-03-22T02:40:39.933146",
          "status": "completed"
        },
        "tags": [],
        "id": "ce12115d"
      },
      "outputs": [],
      "source": [
        "x_train, x_test, y_train, y_test = train_test_split(features,y, test_size = 0.2, random_state = 0)"
      ]
    },
    {
      "cell_type": "code",
      "execution_count": 65,
      "id": "89e2ba66",
      "metadata": {
        "execution": {
          "iopub.execute_input": "2022-03-22T02:40:40.164888Z",
          "iopub.status.busy": "2022-03-22T02:40:40.164164Z",
          "iopub.status.idle": "2022-03-22T02:40:41.281075Z",
          "shell.execute_reply": "2022-03-22T02:40:41.280455Z",
          "shell.execute_reply.started": "2022-03-22T02:29:20.818103Z"
        },
        "papermill": {
          "duration": 1.191933,
          "end_time": "2022-03-22T02:40:41.281228",
          "exception": false,
          "start_time": "2022-03-22T02:40:40.089295",
          "status": "completed"
        },
        "tags": [],
        "id": "89e2ba66"
      },
      "outputs": [],
      "source": [
        "y_train_cat = tf.keras.utils.to_categorical(y_train, 6)\n",
        "y_test_cat = tf.keras.utils.to_categorical(y_test, 6)"
      ]
    },
    {
      "cell_type": "markdown",
      "id": "691dca49",
      "metadata": {
        "papermill": {
          "duration": 0.072667,
          "end_time": "2022-03-22T02:40:41.426390",
          "exception": false,
          "start_time": "2022-03-22T02:40:41.353723",
          "status": "completed"
        },
        "tags": [],
        "id": "691dca49"
      },
      "source": [
        "## Tensorflow DNNs"
      ]
    },
    {
      "cell_type": "code",
      "execution_count": 66,
      "id": "dc0c4686",
      "metadata": {
        "execution": {
          "iopub.execute_input": "2022-03-22T02:40:41.579174Z",
          "iopub.status.busy": "2022-03-22T02:40:41.578416Z",
          "iopub.status.idle": "2022-03-22T02:40:41.581890Z",
          "shell.execute_reply": "2022-03-22T02:40:41.581360Z",
          "shell.execute_reply.started": "2022-03-22T02:31:06.227306Z"
        },
        "papermill": {
          "duration": 0.08235,
          "end_time": "2022-03-22T02:40:41.582042",
          "exception": false,
          "start_time": "2022-03-22T02:40:41.499692",
          "status": "completed"
        },
        "tags": [],
        "id": "dc0c4686"
      },
      "outputs": [],
      "source": [
        "def create_feature_column():\n",
        "    feat_volatile_acidity = tf.feature_column.numeric_column('volatile_acidity')\n",
        "    feat_residual_sugar = tf.feature_column.numeric_column('residual_sugar')\n",
        "    feat_chlorides = tf.feature_column.numeric_column('chlorides')\n",
        "    feat_total_sulfur_dioxide  = tf.feature_column.numeric_column('total_sulfur_dioxide')\n",
        "    feat_density              = tf.feature_column.numeric_column('density')\n",
        "    feat_pH  = tf.feature_column.numeric_column('pH')\n",
        "    feat_sulphates  = tf.feature_column.numeric_column('sulphates')\n",
        "    feat_alcohol  = tf.feature_column.numeric_column('alcohol')\n",
        "\n",
        "\n",
        "    feature_column = [ feat_volatile_acidity,feat_residual_sugar, feat_chlorides, \n",
        "                       feat_total_sulfur_dioxide,feat_density,feat_pH,feat_sulphates,feat_alcohol] \n",
        "\n",
        "    return feature_column\n",
        "feature_column = create_feature_column()"
      ]
    },
    {
      "cell_type": "code",
      "execution_count": 67,
      "id": "6d39b991",
      "metadata": {
        "execution": {
          "iopub.execute_input": "2022-03-22T02:40:41.732556Z",
          "iopub.status.busy": "2022-03-22T02:40:41.731810Z",
          "iopub.status.idle": "2022-03-22T02:40:41.734833Z",
          "shell.execute_reply": "2022-03-22T02:40:41.734230Z",
          "shell.execute_reply.started": "2022-03-22T02:31:07.183432Z"
        },
        "papermill": {
          "duration": 0.081406,
          "end_time": "2022-03-22T02:40:41.734985",
          "exception": false,
          "start_time": "2022-03-22T02:40:41.653579",
          "status": "completed"
        },
        "tags": [],
        "id": "6d39b991"
      },
      "outputs": [],
      "source": [
        "def traineval(x_train, y_train, training=False, batch_size=128):\n",
        "    \"\"\"An input function for training or evaluating\"\"\"\n",
        "    # Convert the inputs to a Dataset.\n",
        "    dataset = tf.data.Dataset.from_tensor_slices((dict(x_train), y_train))\n",
        "\n",
        "    # Shuffle and repeat if you are in training mode.\n",
        "    if training:\n",
        "        dataset = dataset.shuffle(1000).repeat()\n",
        "\n",
        "    return dataset.batch(batch_size)\n"
      ]
    },
    {
      "cell_type": "code",
      "execution_count": 68,
      "id": "ea90a35d",
      "metadata": {
        "execution": {
          "iopub.execute_input": "2022-03-22T02:40:41.886152Z",
          "iopub.status.busy": "2022-03-22T02:40:41.885440Z",
          "iopub.status.idle": "2022-03-22T02:40:41.889607Z",
          "shell.execute_reply": "2022-03-22T02:40:41.890170Z",
          "shell.execute_reply.started": "2022-03-22T02:31:08.534255Z"
        },
        "papermill": {
          "duration": 0.082424,
          "end_time": "2022-03-22T02:40:41.890361",
          "exception": false,
          "start_time": "2022-03-22T02:40:41.807937",
          "status": "completed"
        },
        "tags": [],
        "id": "ea90a35d"
      },
      "outputs": [],
      "source": [
        "my_feature_columns = []\n",
        "for key in data.keys():\n",
        "    my_feature_columns.append(tf.feature_column.numeric_column(key=key))"
      ]
    },
    {
      "cell_type": "code",
      "execution_count": 69,
      "id": "2635601d",
      "metadata": {
        "execution": {
          "iopub.execute_input": "2022-03-22T02:40:42.040612Z",
          "iopub.status.busy": "2022-03-22T02:40:42.039655Z",
          "iopub.status.idle": "2022-03-22T02:40:42.418773Z",
          "shell.execute_reply": "2022-03-22T02:40:42.417982Z",
          "shell.execute_reply.started": "2022-03-22T02:31:09.195638Z"
        },
        "papermill": {
          "duration": 0.456863,
          "end_time": "2022-03-22T02:40:42.418981",
          "exception": false,
          "start_time": "2022-03-22T02:40:41.962118",
          "status": "completed"
        },
        "tags": [],
        "id": "2635601d",
        "outputId": "b4daa706-58cf-4264-d307-9dd30dafe126",
        "colab": {
          "base_uri": "https://localhost:8080/"
        }
      },
      "outputs": [
        {
          "output_type": "stream",
          "name": "stderr",
          "text": [
            "WARNING:tensorflow:Using temporary folder as model directory: /tmp/tmpkk0ocibc\n"
          ]
        }
      ],
      "source": [
        "dnn = tf.estimator.DNNClassifier(hidden_units = [20,20,20],\n",
        "                                      feature_columns = feature_column,\n",
        "                                      n_classes= 6,\n",
        "                                      activation_fn=tf.nn.relu,\n",
        "                                      dropout=None)"
      ]
    },
    {
      "cell_type": "code",
      "execution_count": 70,
      "id": "86a73cd4",
      "metadata": {
        "execution": {
          "iopub.execute_input": "2022-03-22T02:40:42.568489Z",
          "iopub.status.busy": "2022-03-22T02:40:42.567773Z",
          "iopub.status.idle": "2022-03-22T02:40:58.963083Z",
          "shell.execute_reply": "2022-03-22T02:40:58.962297Z",
          "shell.execute_reply.started": "2022-03-22T02:31:12.136316Z"
        },
        "papermill": {
          "duration": 16.469857,
          "end_time": "2022-03-22T02:40:58.963224",
          "exception": false,
          "start_time": "2022-03-22T02:40:42.493367",
          "status": "completed"
        },
        "tags": [],
        "id": "86a73cd4",
        "outputId": "811a9827-3958-4b04-c4dd-a1ee8eb945a7",
        "colab": {
          "base_uri": "https://localhost:8080/"
        }
      },
      "outputs": [
        {
          "output_type": "execute_result",
          "data": {
            "text/plain": [
              "<tensorflow_estimator.python.estimator.canned.dnn.DNNClassifierV2 at 0x7f2648398e80>"
            ]
          },
          "metadata": {},
          "execution_count": 70
        }
      ],
      "source": [
        "dnn.train(\n",
        "    input_fn= lambda: traineval(x_train, y_train , training=True), steps=10000)"
      ]
    },
    {
      "cell_type": "code",
      "execution_count": 71,
      "id": "433e4a66",
      "metadata": {
        "execution": {
          "iopub.execute_input": "2022-03-22T02:40:59.114549Z",
          "iopub.status.busy": "2022-03-22T02:40:59.113842Z",
          "iopub.status.idle": "2022-03-22T02:40:59.972775Z",
          "shell.execute_reply": "2022-03-22T02:40:59.972151Z",
          "shell.execute_reply.started": "2022-03-22T02:31:31.081511Z"
        },
        "papermill": {
          "duration": 0.936706,
          "end_time": "2022-03-22T02:40:59.972923",
          "exception": false,
          "start_time": "2022-03-22T02:40:59.036217",
          "status": "completed"
        },
        "tags": [],
        "id": "433e4a66"
      },
      "outputs": [],
      "source": [
        "eval_result = dnn.evaluate(input_fn=lambda: traineval(x_test, y_test, training=False))\n",
        "predictions = dnn.predict(input_fn=lambda: traineval(x_test, y_test, training=False))"
      ]
    },
    {
      "cell_type": "code",
      "execution_count": 72,
      "id": "ed41db9d",
      "metadata": {
        "execution": {
          "iopub.execute_input": "2022-03-22T02:41:00.124008Z",
          "iopub.status.busy": "2022-03-22T02:41:00.123127Z",
          "iopub.status.idle": "2022-03-22T02:41:00.126903Z",
          "shell.execute_reply": "2022-03-22T02:41:00.127397Z",
          "shell.execute_reply.started": "2022-03-22T02:31:54.549883Z"
        },
        "papermill": {
          "duration": 0.081122,
          "end_time": "2022-03-22T02:41:00.127583",
          "exception": false,
          "start_time": "2022-03-22T02:41:00.046461",
          "status": "completed"
        },
        "tags": [],
        "id": "ed41db9d",
        "outputId": "92809571-f69b-459f-ce39-0810ea37a670",
        "colab": {
          "base_uri": "https://localhost:8080/"
        }
      },
      "outputs": [
        {
          "output_type": "stream",
          "name": "stdout",
          "text": [
            "{'accuracy': 0.521875, 'average_loss': 1.0843542, 'loss': 1.0857548, 'global_step': 10000}\n"
          ]
        }
      ],
      "source": [
        "print(eval_result)"
      ]
    },
    {
      "cell_type": "code",
      "execution_count": 73,
      "id": "b0661542",
      "metadata": {
        "execution": {
          "iopub.execute_input": "2022-03-22T02:41:00.292613Z",
          "iopub.status.busy": "2022-03-22T02:41:00.291604Z",
          "iopub.status.idle": "2022-03-22T02:41:21.333673Z",
          "shell.execute_reply": "2022-03-22T02:41:21.333053Z",
          "shell.execute_reply.started": "2022-03-22T02:32:00.686785Z"
        },
        "papermill": {
          "duration": 21.132972,
          "end_time": "2022-03-22T02:41:21.333839",
          "exception": false,
          "start_time": "2022-03-22T02:41:00.200867",
          "status": "completed"
        },
        "tags": [],
        "id": "b0661542",
        "outputId": "5945f73f-df85-4159-c2a0-0568464ab95d",
        "colab": {
          "base_uri": "https://localhost:8080/"
        }
      },
      "outputs": [
        {
          "output_type": "stream",
          "name": "stdout",
          "text": [
            "Model: \"sequential_1\"\n",
            "_________________________________________________________________\n",
            " Layer (type)                Output Shape              Param #   \n",
            "=================================================================\n",
            " dense_7 (Dense)             (None, 300)               2700      \n",
            "                                                                 \n",
            " dense_8 (Dense)             (None, 200)               60200     \n",
            "                                                                 \n",
            " dense_9 (Dense)             (None, 150)               30150     \n",
            "                                                                 \n",
            " dense_10 (Dense)            (None, 100)               15100     \n",
            "                                                                 \n",
            " dense_11 (Dense)            (None, 100)               10100     \n",
            "                                                                 \n",
            " dense_12 (Dense)            (None, 80)                8080      \n",
            "                                                                 \n",
            " dense_13 (Dense)            (None, 6)                 486       \n",
            "                                                                 \n",
            "=================================================================\n",
            "Total params: 126,816\n",
            "Trainable params: 126,816\n",
            "Non-trainable params: 0\n",
            "_________________________________________________________________\n",
            "Epoch 1/150\n",
            "40/40 [==============================] - 1s 11ms/step - loss: 1.3112 - accuracy: 0.4222 - val_loss: 1.1064 - val_accuracy: 0.4469\n",
            "Epoch 2/150\n",
            "40/40 [==============================] - 0s 6ms/step - loss: 1.1455 - accuracy: 0.4754 - val_loss: 1.0881 - val_accuracy: 0.5063\n",
            "Epoch 3/150\n",
            "40/40 [==============================] - 0s 6ms/step - loss: 1.0930 - accuracy: 0.5278 - val_loss: 1.0620 - val_accuracy: 0.5219\n",
            "Epoch 4/150\n",
            "40/40 [==============================] - 0s 7ms/step - loss: 1.0562 - accuracy: 0.5434 - val_loss: 1.0283 - val_accuracy: 0.5688\n",
            "Epoch 5/150\n",
            "40/40 [==============================] - 1s 13ms/step - loss: 1.0449 - accuracy: 0.5496 - val_loss: 0.9944 - val_accuracy: 0.5938\n",
            "Epoch 6/150\n",
            "40/40 [==============================] - 0s 12ms/step - loss: 1.0310 - accuracy: 0.5489 - val_loss: 0.9705 - val_accuracy: 0.5969\n",
            "Epoch 7/150\n",
            "40/40 [==============================] - 1s 13ms/step - loss: 1.0263 - accuracy: 0.5692 - val_loss: 1.0571 - val_accuracy: 0.5094\n",
            "Epoch 8/150\n",
            "40/40 [==============================] - 1s 13ms/step - loss: 1.0458 - accuracy: 0.5395 - val_loss: 0.9856 - val_accuracy: 0.6125\n",
            "Epoch 9/150\n",
            "40/40 [==============================] - 1s 19ms/step - loss: 1.0231 - accuracy: 0.5348 - val_loss: 1.0138 - val_accuracy: 0.5437\n",
            "Epoch 10/150\n",
            "40/40 [==============================] - 1s 17ms/step - loss: 1.0123 - accuracy: 0.5567 - val_loss: 1.0291 - val_accuracy: 0.5375\n",
            "Epoch 11/150\n",
            "40/40 [==============================] - 1s 24ms/step - loss: 1.0165 - accuracy: 0.5371 - val_loss: 0.9834 - val_accuracy: 0.5844\n",
            "Epoch 12/150\n",
            "40/40 [==============================] - 1s 14ms/step - loss: 1.0007 - accuracy: 0.5598 - val_loss: 1.0283 - val_accuracy: 0.5656\n",
            "Epoch 13/150\n",
            "40/40 [==============================] - 0s 12ms/step - loss: 0.9997 - accuracy: 0.5489 - val_loss: 1.0176 - val_accuracy: 0.5562\n",
            "Epoch 14/150\n",
            "40/40 [==============================] - 1s 14ms/step - loss: 0.9956 - accuracy: 0.5536 - val_loss: 1.0267 - val_accuracy: 0.5219\n",
            "Epoch 15/150\n",
            "40/40 [==============================] - 1s 14ms/step - loss: 1.0090 - accuracy: 0.5559 - val_loss: 0.9577 - val_accuracy: 0.5938\n",
            "Epoch 16/150\n",
            "40/40 [==============================] - 1s 13ms/step - loss: 0.9808 - accuracy: 0.5723 - val_loss: 0.9760 - val_accuracy: 0.5656\n",
            "Epoch 17/150\n",
            "40/40 [==============================] - 1s 13ms/step - loss: 0.9756 - accuracy: 0.5731 - val_loss: 0.9971 - val_accuracy: 0.5625\n",
            "Epoch 18/150\n",
            "40/40 [==============================] - 0s 9ms/step - loss: 0.9790 - accuracy: 0.5653 - val_loss: 0.9684 - val_accuracy: 0.5938\n",
            "Epoch 19/150\n",
            "40/40 [==============================] - 0s 6ms/step - loss: 0.9772 - accuracy: 0.5668 - val_loss: 0.9823 - val_accuracy: 0.5813\n",
            "Epoch 20/150\n",
            "40/40 [==============================] - 0s 6ms/step - loss: 0.9607 - accuracy: 0.5723 - val_loss: 0.9894 - val_accuracy: 0.5875\n",
            "Epoch 21/150\n",
            "40/40 [==============================] - 0s 6ms/step - loss: 0.9554 - accuracy: 0.5927 - val_loss: 0.9632 - val_accuracy: 0.5781\n",
            "Epoch 22/150\n",
            "40/40 [==============================] - 0s 6ms/step - loss: 0.9651 - accuracy: 0.5637 - val_loss: 1.0052 - val_accuracy: 0.5938\n",
            "Epoch 23/150\n",
            "40/40 [==============================] - 0s 6ms/step - loss: 0.9573 - accuracy: 0.5731 - val_loss: 0.9958 - val_accuracy: 0.5344\n",
            "Epoch 24/150\n",
            "40/40 [==============================] - 0s 7ms/step - loss: 0.9675 - accuracy: 0.5465 - val_loss: 0.9659 - val_accuracy: 0.5813\n",
            "Epoch 25/150\n",
            "40/40 [==============================] - 0s 7ms/step - loss: 0.9497 - accuracy: 0.5645 - val_loss: 0.9941 - val_accuracy: 0.5594\n",
            "Epoch 26/150\n",
            "40/40 [==============================] - 0s 6ms/step - loss: 0.9515 - accuracy: 0.5762 - val_loss: 0.9992 - val_accuracy: 0.5500\n",
            "Epoch 27/150\n",
            "40/40 [==============================] - 0s 7ms/step - loss: 0.9418 - accuracy: 0.5770 - val_loss: 0.9719 - val_accuracy: 0.6031\n",
            "Epoch 28/150\n",
            "40/40 [==============================] - 0s 6ms/step - loss: 0.9561 - accuracy: 0.5622 - val_loss: 0.9700 - val_accuracy: 0.6000\n",
            "Epoch 29/150\n",
            "40/40 [==============================] - 0s 7ms/step - loss: 0.9640 - accuracy: 0.5637 - val_loss: 0.9672 - val_accuracy: 0.6094\n",
            "Epoch 30/150\n",
            "40/40 [==============================] - 0s 7ms/step - loss: 0.9428 - accuracy: 0.5864 - val_loss: 1.0000 - val_accuracy: 0.5938\n",
            "Epoch 31/150\n",
            "40/40 [==============================] - 0s 8ms/step - loss: 0.9201 - accuracy: 0.5841 - val_loss: 0.9576 - val_accuracy: 0.6094\n",
            "Epoch 32/150\n",
            "40/40 [==============================] - 0s 7ms/step - loss: 0.9171 - accuracy: 0.5950 - val_loss: 0.9766 - val_accuracy: 0.5781\n",
            "Epoch 33/150\n",
            "40/40 [==============================] - 0s 6ms/step - loss: 0.9445 - accuracy: 0.5770 - val_loss: 0.9792 - val_accuracy: 0.5813\n",
            "Epoch 34/150\n",
            "40/40 [==============================] - 0s 7ms/step - loss: 0.9113 - accuracy: 0.5817 - val_loss: 0.9527 - val_accuracy: 0.6187\n",
            "Epoch 35/150\n",
            "40/40 [==============================] - 0s 6ms/step - loss: 0.9048 - accuracy: 0.5958 - val_loss: 0.9808 - val_accuracy: 0.5844\n",
            "Epoch 36/150\n",
            "40/40 [==============================] - 0s 7ms/step - loss: 0.9125 - accuracy: 0.5997 - val_loss: 0.9478 - val_accuracy: 0.6250\n",
            "Epoch 37/150\n",
            "40/40 [==============================] - 0s 7ms/step - loss: 0.9098 - accuracy: 0.5981 - val_loss: 0.9464 - val_accuracy: 0.6062\n",
            "Epoch 38/150\n",
            "40/40 [==============================] - 0s 6ms/step - loss: 0.9044 - accuracy: 0.5903 - val_loss: 0.9504 - val_accuracy: 0.6031\n",
            "Epoch 39/150\n",
            "40/40 [==============================] - 0s 6ms/step - loss: 0.9224 - accuracy: 0.5801 - val_loss: 0.9497 - val_accuracy: 0.5906\n",
            "Epoch 40/150\n",
            "40/40 [==============================] - 0s 7ms/step - loss: 0.9082 - accuracy: 0.5903 - val_loss: 0.9560 - val_accuracy: 0.6000\n",
            "Epoch 41/150\n",
            "40/40 [==============================] - 0s 7ms/step - loss: 0.9272 - accuracy: 0.5856 - val_loss: 0.9665 - val_accuracy: 0.6187\n",
            "Epoch 42/150\n",
            "40/40 [==============================] - 0s 7ms/step - loss: 0.8934 - accuracy: 0.5911 - val_loss: 0.9543 - val_accuracy: 0.6156\n",
            "Epoch 43/150\n",
            "40/40 [==============================] - 0s 6ms/step - loss: 0.8891 - accuracy: 0.6106 - val_loss: 0.9874 - val_accuracy: 0.6156\n",
            "Epoch 44/150\n",
            "40/40 [==============================] - 0s 7ms/step - loss: 0.9161 - accuracy: 0.5880 - val_loss: 0.9829 - val_accuracy: 0.6062\n",
            "Epoch 45/150\n",
            "40/40 [==============================] - 0s 6ms/step - loss: 0.8816 - accuracy: 0.6075 - val_loss: 0.9609 - val_accuracy: 0.6000\n",
            "Epoch 46/150\n",
            "40/40 [==============================] - 0s 6ms/step - loss: 0.8794 - accuracy: 0.5950 - val_loss: 1.0166 - val_accuracy: 0.5906\n",
            "Epoch 47/150\n",
            "40/40 [==============================] - 0s 7ms/step - loss: 0.8823 - accuracy: 0.6020 - val_loss: 0.9954 - val_accuracy: 0.6000\n",
            "Epoch 48/150\n",
            "40/40 [==============================] - 0s 7ms/step - loss: 0.8732 - accuracy: 0.6185 - val_loss: 0.9676 - val_accuracy: 0.5938\n",
            "Epoch 49/150\n",
            "40/40 [==============================] - 0s 7ms/step - loss: 0.8834 - accuracy: 0.6036 - val_loss: 1.0391 - val_accuracy: 0.5594\n",
            "Epoch 50/150\n",
            "40/40 [==============================] - 0s 6ms/step - loss: 0.8889 - accuracy: 0.6200 - val_loss: 1.0872 - val_accuracy: 0.5281\n",
            "Epoch 51/150\n",
            "40/40 [==============================] - 0s 7ms/step - loss: 0.9019 - accuracy: 0.6020 - val_loss: 0.9906 - val_accuracy: 0.6000\n",
            "Epoch 52/150\n",
            "40/40 [==============================] - 0s 7ms/step - loss: 0.8844 - accuracy: 0.6130 - val_loss: 0.9871 - val_accuracy: 0.6094\n",
            "Epoch 53/150\n",
            "40/40 [==============================] - 0s 7ms/step - loss: 0.8587 - accuracy: 0.6161 - val_loss: 0.9624 - val_accuracy: 0.6313\n",
            "Epoch 54/150\n",
            "40/40 [==============================] - 0s 6ms/step - loss: 0.8422 - accuracy: 0.6403 - val_loss: 0.9743 - val_accuracy: 0.6281\n",
            "Epoch 55/150\n",
            "40/40 [==============================] - 0s 11ms/step - loss: 0.8471 - accuracy: 0.6255 - val_loss: 0.9726 - val_accuracy: 0.6156\n",
            "Epoch 56/150\n",
            "40/40 [==============================] - 0s 12ms/step - loss: 0.8420 - accuracy: 0.6317 - val_loss: 0.9623 - val_accuracy: 0.6281\n",
            "Epoch 57/150\n",
            "40/40 [==============================] - 0s 12ms/step - loss: 0.8724 - accuracy: 0.6192 - val_loss: 0.9787 - val_accuracy: 0.5969\n",
            "Epoch 58/150\n",
            "40/40 [==============================] - 0s 12ms/step - loss: 0.8625 - accuracy: 0.6153 - val_loss: 0.9709 - val_accuracy: 0.6187\n",
            "Epoch 59/150\n",
            "40/40 [==============================] - 0s 11ms/step - loss: 0.8392 - accuracy: 0.6403 - val_loss: 0.9716 - val_accuracy: 0.6125\n",
            "Epoch 60/150\n",
            "40/40 [==============================] - 1s 13ms/step - loss: 0.8380 - accuracy: 0.6388 - val_loss: 1.0083 - val_accuracy: 0.6062\n",
            "Epoch 61/150\n",
            "40/40 [==============================] - 0s 10ms/step - loss: 0.8220 - accuracy: 0.6403 - val_loss: 1.0245 - val_accuracy: 0.6031\n",
            "Epoch 62/150\n",
            "40/40 [==============================] - 0s 7ms/step - loss: 0.8516 - accuracy: 0.6161 - val_loss: 0.9690 - val_accuracy: 0.6375\n",
            "Epoch 63/150\n",
            "40/40 [==============================] - 0s 6ms/step - loss: 0.8281 - accuracy: 0.6388 - val_loss: 0.9990 - val_accuracy: 0.6000\n",
            "Epoch 64/150\n",
            "40/40 [==============================] - 0s 6ms/step - loss: 0.8365 - accuracy: 0.6411 - val_loss: 0.9703 - val_accuracy: 0.6344\n",
            "Epoch 65/150\n",
            "40/40 [==============================] - 0s 6ms/step - loss: 0.8285 - accuracy: 0.6333 - val_loss: 0.9892 - val_accuracy: 0.6250\n",
            "Epoch 66/150\n",
            "40/40 [==============================] - 0s 7ms/step - loss: 0.8249 - accuracy: 0.6263 - val_loss: 0.9940 - val_accuracy: 0.6062\n",
            "Epoch 67/150\n",
            "40/40 [==============================] - 0s 7ms/step - loss: 0.8256 - accuracy: 0.6333 - val_loss: 0.9946 - val_accuracy: 0.6031\n",
            "Epoch 68/150\n",
            "40/40 [==============================] - 0s 6ms/step - loss: 0.8165 - accuracy: 0.6435 - val_loss: 0.9771 - val_accuracy: 0.6313\n",
            "Epoch 69/150\n",
            "40/40 [==============================] - 0s 7ms/step - loss: 0.7970 - accuracy: 0.6435 - val_loss: 0.9850 - val_accuracy: 0.6250\n",
            "Epoch 70/150\n",
            "40/40 [==============================] - 0s 6ms/step - loss: 0.7897 - accuracy: 0.6529 - val_loss: 1.0033 - val_accuracy: 0.6438\n",
            "Epoch 71/150\n",
            "40/40 [==============================] - 0s 6ms/step - loss: 0.7981 - accuracy: 0.6599 - val_loss: 1.0103 - val_accuracy: 0.6313\n",
            "Epoch 72/150\n",
            "40/40 [==============================] - 0s 6ms/step - loss: 0.8588 - accuracy: 0.6106 - val_loss: 1.0450 - val_accuracy: 0.6031\n",
            "Epoch 73/150\n",
            "40/40 [==============================] - 0s 7ms/step - loss: 0.8415 - accuracy: 0.6278 - val_loss: 1.0261 - val_accuracy: 0.6125\n",
            "Epoch 74/150\n",
            "40/40 [==============================] - 0s 7ms/step - loss: 0.7825 - accuracy: 0.6583 - val_loss: 0.9987 - val_accuracy: 0.6438\n",
            "Epoch 75/150\n",
            "40/40 [==============================] - 0s 6ms/step - loss: 0.7890 - accuracy: 0.6521 - val_loss: 1.0595 - val_accuracy: 0.5844\n",
            "Epoch 76/150\n",
            "40/40 [==============================] - 0s 7ms/step - loss: 0.8264 - accuracy: 0.6435 - val_loss: 1.0137 - val_accuracy: 0.6438\n",
            "Epoch 77/150\n",
            "40/40 [==============================] - 0s 7ms/step - loss: 0.7772 - accuracy: 0.6677 - val_loss: 1.0509 - val_accuracy: 0.6125\n",
            "Epoch 78/150\n",
            "40/40 [==============================] - 0s 6ms/step - loss: 0.7900 - accuracy: 0.6513 - val_loss: 1.0913 - val_accuracy: 0.6156\n",
            "Epoch 79/150\n",
            "40/40 [==============================] - 0s 6ms/step - loss: 0.7862 - accuracy: 0.6521 - val_loss: 1.0529 - val_accuracy: 0.5969\n",
            "Epoch 80/150\n",
            "40/40 [==============================] - 0s 6ms/step - loss: 0.7691 - accuracy: 0.6552 - val_loss: 1.0186 - val_accuracy: 0.6219\n",
            "Epoch 81/150\n",
            "40/40 [==============================] - 0s 7ms/step - loss: 0.7558 - accuracy: 0.6685 - val_loss: 1.0577 - val_accuracy: 0.6250\n",
            "Epoch 82/150\n",
            "40/40 [==============================] - 0s 6ms/step - loss: 0.7813 - accuracy: 0.6544 - val_loss: 1.0905 - val_accuracy: 0.6000\n",
            "Epoch 83/150\n",
            "40/40 [==============================] - 0s 7ms/step - loss: 0.7700 - accuracy: 0.6661 - val_loss: 1.0370 - val_accuracy: 0.6406\n",
            "Epoch 84/150\n",
            "40/40 [==============================] - 0s 7ms/step - loss: 0.7981 - accuracy: 0.6489 - val_loss: 1.0583 - val_accuracy: 0.5969\n",
            "Epoch 85/150\n",
            "40/40 [==============================] - 0s 7ms/step - loss: 0.7726 - accuracy: 0.6505 - val_loss: 1.0871 - val_accuracy: 0.6375\n",
            "Epoch 86/150\n",
            "40/40 [==============================] - 0s 7ms/step - loss: 0.7786 - accuracy: 0.6575 - val_loss: 1.1350 - val_accuracy: 0.5813\n",
            "Epoch 87/150\n",
            "40/40 [==============================] - 0s 6ms/step - loss: 0.7580 - accuracy: 0.6575 - val_loss: 1.0272 - val_accuracy: 0.6375\n",
            "Epoch 88/150\n",
            "40/40 [==============================] - 0s 7ms/step - loss: 0.7399 - accuracy: 0.6701 - val_loss: 1.0407 - val_accuracy: 0.6375\n",
            "Epoch 89/150\n",
            "40/40 [==============================] - 0s 6ms/step - loss: 0.7423 - accuracy: 0.6646 - val_loss: 1.0860 - val_accuracy: 0.6187\n",
            "Epoch 90/150\n",
            "40/40 [==============================] - 0s 8ms/step - loss: 0.7971 - accuracy: 0.6372 - val_loss: 1.0602 - val_accuracy: 0.6375\n",
            "Epoch 91/150\n",
            "40/40 [==============================] - 0s 7ms/step - loss: 0.7515 - accuracy: 0.6763 - val_loss: 1.0277 - val_accuracy: 0.6344\n",
            "Epoch 92/150\n",
            "40/40 [==============================] - 0s 7ms/step - loss: 0.7496 - accuracy: 0.6654 - val_loss: 1.0679 - val_accuracy: 0.6156\n",
            "Epoch 93/150\n",
            "40/40 [==============================] - 0s 7ms/step - loss: 0.7332 - accuracy: 0.6787 - val_loss: 1.0944 - val_accuracy: 0.6250\n",
            "Epoch 94/150\n",
            "40/40 [==============================] - 0s 7ms/step - loss: 0.7118 - accuracy: 0.6787 - val_loss: 1.1920 - val_accuracy: 0.5625\n",
            "Epoch 95/150\n",
            "40/40 [==============================] - 0s 7ms/step - loss: 0.7099 - accuracy: 0.6873 - val_loss: 1.1729 - val_accuracy: 0.6344\n",
            "Epoch 96/150\n",
            "40/40 [==============================] - 0s 6ms/step - loss: 0.7361 - accuracy: 0.6802 - val_loss: 1.1802 - val_accuracy: 0.6125\n",
            "Epoch 97/150\n",
            "40/40 [==============================] - 0s 8ms/step - loss: 0.7190 - accuracy: 0.6716 - val_loss: 1.1779 - val_accuracy: 0.6187\n",
            "Epoch 98/150\n",
            "40/40 [==============================] - 1s 13ms/step - loss: 0.6964 - accuracy: 0.6966 - val_loss: 1.0501 - val_accuracy: 0.6406\n",
            "Epoch 99/150\n",
            "40/40 [==============================] - 0s 12ms/step - loss: 0.7452 - accuracy: 0.6685 - val_loss: 1.1013 - val_accuracy: 0.6219\n",
            "Epoch 100/150\n",
            "40/40 [==============================] - 0s 12ms/step - loss: 0.7134 - accuracy: 0.6912 - val_loss: 1.1717 - val_accuracy: 0.6344\n",
            "Epoch 101/150\n",
            "40/40 [==============================] - 0s 12ms/step - loss: 0.6919 - accuracy: 0.6849 - val_loss: 1.1598 - val_accuracy: 0.6125\n",
            "Epoch 102/150\n",
            "40/40 [==============================] - 0s 11ms/step - loss: 0.6943 - accuracy: 0.6998 - val_loss: 1.1150 - val_accuracy: 0.6344\n",
            "Epoch 103/150\n",
            "40/40 [==============================] - 1s 13ms/step - loss: 0.6910 - accuracy: 0.6904 - val_loss: 1.1501 - val_accuracy: 0.6344\n",
            "Epoch 104/150\n",
            "40/40 [==============================] - 0s 8ms/step - loss: 0.6749 - accuracy: 0.7099 - val_loss: 1.1822 - val_accuracy: 0.6438\n",
            "Epoch 105/150\n",
            "40/40 [==============================] - 0s 7ms/step - loss: 0.6797 - accuracy: 0.6959 - val_loss: 1.1671 - val_accuracy: 0.6219\n",
            "Epoch 106/150\n",
            "40/40 [==============================] - 0s 7ms/step - loss: 0.7421 - accuracy: 0.6646 - val_loss: 1.1428 - val_accuracy: 0.6219\n",
            "Epoch 107/150\n",
            "40/40 [==============================] - 0s 6ms/step - loss: 0.7527 - accuracy: 0.6654 - val_loss: 1.1477 - val_accuracy: 0.6062\n",
            "Epoch 108/150\n",
            "40/40 [==============================] - 0s 7ms/step - loss: 0.6902 - accuracy: 0.6927 - val_loss: 1.1998 - val_accuracy: 0.6094\n",
            "Epoch 109/150\n",
            "40/40 [==============================] - 0s 7ms/step - loss: 0.6744 - accuracy: 0.7107 - val_loss: 1.1778 - val_accuracy: 0.6344\n",
            "Epoch 110/150\n",
            "40/40 [==============================] - 0s 7ms/step - loss: 0.6794 - accuracy: 0.6990 - val_loss: 1.1662 - val_accuracy: 0.6187\n",
            "Epoch 111/150\n",
            "40/40 [==============================] - 0s 7ms/step - loss: 0.6636 - accuracy: 0.7029 - val_loss: 1.2088 - val_accuracy: 0.6250\n",
            "Epoch 112/150\n",
            "40/40 [==============================] - 0s 7ms/step - loss: 0.6619 - accuracy: 0.7052 - val_loss: 1.2307 - val_accuracy: 0.6344\n",
            "Epoch 113/150\n",
            "40/40 [==============================] - 0s 7ms/step - loss: 0.6591 - accuracy: 0.7084 - val_loss: 1.1978 - val_accuracy: 0.6406\n",
            "Epoch 114/150\n",
            "40/40 [==============================] - 0s 7ms/step - loss: 0.6647 - accuracy: 0.7005 - val_loss: 1.2538 - val_accuracy: 0.6250\n",
            "Epoch 115/150\n",
            "40/40 [==============================] - 0s 6ms/step - loss: 0.6772 - accuracy: 0.6951 - val_loss: 1.1410 - val_accuracy: 0.6375\n",
            "Epoch 116/150\n",
            "40/40 [==============================] - 0s 6ms/step - loss: 0.6606 - accuracy: 0.7107 - val_loss: 1.2150 - val_accuracy: 0.6219\n",
            "Epoch 117/150\n",
            "40/40 [==============================] - 0s 7ms/step - loss: 0.6295 - accuracy: 0.7263 - val_loss: 1.2624 - val_accuracy: 0.6250\n",
            "Epoch 118/150\n",
            "40/40 [==============================] - 0s 7ms/step - loss: 0.6805 - accuracy: 0.6896 - val_loss: 1.2881 - val_accuracy: 0.5906\n",
            "Epoch 119/150\n",
            "40/40 [==============================] - 0s 7ms/step - loss: 0.7336 - accuracy: 0.6802 - val_loss: 1.1738 - val_accuracy: 0.6313\n",
            "Epoch 120/150\n",
            "40/40 [==============================] - 0s 7ms/step - loss: 0.6426 - accuracy: 0.7154 - val_loss: 1.1492 - val_accuracy: 0.6438\n",
            "Epoch 121/150\n",
            "40/40 [==============================] - 0s 7ms/step - loss: 0.6345 - accuracy: 0.7279 - val_loss: 1.1590 - val_accuracy: 0.6531\n",
            "Epoch 122/150\n",
            "40/40 [==============================] - 0s 7ms/step - loss: 0.6492 - accuracy: 0.7052 - val_loss: 1.3449 - val_accuracy: 0.5688\n",
            "Epoch 123/150\n",
            "40/40 [==============================] - 0s 6ms/step - loss: 0.6694 - accuracy: 0.7068 - val_loss: 1.1653 - val_accuracy: 0.6562\n",
            "Epoch 124/150\n",
            "40/40 [==============================] - 0s 7ms/step - loss: 0.6157 - accuracy: 0.7248 - val_loss: 1.2283 - val_accuracy: 0.6469\n",
            "Epoch 125/150\n",
            "40/40 [==============================] - 0s 7ms/step - loss: 0.6498 - accuracy: 0.7177 - val_loss: 1.2273 - val_accuracy: 0.6344\n",
            "Epoch 126/150\n",
            "40/40 [==============================] - 0s 7ms/step - loss: 0.6558 - accuracy: 0.6982 - val_loss: 1.2152 - val_accuracy: 0.5969\n",
            "Epoch 127/150\n",
            "40/40 [==============================] - 0s 7ms/step - loss: 0.6110 - accuracy: 0.7295 - val_loss: 1.3234 - val_accuracy: 0.6156\n",
            "Epoch 128/150\n",
            "40/40 [==============================] - 0s 7ms/step - loss: 0.6042 - accuracy: 0.7365 - val_loss: 1.3460 - val_accuracy: 0.6219\n",
            "Epoch 129/150\n",
            "40/40 [==============================] - 0s 7ms/step - loss: 0.6374 - accuracy: 0.7224 - val_loss: 1.2730 - val_accuracy: 0.6219\n",
            "Epoch 130/150\n",
            "40/40 [==============================] - 0s 6ms/step - loss: 0.6090 - accuracy: 0.7373 - val_loss: 1.2993 - val_accuracy: 0.6375\n",
            "Epoch 131/150\n",
            "40/40 [==============================] - 0s 7ms/step - loss: 0.5879 - accuracy: 0.7506 - val_loss: 1.2606 - val_accuracy: 0.6375\n",
            "Epoch 132/150\n",
            "40/40 [==============================] - 0s 6ms/step - loss: 0.5937 - accuracy: 0.7389 - val_loss: 1.2892 - val_accuracy: 0.6562\n",
            "Epoch 133/150\n",
            "40/40 [==============================] - 0s 7ms/step - loss: 0.5616 - accuracy: 0.7608 - val_loss: 1.3845 - val_accuracy: 0.6469\n",
            "Epoch 134/150\n",
            "40/40 [==============================] - 0s 7ms/step - loss: 0.6314 - accuracy: 0.7193 - val_loss: 1.3995 - val_accuracy: 0.6094\n",
            "Epoch 135/150\n",
            "40/40 [==============================] - 0s 8ms/step - loss: 0.5862 - accuracy: 0.7396 - val_loss: 1.2899 - val_accuracy: 0.6625\n",
            "Epoch 136/150\n",
            "40/40 [==============================] - 0s 7ms/step - loss: 0.6096 - accuracy: 0.7326 - val_loss: 1.3796 - val_accuracy: 0.6187\n",
            "Epoch 137/150\n",
            "40/40 [==============================] - 0s 7ms/step - loss: 0.5996 - accuracy: 0.7365 - val_loss: 1.3566 - val_accuracy: 0.6187\n",
            "Epoch 138/150\n",
            "40/40 [==============================] - 0s 6ms/step - loss: 0.5823 - accuracy: 0.7522 - val_loss: 1.3120 - val_accuracy: 0.6500\n",
            "Epoch 139/150\n",
            "40/40 [==============================] - 0s 7ms/step - loss: 0.5369 - accuracy: 0.7623 - val_loss: 1.3628 - val_accuracy: 0.6812\n",
            "Epoch 140/150\n",
            "40/40 [==============================] - 0s 12ms/step - loss: 0.5657 - accuracy: 0.7615 - val_loss: 1.4287 - val_accuracy: 0.6438\n",
            "Epoch 141/150\n",
            "40/40 [==============================] - 0s 12ms/step - loss: 0.6228 - accuracy: 0.7271 - val_loss: 1.4012 - val_accuracy: 0.6094\n",
            "Epoch 142/150\n",
            "40/40 [==============================] - 0s 12ms/step - loss: 0.5605 - accuracy: 0.7568 - val_loss: 1.3656 - val_accuracy: 0.6281\n",
            "Epoch 143/150\n",
            "40/40 [==============================] - 1s 12ms/step - loss: 0.5354 - accuracy: 0.7623 - val_loss: 1.3703 - val_accuracy: 0.6500\n",
            "Epoch 144/150\n",
            "40/40 [==============================] - 0s 12ms/step - loss: 0.5366 - accuracy: 0.7631 - val_loss: 1.4603 - val_accuracy: 0.6719\n",
            "Epoch 145/150\n",
            "40/40 [==============================] - 1s 13ms/step - loss: 0.5141 - accuracy: 0.7631 - val_loss: 1.5227 - val_accuracy: 0.6594\n",
            "Epoch 146/150\n",
            "40/40 [==============================] - 0s 8ms/step - loss: 0.5530 - accuracy: 0.7545 - val_loss: 1.4846 - val_accuracy: 0.6094\n",
            "Epoch 147/150\n",
            "40/40 [==============================] - 0s 7ms/step - loss: 0.5662 - accuracy: 0.7529 - val_loss: 1.5020 - val_accuracy: 0.6344\n",
            "Epoch 148/150\n",
            "40/40 [==============================] - 0s 7ms/step - loss: 0.5844 - accuracy: 0.7334 - val_loss: 1.2740 - val_accuracy: 0.6406\n",
            "Epoch 149/150\n",
            "40/40 [==============================] - 0s 7ms/step - loss: 0.5494 - accuracy: 0.7608 - val_loss: 1.4922 - val_accuracy: 0.6469\n",
            "Epoch 150/150\n",
            "40/40 [==============================] - 0s 7ms/step - loss: 0.5618 - accuracy: 0.7553 - val_loss: 1.3892 - val_accuracy: 0.6562\n"
          ]
        }
      ],
      "source": [
        "nn = tf.keras.models.Sequential(layers = None , name = None)\n",
        "nn.add(tf.keras.layers.Input(shape = 8,))\n",
        "nn.add(tf.keras.layers.Dense(units = 300 , activation = \"relu\" ))\n",
        "nn.add(tf.keras.layers.Dense(units = 200 , activation = \"relu\" ))\n",
        "nn.add(tf.keras.layers.Dense(units = 150 , activation = \"relu\" ))\n",
        "nn.add(tf.keras.layers.Dense(units = 100 , activation = \"relu\" ))\n",
        "nn.add(tf.keras.layers.Dense(units = 100 , activation = \"relu\" ))\n",
        "nn.add(tf.keras.layers.Dense(units = 80 , activation = \"relu\" ))\n",
        "nn.add(tf.keras.layers.Dense(units = 6 , activation = \"sigmoid\"))\n",
        "nn.summary()\n",
        "nn.compile(optimizer = 'adam' , loss = 'categorical_crossentropy' ,metrics= ['accuracy'])\n",
        "history = nn.fit(x_train, y_train_cat,  batch_size= 32, epochs = 150 , validation_data = (x_test,y_test_cat))\n",
        "\n"
      ]
    },
    {
      "cell_type": "markdown",
      "id": "d2d16b70",
      "metadata": {
        "papermill": {
          "duration": 0.237664,
          "end_time": "2022-03-22T02:41:21.810943",
          "exception": false,
          "start_time": "2022-03-22T02:41:21.573279",
          "status": "completed"
        },
        "tags": [],
        "id": "d2d16b70"
      },
      "source": [
        "<h2>Model Evaluation</h2>"
      ]
    },
    {
      "cell_type": "code",
      "execution_count": 74,
      "id": "d513dfb2",
      "metadata": {
        "execution": {
          "iopub.execute_input": "2022-03-22T02:41:22.293606Z",
          "iopub.status.busy": "2022-03-22T02:41:22.292968Z",
          "iopub.status.idle": "2022-03-22T02:41:22.507073Z",
          "shell.execute_reply": "2022-03-22T02:41:22.506531Z",
          "shell.execute_reply.started": "2022-03-22T02:34:45.146161Z"
        },
        "papermill": {
          "duration": 0.454016,
          "end_time": "2022-03-22T02:41:22.507221",
          "exception": false,
          "start_time": "2022-03-22T02:41:22.053205",
          "status": "completed"
        },
        "tags": [],
        "id": "d513dfb2",
        "outputId": "6c92e0f4-0520-447e-ac19-5dcf7c3ff1ad",
        "colab": {
          "base_uri": "https://localhost:8080/",
          "height": 295
        }
      },
      "outputs": [
        {
          "output_type": "display_data",
          "data": {
            "text/plain": [
              "<Figure size 432x288 with 1 Axes>"
            ],
            "image/png": "[encoded data removed]"
          },
          "metadata": {
            "needs_background": "light"
          }
        }
      ],
      "source": [
        "#Here we plot the loss vs Validation loss using a line graph.\n",
        "plt.plot(history.history['loss'], label='training data')\n",
        "plt.plot(history.history['val_loss'], label='validation data')\n",
        "plt.legend()\n",
        "plt.title('MAE for model')\n",
        "plt.ylabel('MAE')\n",
        "plt.xlabel('epoch')\n",
        "plt.show()"
      ]
    },
    {
      "cell_type": "markdown",
      "id": "e564deaf",
      "metadata": {
        "papermill": {
          "duration": 0.24098,
          "end_time": "2022-03-22T02:41:22.991999",
          "exception": false,
          "start_time": "2022-03-22T02:41:22.751019",
          "status": "completed"
        },
        "tags": [],
        "id": "e564deaf"
      },
      "source": [
        "*Here* we are plotting the training accuracy vs validation accuracy. "
      ]
    },
    {
      "cell_type": "code",
      "execution_count": 75,
      "id": "15a94a30",
      "metadata": {
        "execution": {
          "iopub.execute_input": "2022-03-22T02:41:23.475530Z",
          "iopub.status.busy": "2022-03-22T02:41:23.474853Z",
          "iopub.status.idle": "2022-03-22T02:41:23.688159Z",
          "shell.execute_reply": "2022-03-22T02:41:23.688706Z",
          "shell.execute_reply.started": "2022-03-22T02:34:52.345943Z"
        },
        "papermill": {
          "duration": 0.455888,
          "end_time": "2022-03-22T02:41:23.688880",
          "exception": false,
          "start_time": "2022-03-22T02:41:23.232992",
          "status": "completed"
        },
        "tags": [],
        "id": "15a94a30",
        "outputId": "2c50f078-c41e-4e62-8dfe-e76c786e7423",
        "colab": {
          "base_uri": "https://localhost:8080/",
          "height": 295
        }
      },
      "outputs": [
        {
          "output_type": "display_data",
          "data": {
            "text/plain": [
              "<Figure size 432x288 with 1 Axes>"
            ],
            "image/png": "[encoded data removed]"
          },
          "metadata": {
            "needs_background": "light"
          }
        }
      ],
      "source": [
        "plt.plot(history.history['accuracy'], label='Accuracy training data')\n",
        "plt.plot(history.history['val_accuracy'], label='Accuracy validation data')\n",
        "plt.legend()\n",
        "plt.title('Model accuracy')\n",
        "plt.ylabel('Accuracy')\n",
        "plt.xlabel('epoch')\n",
        "plt.show()"
      ]
    },
    {
      "cell_type": "markdown",
      "id": "592f10f7",
      "metadata": {
        "papermill": {
          "duration": 0.240883,
          "end_time": "2022-03-22T02:41:24.171529",
          "exception": false,
          "start_time": "2022-03-22T02:41:23.930646",
          "status": "completed"
        },
        "tags": [],
        "id": "592f10f7"
      },
      "source": [
        "<h2>CONCLUSION</h2>"
      ]
    },
    {
      "cell_type": "markdown",
      "id": "bd1522c2",
      "metadata": {
        "papermill": {
          "duration": 0.242355,
          "end_time": "2022-03-22T02:41:24.652810",
          "exception": false,
          "start_time": "2022-03-22T02:41:24.410455",
          "status": "completed"
        },
        "tags": [],
        "id": "bd1522c2"
      },
      "source": [
        "We could see the loss is high in the beginning. However, it descreases with the iterations. The training data has less loss when compared to the validation data. Also, The model is not properly trained with few resons like small validation set, biased data because the model has test time more robust and can lead to higher testing accuracies. And the plot is showing us that it is giving better acuuracy in Validation testing.\n",
        "\n",
        "Keras accuracy is higher than the DNN classifier on average. The loss also lower in Keras compared to DNN classifier.\n"
      ]
    }
  ],
  "metadata": {
    "kernelspec": {
      "display_name": "Python 3",
      "language": "python",
      "name": "python3"
    },
    "language_info": {
      "codemirror_mode": {
        "name": "ipython",
        "version": 3
      },
      "file_extension": ".py",
      "mimetype": "text/x-python",
      "name": "python",
      "nbconvert_exporter": "python",
      "pygments_lexer": "ipython3",
      "version": "3.7.12"
    },
    "papermill": {
      "default_parameters": {},
      "duration": 74.837033,
      "end_time": "2022-03-22T02:41:27.895563",
      "environment_variables": {},
      "exception": null,
      "input_path": "__notebook__.ipynb",
      "output_path": "__notebook__.ipynb",
      "parameters": {},
      "start_time": "2022-03-22T02:40:13.058530",
      "version": "2.3.3"
    },
    "colab": {
      "provenance": []
    }
  },
  "nbformat": 4,
  "nbformat_minor": 5
}