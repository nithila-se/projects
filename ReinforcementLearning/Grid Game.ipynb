{
 "cells": [
  {
   "cell_type": "code",
   "execution_count": 2,
   "metadata": {
    "id": "VWK18UxVA-zq"
   },
   "outputs": [],
   "source": [
    "# Import relevant Libraries\n",
    "# used for data visualization which provides a convenient interface for creating plots and charts.\n",
    "import matplotlib.pyplot as plt\n",
    "# used for scientific computing and numerical analysis. It provides a powerful N-dimensional array object, useful for working with large multi-dimensional arrays and matrices.\n",
    "import numpy as np\n",
    "# used for scientific computing and technical computing. It contains modules for optimization, integration, interpolation, signal and image processing, linear algebra, and more.\n",
    "# linalg module within scipy provides tools for linear algebra computations, such as matrix decompositions, solving linear systems, and computing determinants and inverses of matrices.\n",
    "from scipy import linalg\n",
    "# # provides support for type hints, which allows  to annotate the expected types of function arguments and return values\n",
    "# from typing import Tuple"
   ]
  },
  {
   "cell_type": "code",
   "execution_count": 3,
   "metadata": {
    "id": "50ZghDsDQBQv"
   },
   "outputs": [],
   "source": [
    "# this function helps to plot the matrix in a grid \n",
    "def matrix_visualization(Matrix, cmap=plt.cm.Blues):\n",
    "    figure, axis = plt.subplots()\n",
    "    axis.matshow(Matrix, cmap=cmap)\n",
    "    # traverse through rows in the grid\n",
    "    for row in range(Matrix.shape[0]):\n",
    "      # traverse through columns in the grid\n",
    "        for column in range(Matrix.shape[1]):\n",
    "            cell = Matrix[column, row]\n",
    "            axis.text(row, column, \"%.2f\" % cell, va=\"center\", ha=\"center\")"
   ]
  },
  {
   "cell_type": "code",
   "execution_count": 4,
   "metadata": {
    "id": "jlmhTVaXQarL"
   },
   "outputs": [],
   "source": [
    "# the assignment mentioned that to consider 5*5 grid for the game\n",
    "grid_size = 5\n",
    "# as per the question if the agent end up with bad states the game over\n",
    "bad_states = [ (1, 1), (4, 4)]\n",
    "# as per the question there were 2 cells mentioned as winning cells with corresponding reward\n",
    "good_states = [(0, 1), (0, 3)]\n",
    "# in assingnment there were 2 cells with the arrow towards to it\n",
    "to_states = [(4, 2), (2, 3)]\n",
    "# in assignment there were 2 rewards given for the good cells mentioned above\n",
    "good_rewards = [10, 5]\n",
    "# decide the next state and rewards acording to current state and chosen action\n",
    "def step( state, action):\n",
    "        # extract the column and row details from the current state\n",
    "        row, column = state\n",
    "        # extract information such as good state,reward,to state for each combination of all three\n",
    "        for good_state, reward, to_state in zip(good_states, good_rewards, to_states):\n",
    "          # the current state is a good state it will automatically navigate to to states with the relevant rewards\n",
    "            if (row, column) == good_state:\n",
    "                return (to_state, reward)\n",
    "        reward = 0\n",
    "        # if the current state is inside the list of bad states, the reward could be -1 which is a penalty\n",
    "        if state in bad_states:\n",
    "            reward = -1\n",
    "          # if the action is left the agent suppose to move by one cell left which become new state and by default the reward could be -1 for all cells\n",
    "        if action == \"left\":\n",
    "            column_next = max(column - 1, 0)\n",
    "            row_next = row\n",
    "            if column - 1 < 0:\n",
    "                reward = -1\n",
    "          # if the action is right the agent suppose to move by one cell right which become new state and by default the reward could be -1 for all cells\n",
    "        elif action == \"right\":\n",
    "            column_next = min(column + 1, grid_size - 1)\n",
    "            row_next = row\n",
    "            if column + 1 > grid_size - 1:\n",
    "                reward = -1\n",
    "                # if the action is left the agent suppose to move by one cell up which become new state and by default the reward could be -1 for all cells\n",
    "        elif action == \"up\":\n",
    "            column_next = column\n",
    "            row_next = max(row - 1, 0)\n",
    "            if row - 1 < 0:\n",
    "                reward = -1\n",
    "                # if the action is left the agent suppose to move by one cell down which become new state and by default the reward could be -1 for all cells\n",
    "        elif action == \"down\":\n",
    "            column_next = column\n",
    "            row_next = min(row + 1,grid_size - 1)\n",
    "            if row + 1 > grid_size - 1:\n",
    "                reward = -1\n",
    "        else:\n",
    "          # if there is any issue with action , such as new action than the pool this section will trow an error\n",
    "            raise ValueError(\"Invalid action\")\n",
    "        return ((row_next, column_next), reward)\n",
    "\n"
   ]
  },
  {
   "cell_type": "code",
   "execution_count": 5,
   "metadata": {
    "id": "aK6m-8ivQens"
   },
   "outputs": [],
   "source": [
    "\n",
    "# setting up  probability matrix metrix with 2 dimention array of 2D array\n",
    "#[1,  2,  3,  4,  5]\n",
    "#[6,  7,  8,  9,  10]\n",
    "#[11, 12, 13, 14, 15]\n",
    "#[16, 17, 18, 19, 20]\n",
    "#[21, 22, 23, 24, 25] \n",
    "#each and every row shows the probability for the corresponding state transition from each cell to every cell\n",
    "Probability = np.zeros((grid_size * grid_size, grid_size * grid_size))\n",
    "#similar to the probability the same theory applies to reward  as well.\n",
    "Reward = np.zeros_like(Probability)\n",
    "# for each cell the possible action is given as left,right,up,or down\n",
    "all_possible_actions=[\"left\",\"right\",\"up\",\"down\"]\n",
    "# Traverse through row\n",
    "for row in range(grid_size):\n",
    "    # Traverse through column\n",
    "    for column in range(grid_size):\n",
    "        # in a 2d plane we need 2 coodinates to locate a position, which is called state in reinforcement learning\n",
    "        # so the current state is located by column id and row id\n",
    "        state = (row, column)\n",
    "        # For each and every state there could be 4 possible actions \"left\",\"right\",\"up\",\"down\"\n",
    "        for action in all_possible_actions:\n",
    "          # For each and every action chosen at the state which is currently located could end up with a new state and there could be a reward.\n",
    "            next_state, reward = step(state, action)\n",
    "            (row_next, column_next) = next_state\n",
    "            # probability for all possible action from current state is equal and it could be 0.25\n",
    "            Probability[row * grid_size + column, row_next * grid_size + column_next] += 0.25\n",
    "            # initial state and the ending states are the only deciding factor in reward calculation\n",
    "            Reward[row * grid_size + column, row_next * grid_size + column_next] = reward"
   ]
  },
  {
   "cell_type": "code",
   "execution_count": 6,
   "metadata": {
    "colab": {
     "base_uri": "https://localhost:8080/"
    },
    "id": "Ifsa1DTHnXDN",
    "outputId": "9b148b0b-c93d-4032-c7c8-e45cad49b577"
   },
   "outputs": [
    {
     "name": "stdout",
     "output_type": "stream",
     "text": [
      "[[0.5  0.25 0.   0.   0.   0.25 0.   0.   0.   0.   0.   0.   0.   0.\n",
      "  0.   0.   0.   0.   0.   0.   0.   0.   0.   0.   0.  ]\n",
      " [0.   0.   0.   0.   0.   0.   0.   0.   0.   0.   0.   0.   0.   0.\n",
      "  0.   0.   0.   0.   0.   0.   0.   0.   1.   0.   0.  ]\n",
      " [0.   0.25 0.25 0.25 0.   0.   0.   0.25 0.   0.   0.   0.   0.   0.\n",
      "  0.   0.   0.   0.   0.   0.   0.   0.   0.   0.   0.  ]\n",
      " [0.   0.   0.   0.   0.   0.   0.   0.   0.   0.   0.   0.   0.   1.\n",
      "  0.   0.   0.   0.   0.   0.   0.   0.   0.   0.   0.  ]\n",
      " [0.   0.   0.   0.25 0.5  0.   0.   0.   0.   0.25 0.   0.   0.   0.\n",
      "  0.   0.   0.   0.   0.   0.   0.   0.   0.   0.   0.  ]\n",
      " [0.25 0.   0.   0.   0.   0.25 0.25 0.   0.   0.   0.25 0.   0.   0.\n",
      "  0.   0.   0.   0.   0.   0.   0.   0.   0.   0.   0.  ]\n",
      " [0.   0.25 0.   0.   0.   0.25 0.   0.25 0.   0.   0.   0.25 0.   0.\n",
      "  0.   0.   0.   0.   0.   0.   0.   0.   0.   0.   0.  ]\n",
      " [0.   0.   0.25 0.   0.   0.   0.25 0.   0.25 0.   0.   0.   0.25 0.\n",
      "  0.   0.   0.   0.   0.   0.   0.   0.   0.   0.   0.  ]\n",
      " [0.   0.   0.   0.25 0.   0.   0.   0.25 0.   0.25 0.   0.   0.   0.25\n",
      "  0.   0.   0.   0.   0.   0.   0.   0.   0.   0.   0.  ]\n",
      " [0.   0.   0.   0.   0.25 0.   0.   0.   0.25 0.25 0.   0.   0.   0.\n",
      "  0.25 0.   0.   0.   0.   0.   0.   0.   0.   0.   0.  ]\n",
      " [0.   0.   0.   0.   0.   0.25 0.   0.   0.   0.   0.25 0.25 0.   0.\n",
      "  0.   0.25 0.   0.   0.   0.   0.   0.   0.   0.   0.  ]\n",
      " [0.   0.   0.   0.   0.   0.   0.25 0.   0.   0.   0.25 0.   0.25 0.\n",
      "  0.   0.   0.25 0.   0.   0.   0.   0.   0.   0.   0.  ]\n",
      " [0.   0.   0.   0.   0.   0.   0.   0.25 0.   0.   0.   0.25 0.   0.25\n",
      "  0.   0.   0.   0.25 0.   0.   0.   0.   0.   0.   0.  ]\n",
      " [0.   0.   0.   0.   0.   0.   0.   0.   0.25 0.   0.   0.   0.25 0.\n",
      "  0.25 0.   0.   0.   0.25 0.   0.   0.   0.   0.   0.  ]\n",
      " [0.   0.   0.   0.   0.   0.   0.   0.   0.   0.25 0.   0.   0.   0.25\n",
      "  0.25 0.   0.   0.   0.   0.25 0.   0.   0.   0.   0.  ]\n",
      " [0.   0.   0.   0.   0.   0.   0.   0.   0.   0.   0.25 0.   0.   0.\n",
      "  0.   0.25 0.25 0.   0.   0.   0.25 0.   0.   0.   0.  ]\n",
      " [0.   0.   0.   0.   0.   0.   0.   0.   0.   0.   0.   0.25 0.   0.\n",
      "  0.   0.25 0.   0.25 0.   0.   0.   0.25 0.   0.   0.  ]\n",
      " [0.   0.   0.   0.   0.   0.   0.   0.   0.   0.   0.   0.   0.25 0.\n",
      "  0.   0.   0.25 0.   0.25 0.   0.   0.   0.25 0.   0.  ]\n",
      " [0.   0.   0.   0.   0.   0.   0.   0.   0.   0.   0.   0.   0.   0.25\n",
      "  0.   0.   0.   0.25 0.   0.25 0.   0.   0.   0.25 0.  ]\n",
      " [0.   0.   0.   0.   0.   0.   0.   0.   0.   0.   0.   0.   0.   0.\n",
      "  0.25 0.   0.   0.   0.25 0.25 0.   0.   0.   0.   0.25]\n",
      " [0.   0.   0.   0.   0.   0.   0.   0.   0.   0.   0.   0.   0.   0.\n",
      "  0.   0.25 0.   0.   0.   0.   0.5  0.25 0.   0.   0.  ]\n",
      " [0.   0.   0.   0.   0.   0.   0.   0.   0.   0.   0.   0.   0.   0.\n",
      "  0.   0.   0.25 0.   0.   0.   0.25 0.25 0.25 0.   0.  ]\n",
      " [0.   0.   0.   0.   0.   0.   0.   0.   0.   0.   0.   0.   0.   0.\n",
      "  0.   0.   0.   0.25 0.   0.   0.   0.25 0.25 0.25 0.  ]\n",
      " [0.   0.   0.   0.   0.   0.   0.   0.   0.   0.   0.   0.   0.   0.\n",
      "  0.   0.   0.   0.   0.25 0.   0.   0.   0.25 0.25 0.25]\n",
      " [0.   0.   0.   0.   0.   0.   0.   0.   0.   0.   0.   0.   0.   0.\n",
      "  0.   0.   0.   0.   0.   0.25 0.   0.   0.   0.25 0.5 ]]\n"
     ]
    }
   ],
   "source": [
    "# since traverse out from the grid is restricted the corner cells receive probability of self transition could be 0.5 because there will be 2 chances for traverse out from the grid.\n",
    "# for inner cells the probability could be shown as 0.25 because they could have possibility to take action of right left up and down.\n",
    "# since this could be model based approach. the termination states are given. At the termination states there will not be any actions towards out side. so the probability of termination states are 1 as self transition.\n",
    "print(Probability)\n"
   ]
  },
  {
   "cell_type": "code",
   "execution_count": 7,
   "metadata": {
    "colab": {
     "base_uri": "https://localhost:8080/"
    },
    "id": "Dh-ayXoirRWK",
    "outputId": "9d52a831-46c5-4adf-f973-3cc07e39c688"
   },
   "outputs": [
    {
     "name": "stdout",
     "output_type": "stream",
     "text": [
      "[[-1.  0.  0.  0.  0.  0.  0.  0.  0.  0.  0.  0.  0.  0.  0.  0.  0.  0.\n",
      "   0.  0.  0.  0.  0.  0.  0.]\n",
      " [ 0.  0.  0.  0.  0.  0.  0.  0.  0.  0.  0.  0.  0.  0.  0.  0.  0.  0.\n",
      "   0.  0.  0.  0. 10.  0.  0.]\n",
      " [ 0.  0. -1.  0.  0.  0.  0.  0.  0.  0.  0.  0.  0.  0.  0.  0.  0.  0.\n",
      "   0.  0.  0.  0.  0.  0.  0.]\n",
      " [ 0.  0.  0.  0.  0.  0.  0.  0.  0.  0.  0.  0.  0.  5.  0.  0.  0.  0.\n",
      "   0.  0.  0.  0.  0.  0.  0.]\n",
      " [ 0.  0.  0.  0. -1.  0.  0.  0.  0.  0.  0.  0.  0.  0.  0.  0.  0.  0.\n",
      "   0.  0.  0.  0.  0.  0.  0.]\n",
      " [ 0.  0.  0.  0.  0. -1.  0.  0.  0.  0.  0.  0.  0.  0.  0.  0.  0.  0.\n",
      "   0.  0.  0.  0.  0.  0.  0.]\n",
      " [ 0. -1.  0.  0.  0. -1.  0. -1.  0.  0.  0. -1.  0.  0.  0.  0.  0.  0.\n",
      "   0.  0.  0.  0.  0.  0.  0.]\n",
      " [ 0.  0.  0.  0.  0.  0.  0.  0.  0.  0.  0.  0.  0.  0.  0.  0.  0.  0.\n",
      "   0.  0.  0.  0.  0.  0.  0.]\n",
      " [ 0.  0.  0.  0.  0.  0.  0.  0.  0.  0.  0.  0.  0.  0.  0.  0.  0.  0.\n",
      "   0.  0.  0.  0.  0.  0.  0.]\n",
      " [ 0.  0.  0.  0.  0.  0.  0.  0.  0. -1.  0.  0.  0.  0.  0.  0.  0.  0.\n",
      "   0.  0.  0.  0.  0.  0.  0.]\n",
      " [ 0.  0.  0.  0.  0.  0.  0.  0.  0.  0. -1.  0.  0.  0.  0.  0.  0.  0.\n",
      "   0.  0.  0.  0.  0.  0.  0.]\n",
      " [ 0.  0.  0.  0.  0.  0.  0.  0.  0.  0.  0.  0.  0.  0.  0.  0.  0.  0.\n",
      "   0.  0.  0.  0.  0.  0.  0.]\n",
      " [ 0.  0.  0.  0.  0.  0.  0.  0.  0.  0.  0.  0.  0.  0.  0.  0.  0.  0.\n",
      "   0.  0.  0.  0.  0.  0.  0.]\n",
      " [ 0.  0.  0.  0.  0.  0.  0.  0.  0.  0.  0.  0.  0.  0.  0.  0.  0.  0.\n",
      "   0.  0.  0.  0.  0.  0.  0.]\n",
      " [ 0.  0.  0.  0.  0.  0.  0.  0.  0.  0.  0.  0.  0.  0. -1.  0.  0.  0.\n",
      "   0.  0.  0.  0.  0.  0.  0.]\n",
      " [ 0.  0.  0.  0.  0.  0.  0.  0.  0.  0.  0.  0.  0.  0.  0. -1.  0.  0.\n",
      "   0.  0.  0.  0.  0.  0.  0.]\n",
      " [ 0.  0.  0.  0.  0.  0.  0.  0.  0.  0.  0.  0.  0.  0.  0.  0.  0.  0.\n",
      "   0.  0.  0.  0.  0.  0.  0.]\n",
      " [ 0.  0.  0.  0.  0.  0.  0.  0.  0.  0.  0.  0.  0.  0.  0.  0.  0.  0.\n",
      "   0.  0.  0.  0.  0.  0.  0.]\n",
      " [ 0.  0.  0.  0.  0.  0.  0.  0.  0.  0.  0.  0.  0.  0.  0.  0.  0.  0.\n",
      "   0.  0.  0.  0.  0.  0.  0.]\n",
      " [ 0.  0.  0.  0.  0.  0.  0.  0.  0.  0.  0.  0.  0.  0.  0.  0.  0.  0.\n",
      "   0. -1.  0.  0.  0.  0.  0.]\n",
      " [ 0.  0.  0.  0.  0.  0.  0.  0.  0.  0.  0.  0.  0.  0.  0.  0.  0.  0.\n",
      "   0.  0. -1.  0.  0.  0.  0.]\n",
      " [ 0.  0.  0.  0.  0.  0.  0.  0.  0.  0.  0.  0.  0.  0.  0.  0.  0.  0.\n",
      "   0.  0.  0. -1.  0.  0.  0.]\n",
      " [ 0.  0.  0.  0.  0.  0.  0.  0.  0.  0.  0.  0.  0.  0.  0.  0.  0.  0.\n",
      "   0.  0.  0.  0. -1.  0.  0.]\n",
      " [ 0.  0.  0.  0.  0.  0.  0.  0.  0.  0.  0.  0.  0.  0.  0.  0.  0.  0.\n",
      "   0.  0.  0.  0.  0. -1.  0.]\n",
      " [ 0.  0.  0.  0.  0.  0.  0.  0.  0.  0.  0.  0.  0.  0.  0.  0.  0.  0.\n",
      "   0. -1.  0.  0.  0. -1. -1.]]\n"
     ]
    }
   ],
   "source": [
    "# reward to the corner cell and bad cells are updated as -1 and rewad to good cells updated accordingly.for the other cells there are no possibility to go from current state so it is zero.\n",
    "print(Reward)"
   ]
  },
  {
   "cell_type": "code",
   "execution_count": 8,
   "metadata": {
    "id": "tF9l4kt4QgBF"
   },
   "outputs": [],
   "source": [
    "# the row in the given metrix suppose to have the total 1. Because each and every row means that from a cell has how much probability to go out towards other cells. So it should be one\n",
    "assert((np.sum(Probability, axis=1) == 1).all())"
   ]
  },
  {
   "cell_type": "code",
   "execution_count": 9,
   "metadata": {
    "id": "h9tBvQXcQk52"
   },
   "outputs": [],
   "source": [
    "# The expecteds could be calculated as matrix multiplication of Probability and Reward. Later sumation of every row. Because that's what means for each state\n",
    "ExpectedReward = np.sum(Probability * Reward, axis=1, keepdims=True)"
   ]
  },
  {
   "cell_type": "code",
   "execution_count": 10,
   "metadata": {
    "colab": {
     "base_uri": "https://localhost:8080/"
    },
    "id": "NaUU3ujXQl0d",
    "outputId": "b2f6ed58-40d0-4e6b-d35d-8b4c8e73dc0c"
   },
   "outputs": [
    {
     "data": {
      "text/plain": [
       "array([[-0.5 ],\n",
       "       [10.  ],\n",
       "       [-0.25],\n",
       "       [ 5.  ],\n",
       "       [-0.5 ],\n",
       "       [-0.25],\n",
       "       [-1.  ],\n",
       "       [ 0.  ],\n",
       "       [ 0.  ],\n",
       "       [-0.25],\n",
       "       [-0.25],\n",
       "       [ 0.  ],\n",
       "       [ 0.  ],\n",
       "       [ 0.  ],\n",
       "       [-0.25],\n",
       "       [-0.25],\n",
       "       [ 0.  ],\n",
       "       [ 0.  ],\n",
       "       [ 0.  ],\n",
       "       [-0.25],\n",
       "       [-0.5 ],\n",
       "       [-0.25],\n",
       "       [-0.25],\n",
       "       [-0.25],\n",
       "       [-1.  ]])"
      ]
     },
     "execution_count": 10,
     "metadata": {},
     "output_type": "execute_result"
    }
   ],
   "source": [
    "# Since there are 25 states there are 25 data in the output of expected reward\n",
    "ExpectedReward"
   ]
  },
  {
   "cell_type": "code",
   "execution_count": 11,
   "metadata": {
    "colab": {
     "base_uri": "https://localhost:8080/",
     "height": 269
    },
    "id": "pWgjbknJQoda",
    "outputId": "4c412b9e-c6ec-456e-a5d3-361f10c967bb"
   },
   "outputs": [
    {
     "data": {
      "image/png": "[encoded data removed]",
      "text/plain": [
       "<Figure size 640x480 with 1 Axes>"
      ]
     },
     "metadata": {},
     "output_type": "display_data"
    }
   ],
   "source": [
    "# Inorder to show it in a grid it could be reshaped as 5*5 metrix so that it could clearly visualize the outcome of expected reward\n",
    "Reward_square = ExpectedReward.reshape((grid_size,grid_size))\n",
    "# Visualize the expected rewards for corresponding states\n",
    "matrix_visualization(Reward_square, cmap=plt.cm.Purples)"
   ]
  },
  {
   "cell_type": "code",
   "execution_count": 12,
   "metadata": {
    "id": "l39QAUpOQrhy"
   },
   "outputs": [],
   "source": [
    "#difining the discount factor to difine the balance between immediate reward and future reward.\n",
    "gamma = 0.9"
   ]
  },
  {
   "cell_type": "code",
   "execution_count": 13,
   "metadata": {
    "colab": {
     "base_uri": "https://localhost:8080/"
    },
    "id": "W5yWAeBmQu5W",
    "outputId": "b5a684a1-280f-475d-9370-fbb9bcf07f1d"
   },
   "outputs": [
    {
     "data": {
      "text/plain": [
       "array([[ 2.93516553],\n",
       "       [ 8.54677726],\n",
       "       [ 4.09005132],\n",
       "       [ 4.98850055],\n",
       "       [ 1.23710684],\n",
       "       [ 0.85029404],\n",
       "       [ 1.51655083],\n",
       "       [ 1.66378783],\n",
       "       [ 1.55188616],\n",
       "       [ 0.25776062],\n",
       "       [-0.41181467],\n",
       "       [ 0.12381123],\n",
       "       [ 0.23612428],\n",
       "       [-0.01277716],\n",
       "       [-0.79003975],\n",
       "       [-1.28146693],\n",
       "       [-0.79058828],\n",
       "       [-0.72538066],\n",
       "       [-1.05475809],\n",
       "       [-1.85512039],\n",
       "       [-2.10042757],\n",
       "       [-1.63068936],\n",
       "       [-1.61469193],\n",
       "       [-2.09453553],\n",
       "       [-3.43395015]])"
      ]
     },
     "execution_count": 13,
     "metadata": {},
     "output_type": "execute_result"
    }
   ],
   "source": [
    "# Applying the findings to belman equation to generate value function\n",
    "BelmanOutcome = np.eye(grid_size*grid_size) - gamma * Probability\n",
    "Value = linalg.solve(BelmanOutcome, ExpectedReward)\n",
    "Value"
   ]
  },
  {
   "cell_type": "code",
   "execution_count": 14,
   "metadata": {
    "colab": {
     "base_uri": "https://localhost:8080/",
     "height": 269
    },
    "id": "z7Xj60S9Q0QF",
    "outputId": "705f9d1f-bfea-4b8d-b12c-710aa30577b2",
    "scrolled": true
   },
   "outputs": [
    {
     "data": {
      "image/png": "[encoded data removed]",
      "text/plain": [
       "<Figure size 640x480 with 1 Axes>"
      ]
     },
     "metadata": {},
     "output_type": "display_data"
    }
   ],
   "source": [
    "# In order to show the values of each states in a grid the out come of the value function got reshaped\n",
    "ReshapedValue = Value.reshape((grid_size,grid_size))\n",
    "# visualizing the results in a grid for better look and feel\n",
    "matrix_visualization(ReshapedValue, cmap=plt.cm.Purples)"
   ]
  }
 ],
 "metadata": {
  "colab": {
   "provenance": []
  },
  "kernelspec": {
   "display_name": "Python 3 (ipykernel)",
   "language": "python",
   "name": "python3"
  },
  "language_info": {
   "codemirror_mode": {
    "name": "ipython",
    "version": 3
   },
   "file_extension": ".py",
   "mimetype": "text/x-python",
   "name": "python",
   "nbconvert_exporter": "python",
   "pygments_lexer": "ipython3",
   "version": "3.9.13"
  }
 },
 "nbformat": 4,
 "nbformat_minor": 1
}
