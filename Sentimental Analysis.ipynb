{
 "cells": [
  {
   "cell_type": "code",
   "execution_count": 3,
   "metadata": {
    "id": "hH_OhSllFrMX"
   },
   "outputs": [],
   "source": [
    "import pandas as pd"
   ]
  },
  {
   "cell_type": "code",
   "execution_count": 4,
   "metadata": {
    "colab": {
     "base_uri": "https://localhost:8080/",
     "height": 468
    },
    "id": "6zmHajjLJkA1",
    "outputId": "20945a60-180e-4b5c-a6c5-ae7db568da5a"
   },
   "outputs": [
    {
     "data": {
      "text/html": [
       "<div>\n",
       "<style scoped>\n",
       "    .dataframe tbody tr th:only-of-type {\n",
       "        vertical-align: middle;\n",
       "    }\n",
       "\n",
       "    .dataframe tbody tr th {\n",
       "        vertical-align: top;\n",
       "    }\n",
       "\n",
       "    .dataframe thead th {\n",
       "        text-align: right;\n",
       "    }\n",
       "</style>\n",
       "<table border=\"1\" class=\"dataframe\">\n",
       "  <thead>\n",
       "    <tr style=\"text-align: right;\">\n",
       "      <th></th>\n",
       "      <th>listing_id</th>\n",
       "      <th>id</th>\n",
       "      <th>date</th>\n",
       "      <th>reviewer_id</th>\n",
       "      <th>reviewer_name</th>\n",
       "      <th>comments</th>\n",
       "    </tr>\n",
       "  </thead>\n",
       "  <tbody>\n",
       "    <tr>\n",
       "      <th>0</th>\n",
       "      <td>7202016</td>\n",
       "      <td>38917982</td>\n",
       "      <td>2015-07-19</td>\n",
       "      <td>28943674</td>\n",
       "      <td>Bianca</td>\n",
       "      <td>Cute and cozy place. Perfect location to every...</td>\n",
       "    </tr>\n",
       "    <tr>\n",
       "      <th>1</th>\n",
       "      <td>7202016</td>\n",
       "      <td>39087409</td>\n",
       "      <td>2015-07-20</td>\n",
       "      <td>32440555</td>\n",
       "      <td>Frank</td>\n",
       "      <td>Kelly has a great room in a very central locat...</td>\n",
       "    </tr>\n",
       "    <tr>\n",
       "      <th>2</th>\n",
       "      <td>7202016</td>\n",
       "      <td>39820030</td>\n",
       "      <td>2015-07-26</td>\n",
       "      <td>37722850</td>\n",
       "      <td>Ian</td>\n",
       "      <td>Very spacious apartment, and in a great neighb...</td>\n",
       "    </tr>\n",
       "    <tr>\n",
       "      <th>3</th>\n",
       "      <td>7202016</td>\n",
       "      <td>40813543</td>\n",
       "      <td>2015-08-02</td>\n",
       "      <td>33671805</td>\n",
       "      <td>George</td>\n",
       "      <td>Close to Seattle Center and all it has to offe...</td>\n",
       "    </tr>\n",
       "    <tr>\n",
       "      <th>4</th>\n",
       "      <td>7202016</td>\n",
       "      <td>41986501</td>\n",
       "      <td>2015-08-10</td>\n",
       "      <td>34959538</td>\n",
       "      <td>Ming</td>\n",
       "      <td>Kelly was a great host and very accommodating ...</td>\n",
       "    </tr>\n",
       "    <tr>\n",
       "      <th>...</th>\n",
       "      <td>...</td>\n",
       "      <td>...</td>\n",
       "      <td>...</td>\n",
       "      <td>...</td>\n",
       "      <td>...</td>\n",
       "      <td>...</td>\n",
       "    </tr>\n",
       "    <tr>\n",
       "      <th>84844</th>\n",
       "      <td>3624990</td>\n",
       "      <td>50436321</td>\n",
       "      <td>2015-10-12</td>\n",
       "      <td>37419458</td>\n",
       "      <td>Ryan</td>\n",
       "      <td>The description and pictures of the apartment ...</td>\n",
       "    </tr>\n",
       "    <tr>\n",
       "      <th>84845</th>\n",
       "      <td>3624990</td>\n",
       "      <td>51024875</td>\n",
       "      <td>2015-10-17</td>\n",
       "      <td>6933252</td>\n",
       "      <td>Linda</td>\n",
       "      <td>We had an excellent stay. It was clean and com...</td>\n",
       "    </tr>\n",
       "    <tr>\n",
       "      <th>84846</th>\n",
       "      <td>3624990</td>\n",
       "      <td>51511988</td>\n",
       "      <td>2015-10-20</td>\n",
       "      <td>19543701</td>\n",
       "      <td>Jaime</td>\n",
       "      <td>Gran ubicación, cerca de todo lo atractivo del...</td>\n",
       "    </tr>\n",
       "    <tr>\n",
       "      <th>84847</th>\n",
       "      <td>3624990</td>\n",
       "      <td>52814482</td>\n",
       "      <td>2015-11-02</td>\n",
       "      <td>24445024</td>\n",
       "      <td>Jørgen</td>\n",
       "      <td>Very good apartement, clean and well sized. Si...</td>\n",
       "    </tr>\n",
       "    <tr>\n",
       "      <th>84848</th>\n",
       "      <td>9727246</td>\n",
       "      <td>56429621</td>\n",
       "      <td>2015-12-13</td>\n",
       "      <td>30860360</td>\n",
       "      <td>Stephanie</td>\n",
       "      <td>Breanne was a great host. Check in was easy, s...</td>\n",
       "    </tr>\n",
       "  </tbody>\n",
       "</table>\n",
       "<p>84849 rows × 6 columns</p>\n",
       "</div>"
      ],
      "text/plain": [
       "       listing_id        id        date  reviewer_id reviewer_name  \\\n",
       "0         7202016  38917982  2015-07-19     28943674        Bianca   \n",
       "1         7202016  39087409  2015-07-20     32440555         Frank   \n",
       "2         7202016  39820030  2015-07-26     37722850           Ian   \n",
       "3         7202016  40813543  2015-08-02     33671805        George   \n",
       "4         7202016  41986501  2015-08-10     34959538          Ming   \n",
       "...           ...       ...         ...          ...           ...   \n",
       "84844     3624990  50436321  2015-10-12     37419458          Ryan   \n",
       "84845     3624990  51024875  2015-10-17      6933252         Linda   \n",
       "84846     3624990  51511988  2015-10-20     19543701         Jaime   \n",
       "84847     3624990  52814482  2015-11-02     24445024        Jørgen   \n",
       "84848     9727246  56429621  2015-12-13     30860360     Stephanie   \n",
       "\n",
       "                                                comments  \n",
       "0      Cute and cozy place. Perfect location to every...  \n",
       "1      Kelly has a great room in a very central locat...  \n",
       "2      Very spacious apartment, and in a great neighb...  \n",
       "3      Close to Seattle Center and all it has to offe...  \n",
       "4      Kelly was a great host and very accommodating ...  \n",
       "...                                                  ...  \n",
       "84844  The description and pictures of the apartment ...  \n",
       "84845  We had an excellent stay. It was clean and com...  \n",
       "84846  Gran ubicación, cerca de todo lo atractivo del...  \n",
       "84847  Very good apartement, clean and well sized. Si...  \n",
       "84848  Breanne was a great host. Check in was easy, s...  \n",
       "\n",
       "[84849 rows x 6 columns]"
      ]
     },
     "execution_count": 4,
     "metadata": {},
     "output_type": "execute_result"
    }
   ],
   "source": [
    "data = pd.read_csv('reviews.csv')\n",
    "data"
   ]
  },
  {
   "cell_type": "markdown",
   "metadata": {
    "id": "x8PQ9zqaKAOM"
   },
   "source": [
    "Data cleaning"
   ]
  },
  {
   "cell_type": "code",
   "execution_count": 5,
   "metadata": {
    "colab": {
     "base_uri": "https://localhost:8080/"
    },
    "id": "gCZxuxmEJ_v5",
    "outputId": "bb7b0c84-f5b3-464a-b875-f3531ebeedbc"
   },
   "outputs": [
    {
     "data": {
      "text/plain": [
       "listing_id        0\n",
       "id                0\n",
       "date              0\n",
       "reviewer_id       0\n",
       "reviewer_name     0\n",
       "comments         18\n",
       "dtype: int64"
      ]
     },
     "execution_count": 5,
     "metadata": {},
     "output_type": "execute_result"
    }
   ],
   "source": [
    "data.isnull().sum()"
   ]
  },
  {
   "cell_type": "code",
   "execution_count": 6,
   "metadata": {
    "colab": {
     "base_uri": "https://localhost:8080/",
     "height": 468
    },
    "id": "d6wCSi8iJ0pM",
    "outputId": "943652a6-e547-4e3c-df65-030e72848602"
   },
   "outputs": [
    {
     "data": {
      "text/html": [
       "<div>\n",
       "<style scoped>\n",
       "    .dataframe tbody tr th:only-of-type {\n",
       "        vertical-align: middle;\n",
       "    }\n",
       "\n",
       "    .dataframe tbody tr th {\n",
       "        vertical-align: top;\n",
       "    }\n",
       "\n",
       "    .dataframe thead th {\n",
       "        text-align: right;\n",
       "    }\n",
       "</style>\n",
       "<table border=\"1\" class=\"dataframe\">\n",
       "  <thead>\n",
       "    <tr style=\"text-align: right;\">\n",
       "      <th></th>\n",
       "      <th>listing_id</th>\n",
       "      <th>id</th>\n",
       "      <th>date</th>\n",
       "      <th>reviewer_id</th>\n",
       "      <th>reviewer_name</th>\n",
       "      <th>comments</th>\n",
       "    </tr>\n",
       "  </thead>\n",
       "  <tbody>\n",
       "    <tr>\n",
       "      <th>0</th>\n",
       "      <td>7202016</td>\n",
       "      <td>38917982</td>\n",
       "      <td>2015-07-19</td>\n",
       "      <td>28943674</td>\n",
       "      <td>Bianca</td>\n",
       "      <td>Cute and cozy place. Perfect location to every...</td>\n",
       "    </tr>\n",
       "    <tr>\n",
       "      <th>1</th>\n",
       "      <td>7202016</td>\n",
       "      <td>39087409</td>\n",
       "      <td>2015-07-20</td>\n",
       "      <td>32440555</td>\n",
       "      <td>Frank</td>\n",
       "      <td>Kelly has a great room in a very central locat...</td>\n",
       "    </tr>\n",
       "    <tr>\n",
       "      <th>2</th>\n",
       "      <td>7202016</td>\n",
       "      <td>39820030</td>\n",
       "      <td>2015-07-26</td>\n",
       "      <td>37722850</td>\n",
       "      <td>Ian</td>\n",
       "      <td>Very spacious apartment, and in a great neighb...</td>\n",
       "    </tr>\n",
       "    <tr>\n",
       "      <th>3</th>\n",
       "      <td>7202016</td>\n",
       "      <td>40813543</td>\n",
       "      <td>2015-08-02</td>\n",
       "      <td>33671805</td>\n",
       "      <td>George</td>\n",
       "      <td>Close to Seattle Center and all it has to offe...</td>\n",
       "    </tr>\n",
       "    <tr>\n",
       "      <th>4</th>\n",
       "      <td>7202016</td>\n",
       "      <td>41986501</td>\n",
       "      <td>2015-08-10</td>\n",
       "      <td>34959538</td>\n",
       "      <td>Ming</td>\n",
       "      <td>Kelly was a great host and very accommodating ...</td>\n",
       "    </tr>\n",
       "    <tr>\n",
       "      <th>...</th>\n",
       "      <td>...</td>\n",
       "      <td>...</td>\n",
       "      <td>...</td>\n",
       "      <td>...</td>\n",
       "      <td>...</td>\n",
       "      <td>...</td>\n",
       "    </tr>\n",
       "    <tr>\n",
       "      <th>84844</th>\n",
       "      <td>3624990</td>\n",
       "      <td>50436321</td>\n",
       "      <td>2015-10-12</td>\n",
       "      <td>37419458</td>\n",
       "      <td>Ryan</td>\n",
       "      <td>The description and pictures of the apartment ...</td>\n",
       "    </tr>\n",
       "    <tr>\n",
       "      <th>84845</th>\n",
       "      <td>3624990</td>\n",
       "      <td>51024875</td>\n",
       "      <td>2015-10-17</td>\n",
       "      <td>6933252</td>\n",
       "      <td>Linda</td>\n",
       "      <td>We had an excellent stay. It was clean and com...</td>\n",
       "    </tr>\n",
       "    <tr>\n",
       "      <th>84846</th>\n",
       "      <td>3624990</td>\n",
       "      <td>51511988</td>\n",
       "      <td>2015-10-20</td>\n",
       "      <td>19543701</td>\n",
       "      <td>Jaime</td>\n",
       "      <td>Gran ubicación, cerca de todo lo atractivo del...</td>\n",
       "    </tr>\n",
       "    <tr>\n",
       "      <th>84847</th>\n",
       "      <td>3624990</td>\n",
       "      <td>52814482</td>\n",
       "      <td>2015-11-02</td>\n",
       "      <td>24445024</td>\n",
       "      <td>Jørgen</td>\n",
       "      <td>Very good apartement, clean and well sized. Si...</td>\n",
       "    </tr>\n",
       "    <tr>\n",
       "      <th>84848</th>\n",
       "      <td>9727246</td>\n",
       "      <td>56429621</td>\n",
       "      <td>2015-12-13</td>\n",
       "      <td>30860360</td>\n",
       "      <td>Stephanie</td>\n",
       "      <td>Breanne was a great host. Check in was easy, s...</td>\n",
       "    </tr>\n",
       "  </tbody>\n",
       "</table>\n",
       "<p>84831 rows × 6 columns</p>\n",
       "</div>"
      ],
      "text/plain": [
       "       listing_id        id        date  reviewer_id reviewer_name  \\\n",
       "0         7202016  38917982  2015-07-19     28943674        Bianca   \n",
       "1         7202016  39087409  2015-07-20     32440555         Frank   \n",
       "2         7202016  39820030  2015-07-26     37722850           Ian   \n",
       "3         7202016  40813543  2015-08-02     33671805        George   \n",
       "4         7202016  41986501  2015-08-10     34959538          Ming   \n",
       "...           ...       ...         ...          ...           ...   \n",
       "84844     3624990  50436321  2015-10-12     37419458          Ryan   \n",
       "84845     3624990  51024875  2015-10-17      6933252         Linda   \n",
       "84846     3624990  51511988  2015-10-20     19543701         Jaime   \n",
       "84847     3624990  52814482  2015-11-02     24445024        Jørgen   \n",
       "84848     9727246  56429621  2015-12-13     30860360     Stephanie   \n",
       "\n",
       "                                                comments  \n",
       "0      Cute and cozy place. Perfect location to every...  \n",
       "1      Kelly has a great room in a very central locat...  \n",
       "2      Very spacious apartment, and in a great neighb...  \n",
       "3      Close to Seattle Center and all it has to offe...  \n",
       "4      Kelly was a great host and very accommodating ...  \n",
       "...                                                  ...  \n",
       "84844  The description and pictures of the apartment ...  \n",
       "84845  We had an excellent stay. It was clean and com...  \n",
       "84846  Gran ubicación, cerca de todo lo atractivo del...  \n",
       "84847  Very good apartement, clean and well sized. Si...  \n",
       "84848  Breanne was a great host. Check in was easy, s...  \n",
       "\n",
       "[84831 rows x 6 columns]"
      ]
     },
     "execution_count": 6,
     "metadata": {},
     "output_type": "execute_result"
    }
   ],
   "source": [
    "data = data.dropna()\n",
    "data"
   ]
  },
  {
   "cell_type": "code",
   "execution_count": null,
   "metadata": {
    "id": "whJ_U-IeWX7o"
   },
   "outputs": [],
   "source": []
  },
  {
   "cell_type": "code",
   "execution_count": 7,
   "metadata": {
    "colab": {
     "base_uri": "https://localhost:8080/"
    },
    "id": "topdCiMPMFV2",
    "outputId": "6167f723-8314-4c5f-caca-a9c29c94b8c5"
   },
   "outputs": [
    {
     "data": {
      "text/plain": [
       "listing_id       0\n",
       "id               0\n",
       "date             0\n",
       "reviewer_id      0\n",
       "reviewer_name    0\n",
       "comments         0\n",
       "dtype: int64"
      ]
     },
     "execution_count": 7,
     "metadata": {},
     "output_type": "execute_result"
    }
   ],
   "source": [
    "data.isnull().sum()"
   ]
  },
  {
   "cell_type": "code",
   "execution_count": 8,
   "metadata": {
    "colab": {
     "base_uri": "https://localhost:8080/"
    },
    "id": "EWl-6Fn0MKR6",
    "outputId": "af288235-c0f0-43a8-95a8-5a7fdac09aa1"
   },
   "outputs": [
    {
     "name": "stdout",
     "output_type": "stream",
     "text": [
      "<class 'pandas.core.frame.DataFrame'>\n",
      "Int64Index: 84831 entries, 0 to 84848\n",
      "Data columns (total 6 columns):\n",
      " #   Column         Non-Null Count  Dtype \n",
      "---  ------         --------------  ----- \n",
      " 0   listing_id     84831 non-null  int64 \n",
      " 1   id             84831 non-null  int64 \n",
      " 2   date           84831 non-null  object\n",
      " 3   reviewer_id    84831 non-null  int64 \n",
      " 4   reviewer_name  84831 non-null  object\n",
      " 5   comments       84831 non-null  object\n",
      "dtypes: int64(3), object(3)\n",
      "memory usage: 4.5+ MB\n"
     ]
    }
   ],
   "source": [
    "data.info()"
   ]
  },
  {
   "cell_type": "code",
   "execution_count": 9,
   "metadata": {
    "colab": {
     "base_uri": "https://localhost:8080/"
    },
    "id": "oOx4NgKrMVIQ",
    "outputId": "23927374-0b50-44f9-a4f6-18de19554db1"
   },
   "outputs": [
    {
     "name": "stdout",
     "output_type": "stream",
     "text": [
      "Defaulting to user installation because normal site-packages is not writeable\n",
      "Requirement already satisfied: transformers in c:\\users\\shann\\appdata\\roaming\\python\\python39\\site-packages (4.27.3)\n",
      "Requirement already satisfied: requests in c:\\programdata\\anaconda3\\lib\\site-packages (2.28.1)\n",
      "Requirement already satisfied: beautifulsoup4 in c:\\programdata\\anaconda3\\lib\\site-packages (4.11.1)\n",
      "Requirement already satisfied: pandas in c:\\programdata\\anaconda3\\lib\\site-packages (1.4.4)\n",
      "Requirement already satisfied: numpy in c:\\programdata\\anaconda3\\lib\\site-packages (1.21.5)\n",
      "Requirement already satisfied: tokenizers!=0.11.3,<0.14,>=0.11.1 in c:\\users\\shann\\appdata\\roaming\\python\\python39\\site-packages (from transformers) (0.13.2)\n",
      "Requirement already satisfied: pyyaml>=5.1 in c:\\programdata\\anaconda3\\lib\\site-packages (from transformers) (6.0)\n",
      "Requirement already satisfied: regex!=2019.12.17 in c:\\programdata\\anaconda3\\lib\\site-packages (from transformers) (2022.7.9)\n",
      "Requirement already satisfied: tqdm>=4.27 in c:\\programdata\\anaconda3\\lib\\site-packages (from transformers) (4.64.1)\n",
      "Requirement already satisfied: huggingface-hub<1.0,>=0.11.0 in c:\\users\\shann\\appdata\\roaming\\python\\python39\\site-packages (from transformers) (0.13.3)\n",
      "Requirement already satisfied: packaging>=20.0 in c:\\programdata\\anaconda3\\lib\\site-packages (from transformers) (21.3)\n",
      "Requirement already satisfied: filelock in c:\\programdata\\anaconda3\\lib\\site-packages (from transformers) (3.6.0)\n",
      "Requirement already satisfied: urllib3<1.27,>=1.21.1 in c:\\programdata\\anaconda3\\lib\\site-packages (from requests) (1.26.11)\n",
      "Requirement already satisfied: certifi>=2017.4.17 in c:\\programdata\\anaconda3\\lib\\site-packages (from requests) (2022.9.14)\n",
      "Requirement already satisfied: idna<4,>=2.5 in c:\\programdata\\anaconda3\\lib\\site-packages (from requests) (3.3)\n",
      "Requirement already satisfied: charset-normalizer<3,>=2 in c:\\programdata\\anaconda3\\lib\\site-packages (from requests) (2.0.4)\n",
      "Requirement already satisfied: soupsieve>1.2 in c:\\programdata\\anaconda3\\lib\\site-packages (from beautifulsoup4) (2.3.1)\n",
      "Requirement already satisfied: pytz>=2020.1 in c:\\programdata\\anaconda3\\lib\\site-packages (from pandas) (2022.1)\n",
      "Requirement already satisfied: python-dateutil>=2.8.1 in c:\\programdata\\anaconda3\\lib\\site-packages (from pandas) (2.8.2)\n",
      "Requirement already satisfied: typing-extensions>=3.7.4.3 in c:\\programdata\\anaconda3\\lib\\site-packages (from huggingface-hub<1.0,>=0.11.0->transformers) (4.3.0)\n",
      "Requirement already satisfied: pyparsing!=3.0.5,>=2.0.2 in c:\\programdata\\anaconda3\\lib\\site-packages (from packaging>=20.0->transformers) (3.0.9)\n",
      "Requirement already satisfied: six>=1.5 in c:\\programdata\\anaconda3\\lib\\site-packages (from python-dateutil>=2.8.1->pandas) (1.16.0)\n",
      "Requirement already satisfied: colorama in c:\\programdata\\anaconda3\\lib\\site-packages (from tqdm>=4.27->transformers) (0.4.5)\n"
     ]
    }
   ],
   "source": [
    "!pip install transformers requests beautifulsoup4 pandas numpy"
   ]
  },
  {
   "cell_type": "code",
   "execution_count": 10,
   "metadata": {
    "id": "RfHNyQxVm2XZ"
   },
   "outputs": [],
   "source": [
    "from transformers import AutoTokenizer, AutoModelForSequenceClassification\n",
    "import torch\n",
    "import requests\n",
    "from bs4 import BeautifulSoup\n",
    "import re"
   ]
  },
  {
   "cell_type": "code",
   "execution_count": 11,
   "metadata": {
    "id": "T4RUykdTm5V2"
   },
   "outputs": [],
   "source": [
    "tokenizer = AutoTokenizer.from_pretrained('nlptown/bert-base-multilingual-uncased-sentiment')\n",
    "\n",
    "model = AutoModelForSequenceClassification.from_pretrained('nlptown/bert-base-multilingual-uncased-sentiment')"
   ]
  },
  {
   "cell_type": "code",
   "execution_count": 12,
   "metadata": {
    "id": "rVNFV7L-m8FZ"
   },
   "outputs": [],
   "source": [
    "tokens = tokenizer.encode('It was good but couldve been better. Great', return_tensors='pt')"
   ]
  },
  {
   "cell_type": "code",
   "execution_count": 13,
   "metadata": {
    "id": "_-PWcGVvnDPa"
   },
   "outputs": [],
   "source": [
    "result = model(tokens)"
   ]
  },
  {
   "cell_type": "code",
   "execution_count": 14,
   "metadata": {
    "colab": {
     "base_uri": "https://localhost:8080/"
    },
    "id": "6hvUF1wqnFUa",
    "outputId": "32f03c03-d8e4-4ee1-8d03-e4c0a982be1a"
   },
   "outputs": [
    {
     "data": {
      "text/plain": [
       "tensor([[-2.7768, -1.2353,  1.4419,  1.9804,  0.4584]],\n",
       "       grad_fn=<AddmmBackward0>)"
      ]
     },
     "execution_count": 14,
     "metadata": {},
     "output_type": "execute_result"
    }
   ],
   "source": [
    "result.logits\n"
   ]
  },
  {
   "cell_type": "code",
   "execution_count": 15,
   "metadata": {
    "colab": {
     "base_uri": "https://localhost:8080/"
    },
    "id": "ejn_mQ5YnHGT",
    "outputId": "53c4549b-d0b7-45b6-aaa2-dca8687bd8be"
   },
   "outputs": [
    {
     "data": {
      "text/plain": [
       "4"
      ]
     },
     "execution_count": 15,
     "metadata": {},
     "output_type": "execute_result"
    }
   ],
   "source": [
    "int(torch.argmax(result.logits))+1"
   ]
  },
  {
   "cell_type": "code",
   "execution_count": 16,
   "metadata": {
    "id": "Lubj8rU3nUWo"
   },
   "outputs": [],
   "source": [
    "def sentiment_score(review):\n",
    "    tokens = tokenizer.encode(review, return_tensors='pt')\n",
    "    result = model(tokens)\n",
    "    return int(torch.argmax(result.logits))+1"
   ]
  },
  {
   "cell_type": "code",
   "execution_count": 17,
   "metadata": {
    "colab": {
     "base_uri": "https://localhost:8080/"
    },
    "id": "ItySG83DnWi8",
    "outputId": "02864b50-3730-47ab-fff6-9a6026653e7c"
   },
   "outputs": [
    {
     "data": {
      "text/plain": [
       "5"
      ]
     },
     "execution_count": 17,
     "metadata": {},
     "output_type": "execute_result"
    }
   ],
   "source": [
    "sentiment_score(data['comments'].iloc[1])"
   ]
  },
  {
   "cell_type": "code",
   "execution_count": 18,
   "metadata": {
    "colab": {
     "base_uri": "https://localhost:8080/"
    },
    "id": "A1lWLqPTnadx",
    "outputId": "cdf8b9c7-807b-4360-b58d-56d583277be4"
   },
   "outputs": [
    {
     "name": "stderr",
     "output_type": "stream",
     "text": [
      "C:\\Users\\shann\\AppData\\Local\\Temp\\ipykernel_17172\\2235294302.py:1: SettingWithCopyWarning: \n",
      "A value is trying to be set on a copy of a slice from a DataFrame.\n",
      "Try using .loc[row_indexer,col_indexer] = value instead\n",
      "\n",
      "See the caveats in the documentation: https://pandas.pydata.org/pandas-docs/stable/user_guide/indexing.html#returning-a-view-versus-a-copy\n",
      "  data['sentiment'] = data['comments'][:1000].apply(lambda x: sentiment_score(x[:512]))\n"
     ]
    }
   ],
   "source": [
    "data['sentiment'] = data['comments'][:1000].apply(lambda x: sentiment_score(x[:512]))"
   ]
  },
  {
   "cell_type": "code",
   "execution_count": 19,
   "metadata": {
    "colab": {
     "base_uri": "https://localhost:8080/",
     "height": 641
    },
    "id": "r8bnfoJCaHc3",
    "outputId": "7c1cff32-cf62-4baa-d3d3-00549761e9cd"
   },
   "outputs": [
    {
     "data": {
      "text/html": [
       "<div>\n",
       "<style scoped>\n",
       "    .dataframe tbody tr th:only-of-type {\n",
       "        vertical-align: middle;\n",
       "    }\n",
       "\n",
       "    .dataframe tbody tr th {\n",
       "        vertical-align: top;\n",
       "    }\n",
       "\n",
       "    .dataframe thead th {\n",
       "        text-align: right;\n",
       "    }\n",
       "</style>\n",
       "<table border=\"1\" class=\"dataframe\">\n",
       "  <thead>\n",
       "    <tr style=\"text-align: right;\">\n",
       "      <th></th>\n",
       "      <th>listing_id</th>\n",
       "      <th>id</th>\n",
       "      <th>date</th>\n",
       "      <th>reviewer_id</th>\n",
       "      <th>reviewer_name</th>\n",
       "      <th>comments</th>\n",
       "      <th>sentiment</th>\n",
       "    </tr>\n",
       "  </thead>\n",
       "  <tbody>\n",
       "    <tr>\n",
       "      <th>0</th>\n",
       "      <td>7202016</td>\n",
       "      <td>38917982</td>\n",
       "      <td>2015-07-19</td>\n",
       "      <td>28943674</td>\n",
       "      <td>Bianca</td>\n",
       "      <td>Cute and cozy place. Perfect location to every...</td>\n",
       "      <td>5.0</td>\n",
       "    </tr>\n",
       "    <tr>\n",
       "      <th>1</th>\n",
       "      <td>7202016</td>\n",
       "      <td>39087409</td>\n",
       "      <td>2015-07-20</td>\n",
       "      <td>32440555</td>\n",
       "      <td>Frank</td>\n",
       "      <td>Kelly has a great room in a very central locat...</td>\n",
       "      <td>5.0</td>\n",
       "    </tr>\n",
       "    <tr>\n",
       "      <th>2</th>\n",
       "      <td>7202016</td>\n",
       "      <td>39820030</td>\n",
       "      <td>2015-07-26</td>\n",
       "      <td>37722850</td>\n",
       "      <td>Ian</td>\n",
       "      <td>Very spacious apartment, and in a great neighb...</td>\n",
       "      <td>4.0</td>\n",
       "    </tr>\n",
       "    <tr>\n",
       "      <th>3</th>\n",
       "      <td>7202016</td>\n",
       "      <td>40813543</td>\n",
       "      <td>2015-08-02</td>\n",
       "      <td>33671805</td>\n",
       "      <td>George</td>\n",
       "      <td>Close to Seattle Center and all it has to offe...</td>\n",
       "      <td>5.0</td>\n",
       "    </tr>\n",
       "    <tr>\n",
       "      <th>4</th>\n",
       "      <td>7202016</td>\n",
       "      <td>41986501</td>\n",
       "      <td>2015-08-10</td>\n",
       "      <td>34959538</td>\n",
       "      <td>Ming</td>\n",
       "      <td>Kelly was a great host and very accommodating ...</td>\n",
       "      <td>5.0</td>\n",
       "    </tr>\n",
       "    <tr>\n",
       "      <th>...</th>\n",
       "      <td>...</td>\n",
       "      <td>...</td>\n",
       "      <td>...</td>\n",
       "      <td>...</td>\n",
       "      <td>...</td>\n",
       "      <td>...</td>\n",
       "      <td>...</td>\n",
       "    </tr>\n",
       "    <tr>\n",
       "      <th>84844</th>\n",
       "      <td>3624990</td>\n",
       "      <td>50436321</td>\n",
       "      <td>2015-10-12</td>\n",
       "      <td>37419458</td>\n",
       "      <td>Ryan</td>\n",
       "      <td>The description and pictures of the apartment ...</td>\n",
       "      <td>NaN</td>\n",
       "    </tr>\n",
       "    <tr>\n",
       "      <th>84845</th>\n",
       "      <td>3624990</td>\n",
       "      <td>51024875</td>\n",
       "      <td>2015-10-17</td>\n",
       "      <td>6933252</td>\n",
       "      <td>Linda</td>\n",
       "      <td>We had an excellent stay. It was clean and com...</td>\n",
       "      <td>NaN</td>\n",
       "    </tr>\n",
       "    <tr>\n",
       "      <th>84846</th>\n",
       "      <td>3624990</td>\n",
       "      <td>51511988</td>\n",
       "      <td>2015-10-20</td>\n",
       "      <td>19543701</td>\n",
       "      <td>Jaime</td>\n",
       "      <td>Gran ubicación, cerca de todo lo atractivo del...</td>\n",
       "      <td>NaN</td>\n",
       "    </tr>\n",
       "    <tr>\n",
       "      <th>84847</th>\n",
       "      <td>3624990</td>\n",
       "      <td>52814482</td>\n",
       "      <td>2015-11-02</td>\n",
       "      <td>24445024</td>\n",
       "      <td>Jørgen</td>\n",
       "      <td>Very good apartement, clean and well sized. Si...</td>\n",
       "      <td>NaN</td>\n",
       "    </tr>\n",
       "    <tr>\n",
       "      <th>84848</th>\n",
       "      <td>9727246</td>\n",
       "      <td>56429621</td>\n",
       "      <td>2015-12-13</td>\n",
       "      <td>30860360</td>\n",
       "      <td>Stephanie</td>\n",
       "      <td>Breanne was a great host. Check in was easy, s...</td>\n",
       "      <td>NaN</td>\n",
       "    </tr>\n",
       "  </tbody>\n",
       "</table>\n",
       "<p>84831 rows × 7 columns</p>\n",
       "</div>"
      ],
      "text/plain": [
       "       listing_id        id        date  reviewer_id reviewer_name  \\\n",
       "0         7202016  38917982  2015-07-19     28943674        Bianca   \n",
       "1         7202016  39087409  2015-07-20     32440555         Frank   \n",
       "2         7202016  39820030  2015-07-26     37722850           Ian   \n",
       "3         7202016  40813543  2015-08-02     33671805        George   \n",
       "4         7202016  41986501  2015-08-10     34959538          Ming   \n",
       "...           ...       ...         ...          ...           ...   \n",
       "84844     3624990  50436321  2015-10-12     37419458          Ryan   \n",
       "84845     3624990  51024875  2015-10-17      6933252         Linda   \n",
       "84846     3624990  51511988  2015-10-20     19543701         Jaime   \n",
       "84847     3624990  52814482  2015-11-02     24445024        Jørgen   \n",
       "84848     9727246  56429621  2015-12-13     30860360     Stephanie   \n",
       "\n",
       "                                                comments  sentiment  \n",
       "0      Cute and cozy place. Perfect location to every...        5.0  \n",
       "1      Kelly has a great room in a very central locat...        5.0  \n",
       "2      Very spacious apartment, and in a great neighb...        4.0  \n",
       "3      Close to Seattle Center and all it has to offe...        5.0  \n",
       "4      Kelly was a great host and very accommodating ...        5.0  \n",
       "...                                                  ...        ...  \n",
       "84844  The description and pictures of the apartment ...        NaN  \n",
       "84845  We had an excellent stay. It was clean and com...        NaN  \n",
       "84846  Gran ubicación, cerca de todo lo atractivo del...        NaN  \n",
       "84847  Very good apartement, clean and well sized. Si...        NaN  \n",
       "84848  Breanne was a great host. Check in was easy, s...        NaN  \n",
       "\n",
       "[84831 rows x 7 columns]"
      ]
     },
     "execution_count": 19,
     "metadata": {},
     "output_type": "execute_result"
    }
   ],
   "source": [
    "data"
   ]
  },
  {
   "cell_type": "code",
   "execution_count": 20,
   "metadata": {
    "colab": {
     "base_uri": "https://localhost:8080/",
     "height": 641
    },
    "id": "d98Dz10QVYQs",
    "outputId": "7b94ee00-3042-4136-e2ab-0c0b576d7d66"
   },
   "outputs": [
    {
     "data": {
      "text/html": [
       "<div>\n",
       "<style scoped>\n",
       "    .dataframe tbody tr th:only-of-type {\n",
       "        vertical-align: middle;\n",
       "    }\n",
       "\n",
       "    .dataframe tbody tr th {\n",
       "        vertical-align: top;\n",
       "    }\n",
       "\n",
       "    .dataframe thead th {\n",
       "        text-align: right;\n",
       "    }\n",
       "</style>\n",
       "<table border=\"1\" class=\"dataframe\">\n",
       "  <thead>\n",
       "    <tr style=\"text-align: right;\">\n",
       "      <th></th>\n",
       "      <th>listing_id</th>\n",
       "      <th>id</th>\n",
       "      <th>date</th>\n",
       "      <th>reviewer_id</th>\n",
       "      <th>reviewer_name</th>\n",
       "      <th>comments</th>\n",
       "      <th>sentiment</th>\n",
       "    </tr>\n",
       "  </thead>\n",
       "  <tbody>\n",
       "    <tr>\n",
       "      <th>0</th>\n",
       "      <td>7202016</td>\n",
       "      <td>38917982</td>\n",
       "      <td>2015-07-19</td>\n",
       "      <td>28943674</td>\n",
       "      <td>Bianca</td>\n",
       "      <td>Cute and cozy place. Perfect location to every...</td>\n",
       "      <td>5.0</td>\n",
       "    </tr>\n",
       "    <tr>\n",
       "      <th>1</th>\n",
       "      <td>7202016</td>\n",
       "      <td>39087409</td>\n",
       "      <td>2015-07-20</td>\n",
       "      <td>32440555</td>\n",
       "      <td>Frank</td>\n",
       "      <td>Kelly has a great room in a very central locat...</td>\n",
       "      <td>5.0</td>\n",
       "    </tr>\n",
       "    <tr>\n",
       "      <th>2</th>\n",
       "      <td>7202016</td>\n",
       "      <td>39820030</td>\n",
       "      <td>2015-07-26</td>\n",
       "      <td>37722850</td>\n",
       "      <td>Ian</td>\n",
       "      <td>Very spacious apartment, and in a great neighb...</td>\n",
       "      <td>4.0</td>\n",
       "    </tr>\n",
       "    <tr>\n",
       "      <th>3</th>\n",
       "      <td>7202016</td>\n",
       "      <td>40813543</td>\n",
       "      <td>2015-08-02</td>\n",
       "      <td>33671805</td>\n",
       "      <td>George</td>\n",
       "      <td>Close to Seattle Center and all it has to offe...</td>\n",
       "      <td>5.0</td>\n",
       "    </tr>\n",
       "    <tr>\n",
       "      <th>4</th>\n",
       "      <td>7202016</td>\n",
       "      <td>41986501</td>\n",
       "      <td>2015-08-10</td>\n",
       "      <td>34959538</td>\n",
       "      <td>Ming</td>\n",
       "      <td>Kelly was a great host and very accommodating ...</td>\n",
       "      <td>5.0</td>\n",
       "    </tr>\n",
       "    <tr>\n",
       "      <th>...</th>\n",
       "      <td>...</td>\n",
       "      <td>...</td>\n",
       "      <td>...</td>\n",
       "      <td>...</td>\n",
       "      <td>...</td>\n",
       "      <td>...</td>\n",
       "      <td>...</td>\n",
       "    </tr>\n",
       "    <tr>\n",
       "      <th>995</th>\n",
       "      <td>1707064</td>\n",
       "      <td>51046100</td>\n",
       "      <td>2015-10-17</td>\n",
       "      <td>27275711</td>\n",
       "      <td>Emily</td>\n",
       "      <td>Cory and Amanda were wonderful hosts! The chec...</td>\n",
       "      <td>5.0</td>\n",
       "    </tr>\n",
       "    <tr>\n",
       "      <th>996</th>\n",
       "      <td>1707064</td>\n",
       "      <td>51922162</td>\n",
       "      <td>2015-10-25</td>\n",
       "      <td>6770493</td>\n",
       "      <td>Agnieszka</td>\n",
       "      <td>My friend and I came to Seattle for a birthday...</td>\n",
       "      <td>4.0</td>\n",
       "    </tr>\n",
       "    <tr>\n",
       "      <th>997</th>\n",
       "      <td>1707064</td>\n",
       "      <td>52525277</td>\n",
       "      <td>2015-10-30</td>\n",
       "      <td>6210581</td>\n",
       "      <td>Ed</td>\n",
       "      <td>Cory and Amanda's place was wonderful! Located...</td>\n",
       "      <td>5.0</td>\n",
       "    </tr>\n",
       "    <tr>\n",
       "      <th>998</th>\n",
       "      <td>1707064</td>\n",
       "      <td>53439038</td>\n",
       "      <td>2015-11-08</td>\n",
       "      <td>1101965</td>\n",
       "      <td>Lesli</td>\n",
       "      <td>We had an amazing stay with Cory and Amanda!  ...</td>\n",
       "      <td>5.0</td>\n",
       "    </tr>\n",
       "    <tr>\n",
       "      <th>999</th>\n",
       "      <td>1707064</td>\n",
       "      <td>53658766</td>\n",
       "      <td>2015-11-10</td>\n",
       "      <td>9336316</td>\n",
       "      <td>Andrew</td>\n",
       "      <td>Great communication from the hosts before, thr...</td>\n",
       "      <td>5.0</td>\n",
       "    </tr>\n",
       "  </tbody>\n",
       "</table>\n",
       "<p>1000 rows × 7 columns</p>\n",
       "</div>"
      ],
      "text/plain": [
       "     listing_id        id        date  reviewer_id reviewer_name  \\\n",
       "0       7202016  38917982  2015-07-19     28943674        Bianca   \n",
       "1       7202016  39087409  2015-07-20     32440555         Frank   \n",
       "2       7202016  39820030  2015-07-26     37722850           Ian   \n",
       "3       7202016  40813543  2015-08-02     33671805        George   \n",
       "4       7202016  41986501  2015-08-10     34959538          Ming   \n",
       "..          ...       ...         ...          ...           ...   \n",
       "995     1707064  51046100  2015-10-17     27275711         Emily   \n",
       "996     1707064  51922162  2015-10-25      6770493     Agnieszka   \n",
       "997     1707064  52525277  2015-10-30      6210581            Ed   \n",
       "998     1707064  53439038  2015-11-08      1101965         Lesli   \n",
       "999     1707064  53658766  2015-11-10      9336316        Andrew   \n",
       "\n",
       "                                              comments  sentiment  \n",
       "0    Cute and cozy place. Perfect location to every...        5.0  \n",
       "1    Kelly has a great room in a very central locat...        5.0  \n",
       "2    Very spacious apartment, and in a great neighb...        4.0  \n",
       "3    Close to Seattle Center and all it has to offe...        5.0  \n",
       "4    Kelly was a great host and very accommodating ...        5.0  \n",
       "..                                                 ...        ...  \n",
       "995  Cory and Amanda were wonderful hosts! The chec...        5.0  \n",
       "996  My friend and I came to Seattle for a birthday...        4.0  \n",
       "997  Cory and Amanda's place was wonderful! Located...        5.0  \n",
       "998  We had an amazing stay with Cory and Amanda!  ...        5.0  \n",
       "999  Great communication from the hosts before, thr...        5.0  \n",
       "\n",
       "[1000 rows x 7 columns]"
      ]
     },
     "execution_count": 20,
     "metadata": {},
     "output_type": "execute_result"
    }
   ],
   "source": [
    "data = data.dropna()\n",
    "data"
   ]
  },
  {
   "cell_type": "code",
   "execution_count": 21,
   "metadata": {
    "colab": {
     "base_uri": "https://localhost:8080/"
    },
    "id": "j6E2o640neyf",
    "outputId": "964d82f4-66ad-4318-89e2-e6d99d3ba211"
   },
   "outputs": [
    {
     "data": {
      "text/plain": [
       "0    Cute and cozy place. Perfect location to every...\n",
       "Name: comments, dtype: object"
      ]
     },
     "execution_count": 21,
     "metadata": {},
     "output_type": "execute_result"
    }
   ],
   "source": [
    "data['comments'][:1]"
   ]
  },
  {
   "cell_type": "markdown",
   "metadata": {
    "id": "Q-b_G1tvpMwm"
   },
   "source": [
    "Onehot encoding"
   ]
  },
  {
   "cell_type": "code",
   "execution_count": 22,
   "metadata": {
    "id": "tAdnMxK1P-UZ"
   },
   "outputs": [],
   "source": [
    "text = data['comments'].tolist()"
   ]
  },
  {
   "cell_type": "code",
   "execution_count": 23,
   "metadata": {
    "colab": {
     "base_uri": "https://localhost:8080/"
    },
    "id": "YmnE7UbWPzKN",
    "outputId": "14076165-2a43-48eb-eaf9-82f11befe5f1"
   },
   "outputs": [
    {
     "name": "stdout",
     "output_type": "stream",
     "text": [
      "     Beach  attending.  feel  Broadway  Jess  offen,  advance.  since  Top  \\\n",
      "0        0           0     0         0     0       0         0      0    0   \n",
      "1        0           0     0         0     0       0         0      0    0   \n",
      "2        0           0     0         0     0       0         0      1    0   \n",
      "3        0           0     0         0     0       0         0      0    0   \n",
      "4        0           0     0         0     0       0         0      0    0   \n",
      "..     ...         ...   ...       ...   ...     ...       ...    ...  ...   \n",
      "995      0           0     0         0     0       0         0      0    0   \n",
      "996      0           0     0         0     0       0         0      0    0   \n",
      "997      0           0     0         0     0       0         0      0    0   \n",
      "998      0           0     0         0     0       0         0      0    0   \n",
      "999      0           0     0         0     0       0         0      0    0   \n",
      "\n",
      "     overnight.  ...  That's  you!!  sehr  matter  Farrah  geschrieben  tons  \\\n",
      "0             0  ...       0      0     0       0       0            0     0   \n",
      "1             0  ...       0      0     0       0       0            0     0   \n",
      "2             0  ...       0      0     0       0       0            0     0   \n",
      "3             0  ...       0      0     0       0       0            0     0   \n",
      "4             0  ...       0      0     0       0       0            0     0   \n",
      "..          ...  ...     ...    ...   ...     ...     ...          ...   ...   \n",
      "995           0  ...       0      0     0       0       0            0     0   \n",
      "996           0  ...       0      0     0       0       0            0     0   \n",
      "997           0  ...       0      0     0       0       0            0     0   \n",
      "998           0  ...       0      0     0       0       0            0     0   \n",
      "999           0  ...       0      0     0       0       0            0     0   \n",
      "\n",
      "     zu  return  easier.  \n",
      "0     0       0        0  \n",
      "1     0       0        0  \n",
      "2     0       0        0  \n",
      "3     0       0        0  \n",
      "4     0       0        0  \n",
      "..   ..     ...      ...  \n",
      "995   0       0        0  \n",
      "996   0       0        0  \n",
      "997   0       0        0  \n",
      "998   0       0        0  \n",
      "999   0       0        0  \n",
      "\n",
      "[1000 rows x 7575 columns]\n"
     ]
    }
   ],
   "source": [
    "\n",
    "\n",
    "# Create a vocabulary of all the unique words in the text\n",
    "vocabulary = list(set([word for line in text for word in line.split()]))\n",
    "\n",
    "# Create an empty dictionary to hold the one-hot encoding\n",
    "one_hot_dict = {}\n",
    "\n",
    "# Loop through the words in the vocabulary and set the binary values for each word in the text\n",
    "for word in vocabulary:\n",
    "    one_hot_dict[word] = []\n",
    "    for line in text:\n",
    "        if word in line:\n",
    "            one_hot_dict[word].append(1)\n",
    "        else:\n",
    "            one_hot_dict[word].append(0)\n",
    "\n",
    "# Create a Pandas DataFrame from the one-hot dictionary\n",
    "df = pd.DataFrame.from_dict(one_hot_dict)\n",
    "\n",
    "# Print the DataFrame\n",
    "print(df)\n"
   ]
  },
  {
   "cell_type": "code",
   "execution_count": 24,
   "metadata": {
    "id": "WAN6g5RCQOtW"
   },
   "outputs": [],
   "source": [
    "X = df.copy()\n",
    "y = data['sentiment']"
   ]
  },
  {
   "cell_type": "code",
   "execution_count": 25,
   "metadata": {
    "colab": {
     "base_uri": "https://localhost:8080/"
    },
    "id": "53bVtFDDkhvX",
    "outputId": "cbffea15-84aa-4309-beba-75e8333617df"
   },
   "outputs": [
    {
     "data": {
      "text/plain": [
       "5.0    699\n",
       "4.0    282\n",
       "3.0     11\n",
       "1.0      6\n",
       "2.0      2\n",
       "Name: sentiment, dtype: int64"
      ]
     },
     "execution_count": 25,
     "metadata": {},
     "output_type": "execute_result"
    }
   ],
   "source": [
    "y.value_counts()"
   ]
  },
  {
   "cell_type": "code",
   "execution_count": 26,
   "metadata": {
    "colab": {
     "base_uri": "https://localhost:8080/",
     "height": 369
    },
    "id": "-fSFzf5ElQS1",
    "outputId": "93b7d6e8-14bd-4a65-8ff0-21fce731ebbd"
   },
   "outputs": [
    {
     "data": {
      "image/png": "[encoded data removed]",
      "text/plain": [
       "<Figure size 1000x500 with 1 Axes>"
      ]
     },
     "metadata": {},
     "output_type": "display_data"
    }
   ],
   "source": [
    "\n",
    "from matplotlib import pyplot as plt\n",
    "def label_function(val):\n",
    "    return f'{val / 100 * len(df):.0f}\\n{val:.0f}%'\n",
    "\n",
    "fig, (ax1) = plt.subplots(ncols=1, figsize=(10, 5))\n",
    "\n",
    "data.groupby('sentiment').size().plot(kind='pie', autopct=label_function, textprops={'fontsize': 20},\n",
    "                                  colors=['tomato', 'violet', 'skyblue','gold','lime'], ax=ax1)\n",
    "ax1.set_ylabel('sentiment Value', size=22)\n",
    "plt.tight_layout()\n",
    "plt.show()"
   ]
  },
  {
   "cell_type": "code",
   "execution_count": 27,
   "metadata": {
    "id": "_IPRr1ggRDNP"
   },
   "outputs": [],
   "source": [
    "from sklearn.model_selection import train_test_split\n",
    "\n",
    "X_train, X_test, y_train, y_test = train_test_split(X, y, test_size=0.10, random_state=70)"
   ]
  },
  {
   "cell_type": "code",
   "execution_count": 28,
   "metadata": {
    "id": "601zntD0pJIs"
   },
   "outputs": [],
   "source": [
    "# Import the necessary libraries\n",
    "import numpy as np\n",
    "import tensorflow as tf\n",
    "from tensorflow import keras\n",
    "\n",
    "# Define the DNN architecture\n",
    "model = keras.Sequential([\n",
    "    keras.layers.Dense(1000, activation='relu'),\n",
    "    keras.layers.Dense(500, activation='relu'),\n",
    "    keras.layers.Dense(250, activation='relu'),\n",
    "    keras.layers.Dense(128, activation='relu'),\n",
    "    keras.layers.Dense(64, activation='relu'),\n",
    "    keras.layers.Dense(32, activation='relu'),\n",
    "    keras.layers.Dense(16, activation='relu'),\n",
    "    keras.layers.Dense(8, activation='relu'),\n",
    "    keras.layers.Dense(4, activation='relu'),\n",
    "    keras.layers.Dense(2, activation='relu'),\n",
    "    keras.layers.Dense(1, activation='sigmoid')\n",
    "])\n",
    "\n",
    "# Compile the model\n",
    "model.compile(optimizer='adam', loss='binary_crossentropy', metrics=['accuracy'])\n",
    "\n",
    "\n"
   ]
  },
  {
   "cell_type": "code",
   "execution_count": 29,
   "metadata": {
    "colab": {
     "base_uri": "https://localhost:8080/"
    },
    "id": "JwrXprLaniKN",
    "outputId": "84874cd9-58e0-459d-e0ee-6066a77ab3a8"
   },
   "outputs": [
    {
     "name": "stdout",
     "output_type": "stream",
     "text": [
      "Epoch 1/10\n",
      "10/10 [==============================] - 6s 164ms/step - loss: -8.2593 - accuracy: 0.0037 - val_loss: -54.3066 - val_accuracy: 0.0222\n",
      "Epoch 2/10\n",
      "10/10 [==============================] - 1s 110ms/step - loss: -415.2856 - accuracy: 0.0049 - val_loss: -1560.5311 - val_accuracy: 0.0222\n",
      "Epoch 3/10\n",
      "10/10 [==============================] - 1s 125ms/step - loss: -6838.7915 - accuracy: 0.0049 - val_loss: -20465.2480 - val_accuracy: 0.0222\n",
      "Epoch 4/10\n",
      "10/10 [==============================] - 1s 134ms/step - loss: -68171.8281 - accuracy: 0.0049 - val_loss: -178660.7188 - val_accuracy: 0.0222\n",
      "Epoch 5/10\n",
      "10/10 [==============================] - 1s 139ms/step - loss: -504351.4062 - accuracy: 0.0049 - val_loss: -1183319.0000 - val_accuracy: 0.0222\n",
      "Epoch 6/10\n",
      "10/10 [==============================] - 1s 133ms/step - loss: -2914739.5000 - accuracy: 0.0049 - val_loss: -6365722.5000 - val_accuracy: 0.0222\n",
      "Epoch 7/10\n",
      "10/10 [==============================] - 1s 148ms/step - loss: -14532569.0000 - accuracy: 0.0049 - val_loss: -29400820.0000 - val_accuracy: 0.0222\n",
      "Epoch 8/10\n",
      "10/10 [==============================] - 1s 141ms/step - loss: -61452828.0000 - accuracy: 0.0049 - val_loss: -119353096.0000 - val_accuracy: 0.0222\n",
      "Epoch 9/10\n",
      "10/10 [==============================] - 2s 177ms/step - loss: -236361728.0000 - accuracy: 0.0049 - val_loss: -435349600.0000 - val_accuracy: 0.0222\n",
      "Epoch 10/10\n",
      "10/10 [==============================] - 2s 225ms/step - loss: -811021120.0000 - accuracy: 0.0049 - val_loss: -1444274304.0000 - val_accuracy: 0.0222\n",
      "4/4 [==============================] - 0s 22ms/step - loss: -1445241344.0000 - accuracy: 0.0000e+00\n",
      "Test accuracy: 0.0\n"
     ]
    }
   ],
   "source": [
    "# Train the model\n",
    "history=model.fit(X_train.to_numpy(), y_train.to_numpy(), epochs=10, batch_size=82, validation_split=0.1)\n",
    "\n",
    "# Evaluate the model on the test set\n",
    "test_loss, test_acc = model.evaluate(X_test.to_numpy(), y_test.to_numpy())\n",
    "print('Test accuracy:', test_acc)"
   ]
  },
  {
   "cell_type": "code",
   "execution_count": 30,
   "metadata": {
    "id": "qwvKDMTnRMws"
   },
   "outputs": [
    {
     "data": {
      "image/png": "[encoded data removed]",
      "text/plain": [
       "<Figure size 640x480 with 1 Axes>"
      ]
     },
     "metadata": {},
     "output_type": "display_data"
    }
   ],
   "source": [
    "import keras\n",
    "from matplotlib import pyplot as plt\n",
    "plt.plot(history.history['accuracy'])\n",
    "plt.plot(history.history['val_accuracy'])\n",
    "plt.title('model accuracy')\n",
    "plt.ylabel('accuracy')\n",
    "plt.xlabel('epoch')\n",
    "plt.legend(['train', 'val'], loc='upper left')\n",
    "plt.show()"
   ]
  },
  {
   "cell_type": "code",
   "execution_count": 31,
   "metadata": {
    "id": "9FzqnCsqduIb"
   },
   "outputs": [
    {
     "data": {
      "image/png": "[encoded data removed]",
      "text/plain": [
       "<Figure size 640x480 with 1 Axes>"
      ]
     },
     "metadata": {},
     "output_type": "display_data"
    }
   ],
   "source": [
    "plt.plot(history.history['loss'])\n",
    "plt.plot(history.history['val_loss'])\n",
    "plt.title('model loss')\n",
    "plt.ylabel('loss')\n",
    "plt.xlabel('epoch')\n",
    "plt.legend(['train', 'val'], loc='upper left')\n",
    "plt.show()"
   ]
  },
  {
   "cell_type": "code",
   "execution_count": null,
   "metadata": {},
   "outputs": [],
   "source": []
  },
  {
   "cell_type": "code",
   "execution_count": null,
   "metadata": {},
   "outputs": [],
   "source": []
  }
 ],
 "metadata": {
  "colab": {
   "provenance": []
  },
  "kernelspec": {
   "display_name": "Python 3 (ipykernel)",
   "language": "python",
   "name": "python3"
  },
  "language_info": {
   "codemirror_mode": {
    "name": "ipython",
    "version": 3
   },
   "file_extension": ".py",
   "mimetype": "text/x-python",
   "name": "python",
   "nbconvert_exporter": "python",
   "pygments_lexer": "ipython3",
   "version": "3.9.13"
  }
 },
 "nbformat": 4,
 "nbformat_minor": 1
}
